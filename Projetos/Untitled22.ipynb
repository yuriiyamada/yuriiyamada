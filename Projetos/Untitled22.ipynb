{
 "cells": [
  {
   "cell_type": "code",
   "execution_count": 9,
   "id": "586f3d75",
   "metadata": {},
   "outputs": [
    {
     "ename": "ERROR",
     "evalue": "Error in library(gridExtra): there is no package called 'gridExtra'\n",
     "output_type": "error",
     "traceback": [
      "Error in library(gridExtra): there is no package called 'gridExtra'\nTraceback:\n",
      "1. library(gridExtra)"
     ]
    }
   ],
   "source": [
    "#Iimportando os pacotes\n",
    "library(caret)\n",
    "library(ggplot2)\n",
    "library(gridExtra)\n",
    "library(data.table)\n",
    "library(car)\n",
    "library(caTools)\n",
    "library(corrplot)\n",
    "library(rpart)\n",
    "library(rpart.plot)"
   ]
  },
  {
   "cell_type": "code",
   "execution_count": 23,
   "id": "caaa22eb",
   "metadata": {},
   "outputs": [],
   "source": [
    "# Carregando a base de dados\n",
    "dados_rh = read.csv(\"dataset.csv\")"
   ]
  },
  {
   "cell_type": "code",
   "execution_count": 26,
   "id": "f7120a14",
   "metadata": {},
   "outputs": [
    {
     "data": {
      "text/html": [
       "<table>\n",
       "<thead><tr><th scope=col>Age</th><th scope=col>Attrition</th><th scope=col>BusinessTravel</th><th scope=col>Department</th><th scope=col>DistanceFromHome</th><th scope=col>Education</th><th scope=col>EducationField</th><th scope=col>EnvironmentSatisfaction</th><th scope=col>Gender</th><th scope=col>JobInvolvement</th><th scope=col>...</th><th scope=col>StockOptionLevel</th><th scope=col>TotalWorkingYears</th><th scope=col>TrainingTimesLastYear</th><th scope=col>WorkLifeBalance</th><th scope=col>YearsAtCompany</th><th scope=col>YearsInCurrentRole</th><th scope=col>YearsSinceLastPromotion</th><th scope=col>YearsWithCurrManager</th><th scope=col>Employee.Source</th><th scope=col>AgeStartedWorking</th></tr></thead>\n",
       "<tbody>\n",
       "\t<tr><td>41                   </td><td>Voluntary Resignation</td><td>Travel_Rarely        </td><td>Sales                </td><td>1                    </td><td>2                    </td><td>Life Sciences        </td><td>2                    </td><td>Female               </td><td>3                    </td><td>...                  </td><td>0                    </td><td>8                    </td><td>0                    </td><td>1                    </td><td>6                    </td><td>4                    </td><td>0                    </td><td>5                    </td><td>Referral             </td><td>33                   </td></tr>\n",
       "\t<tr><td>37                   </td><td>Voluntary Resignation</td><td>Travel_Rarely        </td><td>Human Resources      </td><td>6                    </td><td>4                    </td><td>Human Resources      </td><td>1                    </td><td>Female               </td><td>3                    </td><td>...                  </td><td>0                    </td><td>8                    </td><td>0                    </td><td>1                    </td><td>6                    </td><td>4                    </td><td>0                    </td><td>5                    </td><td>Referral             </td><td>29                   </td></tr>\n",
       "\t<tr><td>41                   </td><td>Voluntary Resignation</td><td>Travel_Rarely        </td><td>Sales                </td><td>1                    </td><td>2                    </td><td>Life Sciences        </td><td>2                    </td><td>Female               </td><td>3                    </td><td>...                  </td><td>0                    </td><td>8                    </td><td>0                    </td><td>1                    </td><td>6                    </td><td>4                    </td><td>0                    </td><td>5                    </td><td>Referral             </td><td>33                   </td></tr>\n",
       "\t<tr><td>37                   </td><td>Voluntary Resignation</td><td>Travel_Rarely        </td><td>Human Resources      </td><td>6                    </td><td>4                    </td><td>Marketing            </td><td>1                    </td><td>Female               </td><td>3                    </td><td>...                  </td><td>0                    </td><td>8                    </td><td>0                    </td><td>1                    </td><td>6                    </td><td>4                    </td><td>0                    </td><td>5                    </td><td>Referral             </td><td>29                   </td></tr>\n",
       "\t<tr><td>37                   </td><td>Voluntary Resignation</td><td>Travel_Rarely        </td><td>Human Resources      </td><td>6                    </td><td>4                    </td><td>Human Resources      </td><td>1                    </td><td>Female               </td><td>3                    </td><td>...                  </td><td>0                    </td><td>8                    </td><td>0                    </td><td>1                    </td><td>6                    </td><td>4                    </td><td>0                    </td><td>5                    </td><td>Referral             </td><td>29                   </td></tr>\n",
       "\t<tr><td>37                   </td><td>Voluntary Resignation</td><td>Travel_Rarely        </td><td>Human Resources      </td><td>6                    </td><td>4                    </td><td>Marketing            </td><td>1                    </td><td>Female               </td><td>3                    </td><td>...                  </td><td>0                    </td><td>8                    </td><td>0                    </td><td>1                    </td><td>6                    </td><td>4                    </td><td>0                    </td><td>5                    </td><td>Referral             </td><td>29                   </td></tr>\n",
       "</tbody>\n",
       "</table>\n"
      ],
      "text/latex": [
       "\\begin{tabular}{r|llllllllllllllllllllllllllllll}\n",
       " Age & Attrition & BusinessTravel & Department & DistanceFromHome & Education & EducationField & EnvironmentSatisfaction & Gender & JobInvolvement & ... & StockOptionLevel & TotalWorkingYears & TrainingTimesLastYear & WorkLifeBalance & YearsAtCompany & YearsInCurrentRole & YearsSinceLastPromotion & YearsWithCurrManager & Employee.Source & AgeStartedWorking\\\\\n",
       "\\hline\n",
       "\t 41                    & Voluntary Resignation & Travel\\_Rarely       & Sales                 & 1                     & 2                     & Life Sciences         & 2                     & Female                & 3                     & ...                   & 0                     & 8                     & 0                     & 1                     & 6                     & 4                     & 0                     & 5                     & Referral              & 33                   \\\\\n",
       "\t 37                    & Voluntary Resignation & Travel\\_Rarely       & Human Resources       & 6                     & 4                     & Human Resources       & 1                     & Female                & 3                     & ...                   & 0                     & 8                     & 0                     & 1                     & 6                     & 4                     & 0                     & 5                     & Referral              & 29                   \\\\\n",
       "\t 41                    & Voluntary Resignation & Travel\\_Rarely       & Sales                 & 1                     & 2                     & Life Sciences         & 2                     & Female                & 3                     & ...                   & 0                     & 8                     & 0                     & 1                     & 6                     & 4                     & 0                     & 5                     & Referral              & 33                   \\\\\n",
       "\t 37                    & Voluntary Resignation & Travel\\_Rarely       & Human Resources       & 6                     & 4                     & Marketing             & 1                     & Female                & 3                     & ...                   & 0                     & 8                     & 0                     & 1                     & 6                     & 4                     & 0                     & 5                     & Referral              & 29                   \\\\\n",
       "\t 37                    & Voluntary Resignation & Travel\\_Rarely       & Human Resources       & 6                     & 4                     & Human Resources       & 1                     & Female                & 3                     & ...                   & 0                     & 8                     & 0                     & 1                     & 6                     & 4                     & 0                     & 5                     & Referral              & 29                   \\\\\n",
       "\t 37                    & Voluntary Resignation & Travel\\_Rarely       & Human Resources       & 6                     & 4                     & Marketing             & 1                     & Female                & 3                     & ...                   & 0                     & 8                     & 0                     & 1                     & 6                     & 4                     & 0                     & 5                     & Referral              & 29                   \\\\\n",
       "\\end{tabular}\n"
      ],
      "text/markdown": [
       "\n",
       "| Age | Attrition | BusinessTravel | Department | DistanceFromHome | Education | EducationField | EnvironmentSatisfaction | Gender | JobInvolvement | ... | StockOptionLevel | TotalWorkingYears | TrainingTimesLastYear | WorkLifeBalance | YearsAtCompany | YearsInCurrentRole | YearsSinceLastPromotion | YearsWithCurrManager | Employee.Source | AgeStartedWorking |\n",
       "|---|---|---|---|---|---|---|---|---|---|---|---|---|---|---|---|---|---|---|---|---|\n",
       "| 41                    | Voluntary Resignation | Travel_Rarely         | Sales                 | 1                     | 2                     | Life Sciences         | 2                     | Female                | 3                     | ...                   | 0                     | 8                     | 0                     | 1                     | 6                     | 4                     | 0                     | 5                     | Referral              | 33                    |\n",
       "| 37                    | Voluntary Resignation | Travel_Rarely         | Human Resources       | 6                     | 4                     | Human Resources       | 1                     | Female                | 3                     | ...                   | 0                     | 8                     | 0                     | 1                     | 6                     | 4                     | 0                     | 5                     | Referral              | 29                    |\n",
       "| 41                    | Voluntary Resignation | Travel_Rarely         | Sales                 | 1                     | 2                     | Life Sciences         | 2                     | Female                | 3                     | ...                   | 0                     | 8                     | 0                     | 1                     | 6                     | 4                     | 0                     | 5                     | Referral              | 33                    |\n",
       "| 37                    | Voluntary Resignation | Travel_Rarely         | Human Resources       | 6                     | 4                     | Marketing             | 1                     | Female                | 3                     | ...                   | 0                     | 8                     | 0                     | 1                     | 6                     | 4                     | 0                     | 5                     | Referral              | 29                    |\n",
       "| 37                    | Voluntary Resignation | Travel_Rarely         | Human Resources       | 6                     | 4                     | Human Resources       | 1                     | Female                | 3                     | ...                   | 0                     | 8                     | 0                     | 1                     | 6                     | 4                     | 0                     | 5                     | Referral              | 29                    |\n",
       "| 37                    | Voluntary Resignation | Travel_Rarely         | Human Resources       | 6                     | 4                     | Marketing             | 1                     | Female                | 3                     | ...                   | 0                     | 8                     | 0                     | 1                     | 6                     | 4                     | 0                     | 5                     | Referral              | 29                    |\n",
       "\n"
      ],
      "text/plain": [
       "  Age Attrition             BusinessTravel Department      DistanceFromHome\n",
       "1 41  Voluntary Resignation Travel_Rarely  Sales           1               \n",
       "2 37  Voluntary Resignation Travel_Rarely  Human Resources 6               \n",
       "3 41  Voluntary Resignation Travel_Rarely  Sales           1               \n",
       "4 37  Voluntary Resignation Travel_Rarely  Human Resources 6               \n",
       "5 37  Voluntary Resignation Travel_Rarely  Human Resources 6               \n",
       "6 37  Voluntary Resignation Travel_Rarely  Human Resources 6               \n",
       "  Education EducationField  EnvironmentSatisfaction Gender JobInvolvement ...\n",
       "1 2         Life Sciences   2                       Female 3              ...\n",
       "2 4         Human Resources 1                       Female 3              ...\n",
       "3 2         Life Sciences   2                       Female 3              ...\n",
       "4 4         Marketing       1                       Female 3              ...\n",
       "5 4         Human Resources 1                       Female 3              ...\n",
       "6 4         Marketing       1                       Female 3              ...\n",
       "  StockOptionLevel TotalWorkingYears TrainingTimesLastYear WorkLifeBalance\n",
       "1 0                8                 0                     1              \n",
       "2 0                8                 0                     1              \n",
       "3 0                8                 0                     1              \n",
       "4 0                8                 0                     1              \n",
       "5 0                8                 0                     1              \n",
       "6 0                8                 0                     1              \n",
       "  YearsAtCompany YearsInCurrentRole YearsSinceLastPromotion\n",
       "1 6              4                  0                      \n",
       "2 6              4                  0                      \n",
       "3 6              4                  0                      \n",
       "4 6              4                  0                      \n",
       "5 6              4                  0                      \n",
       "6 6              4                  0                      \n",
       "  YearsWithCurrManager Employee.Source AgeStartedWorking\n",
       "1 5                    Referral        33               \n",
       "2 5                    Referral        29               \n",
       "3 5                    Referral        33               \n",
       "4 5                    Referral        29               \n",
       "5 5                    Referral        29               \n",
       "6 5                    Referral        29               "
      ]
     },
     "metadata": {},
     "output_type": "display_data"
    }
   ],
   "source": [
    "head(dados_rh)"
   ]
  },
  {
   "cell_type": "code",
   "execution_count": 27,
   "id": "52ac7411",
   "metadata": {},
   "outputs": [
    {
     "data": {
      "text/html": [
       "<table>\n",
       "<thead><tr><th scope=col>n</th></tr></thead>\n",
       "<tbody>\n",
       "\t<tr><td>23058</td></tr>\n",
       "</tbody>\n",
       "</table>\n"
      ],
      "text/latex": [
       "\\begin{tabular}{r|l}\n",
       " n\\\\\n",
       "\\hline\n",
       "\t 23058\\\\\n",
       "\\end{tabular}\n"
      ],
      "text/markdown": [
       "\n",
       "| n |\n",
       "|---|\n",
       "| 23058 |\n",
       "\n"
      ],
      "text/plain": [
       "  n    \n",
       "1 23058"
      ]
     },
     "metadata": {},
     "output_type": "display_data"
    }
   ],
   "source": [
    "# Contagem de registros\n",
    "count(dados_rh)"
   ]
  },
  {
   "cell_type": "code",
   "execution_count": 28,
   "id": "43efd68f",
   "metadata": {},
   "outputs": [
    {
     "data": {
      "text/plain": [
       "      Age                        Attrition               BusinessTravel \n",
       " Min.   :18.00   Current employee     :19370   Non-Travel       : 2344  \n",
       " 1st Qu.:30.00   Termination          :   87   Travel_Frequently: 4378  \n",
       " Median :36.00   Voluntary Resignation: 3601   Travel_Rarely    :16336  \n",
       " Mean   :37.04                                                          \n",
       " 3rd Qu.:43.00                                                          \n",
       " Max.   :60.00                                                          \n",
       "                                                                        \n",
       "                  Department    DistanceFromHome   Education    \n",
       " Human Resources       : 1010   Min.   : 1.000   Min.   :1.000  \n",
       " Research & Development:15040   1st Qu.: 2.000   1st Qu.:2.000  \n",
       " Sales                 : 7008   Median : 7.000   Median :3.000  \n",
       "                                Mean   : 9.215   Mean   :2.915  \n",
       "                                3rd Qu.:14.000   3rd Qu.:4.000  \n",
       "                                Max.   :29.000   Max.   :5.000  \n",
       "                                                                \n",
       "          EducationField EnvironmentSatisfaction    Gender      JobInvolvement\n",
       " Human Resources : 442   Min.   :1.00            Female: 9205   Min.   :1.00  \n",
       " Life Sciences   :9513   1st Qu.:2.00            Male  :13853   1st Qu.:2.00  \n",
       " Marketing       :2484   Median :3.00                           Median :3.00  \n",
       " Medical         :7267   Mean   :2.72                           Mean   :2.73  \n",
       " Other           :1291   3rd Qu.:4.00                           3rd Qu.:3.00  \n",
       " Technical Degree:2061   Max.   :4.00                           Max.   :4.00  \n",
       "                                                                              \n",
       "    JobLevel                          JobRole     JobSatisfaction\n",
       " Min.   :1.000   Sales Executive          :5067   Min.   :1.000  \n",
       " 1st Qu.:1.000   Research Scientist       :4591   1st Qu.:2.000  \n",
       " Median :2.000   Laboratory Technician    :4112   Median :3.000  \n",
       " Mean   :2.044   Manufacturing Director   :2346   Mean   :2.725  \n",
       " 3rd Qu.:3.000   Healthcare Representative:2069   3rd Qu.:4.000  \n",
       " Max.   :5.000   Manager                  :1521   Max.   :4.000  \n",
       "                 (Other)                  :3352                  \n",
       "  MaritalStatus   MonthlyIncome   NumCompaniesWorked OverTime   \n",
       " Divorced: 5163   Min.   : 1009   Min.   :0.000      No :16524  \n",
       " Married :10543   1st Qu.: 2900   1st Qu.:1.000      Yes: 6534  \n",
       " Single  : 7352   Median : 4898   Median :2.000                 \n",
       "                  Mean   : 6416   Mean   :2.691                 \n",
       "                  3rd Qu.: 8120   3rd Qu.:4.000                 \n",
       "                  Max.   :19999   Max.   :9.000                 \n",
       "                                                                \n",
       " PercentSalaryHike PerformanceRating RelationshipSatisfaction StockOptionLevel\n",
       " Min.   :11.00     Min.   :3.000     Min.   :1.000            Min.   :0.0000  \n",
       " 1st Qu.:12.00     1st Qu.:3.000     1st Qu.:2.000            1st Qu.:0.0000  \n",
       " Median :14.00     Median :3.000     Median :3.000            Median :1.0000  \n",
       " Mean   :15.22     Mean   :3.155     Mean   :2.713            Mean   :0.7944  \n",
       " 3rd Qu.:18.00     3rd Qu.:3.000     3rd Qu.:4.000            3rd Qu.:1.0000  \n",
       " Max.   :25.00     Max.   :4.000     Max.   :4.000            Max.   :3.0000  \n",
       "                                                                              \n",
       " TotalWorkingYears TrainingTimesLastYear WorkLifeBalance YearsAtCompany \n",
       " Min.   : 0.00     Min.   :0.000         Min.   :1.000   Min.   : 0.00  \n",
       " 1st Qu.: 6.00     1st Qu.:2.000         1st Qu.:2.000   1st Qu.: 3.00  \n",
       " Median :10.00     Median :3.000         Median :3.000   Median : 5.00  \n",
       " Mean   :11.07     Mean   :2.804         Mean   :2.762   Mean   : 6.91  \n",
       " 3rd Qu.:15.00     3rd Qu.:3.000         3rd Qu.:3.000   3rd Qu.: 9.00  \n",
       " Max.   :40.00     Max.   :6.000         Max.   :4.000   Max.   :40.00  \n",
       "                                                                        \n",
       " YearsInCurrentRole YearsSinceLastPromotion YearsWithCurrManager\n",
       " Min.   : 0.000     Min.   : 0.000          Min.   : 0.000      \n",
       " 1st Qu.: 2.000     1st Qu.: 0.000          1st Qu.: 2.000      \n",
       " Median : 3.000     Median : 1.000          Median : 3.000      \n",
       " Mean   : 4.201     Mean   : 2.164          Mean   : 4.091      \n",
       " 3rd Qu.: 7.000     3rd Qu.: 3.000          3rd Qu.: 7.000      \n",
       " Max.   :18.000     Max.   :15.000          Max.   :17.000      \n",
       "                                                                \n",
       "        Employee.Source AgeStartedWorking\n",
       " Company Website:5327   Min.   : 0.00    \n",
       " Seek           :3655   1st Qu.:20.00    \n",
       " Indeed         :2471   Median :25.00    \n",
       " Jora           :2408   Mean   :25.96    \n",
       " LinkedIn       :2294   3rd Qu.:31.00    \n",
       " Recruit.net    :2283   Max.   :60.00    \n",
       " (Other)        :4620                    "
      ]
     },
     "metadata": {},
     "output_type": "display_data"
    }
   ],
   "source": [
    "# Resumo das variáveis do dataset\n",
    "summary(dados_rh)"
   ]
  },
  {
   "cell_type": "code",
   "execution_count": null,
   "id": "47d5da83",
   "metadata": {},
   "outputs": [],
   "source": []
  }
 ],
 "metadata": {
  "kernelspec": {
   "display_name": "R",
   "language": "R",
   "name": "ir"
  },
  "language_info": {
   "codemirror_mode": "r",
   "file_extension": ".r",
   "mimetype": "text/x-r-source",
   "name": "R",
   "pygments_lexer": "r",
   "version": "3.6.1"
  }
 },
 "nbformat": 4,
 "nbformat_minor": 5
}
