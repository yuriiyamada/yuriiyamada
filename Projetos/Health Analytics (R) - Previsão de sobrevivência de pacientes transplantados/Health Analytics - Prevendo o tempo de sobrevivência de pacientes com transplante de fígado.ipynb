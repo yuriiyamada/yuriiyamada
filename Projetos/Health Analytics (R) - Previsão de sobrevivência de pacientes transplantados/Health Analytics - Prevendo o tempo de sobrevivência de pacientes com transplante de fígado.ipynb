{
 "cells": [
  {
   "cell_type": "markdown",
   "id": "304c3966",
   "metadata": {},
   "source": [
    "<h2> O objetivo deste projetoé tentar prever o tempo de sobrevivência de pacientes um ano após o transplante de fígado. <br/><br/>\n",
    "     Os dados foram extraídos do SRTR (The Scientific Registry of Transplant Recipients) <br/><br/>\n",
    "     \n",
    "O Dataset possui mais de 30 variáveis com dados dos pacientes.</h2>"
   ]
  },
  {
   "cell_type": "code",
   "execution_count": 11,
   "id": "cc307a60",
   "metadata": {},
   "outputs": [],
   "source": [
    "# Importando as bibliotecas\n",
    "library(dplyr)\n",
    "library(ggcorrplot)\n",
    "library(forecast)\n",
    "library(nnet)\n",
    "library(neuralnet)\n",
    "warning=FALSE"
   ]
  },
  {
   "cell_type": "code",
   "execution_count": 10,
   "id": "9ad7a5ee",
   "metadata": {},
   "outputs": [
    {
     "data": {
      "text/html": [
       "<ol class=list-inline>\n",
       "\t<li>79100</li>\n",
       "\t<li>46</li>\n",
       "</ol>\n"
      ],
      "text/latex": [
       "\\begin{enumerate*}\n",
       "\\item 79100\n",
       "\\item 46\n",
       "\\end{enumerate*}\n"
      ],
      "text/markdown": [
       "1. 79100\n",
       "2. 46\n",
       "\n",
       "\n"
      ],
      "text/plain": [
       "[1] 79100    46"
      ]
     },
     "metadata": {},
     "output_type": "display_data"
    }
   ],
   "source": [
    "# Carregando os dados\n",
    "dados = read.csv(\"HealthAnalytics.csv\", header = TRUE, na.strings = c(\"\"))\n",
    "dim(dados)"
   ]
  },
  {
   "cell_type": "code",
   "execution_count": 14,
   "id": "29e2ba50",
   "metadata": {},
   "outputs": [
    {
     "data": {
      "text/html": [
       "<table>\n",
       "<thead><tr><th scope=col>ï..DAYSWAIT_CHRON</th><th scope=col>PSTATUS</th><th scope=col>FINAL_MELD_SCORE</th><th scope=col>PTIME</th><th scope=col>TX_DATE</th><th scope=col>PX_STAT</th><th scope=col>PX_STAT_DATE</th><th scope=col>AGE</th><th scope=col>ABO</th><th scope=col>GENDER</th><th scope=col>...</th><th scope=col>ABO_MAT</th><th scope=col>COLD_ISCH</th><th scope=col>MALIG</th><th scope=col>HGT_CM_CALC</th><th scope=col>WGT_KG_CALC</th><th scope=col>BMI_CALC</th><th scope=col>TX_MELD</th><th scope=col>LISTYR</th><th scope=col>LiverSize</th><th scope=col>LiverSizeDon</th></tr></thead>\n",
       "<tbody>\n",
       "\t<tr><td>   7      </td><td>0         </td><td>39        </td><td>  51      </td><td>12/24/2018</td><td>A         </td><td>2/13/2019 </td><td>30        </td><td>O         </td><td>1         </td><td>...       </td><td>1         </td><td> 4.30     </td><td>U         </td><td>162.6     </td><td> 45.0     </td><td>17.0      </td><td>No        </td><td>2018      </td><td>1721.500  </td><td>2276.860  </td></tr>\n",
       "\t<tr><td>   5      </td><td>0         </td><td>19        </td><td>   6      </td><td>12/23/2018</td><td>A         </td><td>12/29/2018</td><td>63        </td><td>A         </td><td>0         </td><td>...       </td><td>1         </td><td> 3.48     </td><td>U         </td><td>177.8     </td><td> 85.0     </td><td>26.9      </td><td>No        </td><td>2018      </td><td>1934.720  </td><td>2387.360  </td></tr>\n",
       "\t<tr><td>  10      </td><td>0         </td><td>22        </td><td>   6      </td><td>12/28/2018</td><td>A         </td><td>1/3/2019  </td><td>48        </td><td>B         </td><td>0         </td><td>...       </td><td>1         </td><td> 4.95     </td><td>U         </td><td>182.9     </td><td> 76.2     </td><td>22.8      </td><td>No        </td><td>2018      </td><td>1987.348  </td><td>2555.460  </td></tr>\n",
       "\t<tr><td>   9      </td><td>0         </td><td>35        </td><td>  27      </td><td>12/27/2018</td><td>A         </td><td>1/23/2019 </td><td>54        </td><td>O         </td><td>1         </td><td>...       </td><td>1         </td><td> 3.62     </td><td>U         </td><td>154.9     </td><td> 61.1     </td><td>25.5      </td><td>No        </td><td>2018      </td><td>1669.494  </td><td>2255.140  </td></tr>\n",
       "\t<tr><td>   2      </td><td>0         </td><td>35        </td><td>  54      </td><td>12/20/2018</td><td>A         </td><td>2/12/2019 </td><td>71        </td><td>O         </td><td>1         </td><td>...       </td><td>1         </td><td> 7.50     </td><td>U         </td><td>162.6     </td><td> 70.8     </td><td>26.8      </td><td>No        </td><td>2018      </td><td>1605.492  </td><td>2214.884  </td></tr>\n",
       "\t<tr><td>   6      </td><td>0         </td><td>19        </td><td>  10      </td><td>12/24/2018</td><td>A         </td><td>1/3/2019  </td><td>62        </td><td>O         </td><td>1         </td><td>...       </td><td>1         </td><td> 5.33     </td><td>U         </td><td>160.0     </td><td>122.6     </td><td>47.9      </td><td>No        </td><td>2018      </td><td>2546.924  </td><td>1789.178  </td></tr>\n",
       "\t<tr><td>   4      </td><td>0         </td><td>35        </td><td>  51      </td><td>12/22/2018</td><td>A         </td><td>2/11/2019 </td><td>62        </td><td>O         </td><td>1         </td><td>...       </td><td>1         </td><td> 9.14     </td><td>U         </td><td>152.4     </td><td> 45.4     </td><td>19.5      </td><td>No        </td><td>2018      </td><td>1316.356  </td><td>2576.640  </td></tr>\n",
       "\t<tr><td>   9      </td><td>1         </td><td>14        </td><td>   0      </td><td>12/28/2018</td><td>D         </td><td>12/28/2018</td><td>56        </td><td>A         </td><td>0         </td><td>...       </td><td>1         </td><td> 5.25     </td><td>U         </td><td>172.7     </td><td> 95.7     </td><td>32.1      </td><td>No        </td><td>2018      </td><td>2195.298  </td><td>1580.986  </td></tr>\n",
       "\t<tr><td>   1      </td><td>1         </td><td>36        </td><td>   3      </td><td>12/20/2018</td><td>D         </td><td>12/23/2018</td><td>28        </td><td>B         </td><td>1         </td><td>...       </td><td>1         </td><td> 4.60     </td><td>U         </td><td>168.0     </td><td> 95.0     </td><td>33.7      </td><td>No        </td><td>2018      </td><td>2544.220  </td><td>2242.440  </td></tr>\n",
       "\t<tr><td>  11      </td><td>0         </td><td>23        </td><td>   6      </td><td>12/30/2018</td><td>A         </td><td>1/5/2019  </td><td>66        </td><td>A         </td><td>0         </td><td>...       </td><td>1         </td><td> 5.60     </td><td>Y         </td><td>170.0     </td><td> 71.9     </td><td>24.9      </td><td>No        </td><td>2018      </td><td>1687.326  </td><td>2019.038  </td></tr>\n",
       "\t<tr><td>   6      </td><td>1         </td><td>35        </td><td>  44      </td><td>12/25/2018</td><td>D         </td><td>2/7/2019  </td><td>59        </td><td>A         </td><td>1         </td><td>...       </td><td>1         </td><td> 6.63     </td><td>U         </td><td>165.1     </td><td>154.4     </td><td>56.6      </td><td>No        </td><td>2018      </td><td>3092.396  </td><td>1886.520  </td></tr>\n",
       "\t<tr><td>   4      </td><td>0         </td><td>36        </td><td>  74      </td><td>12/23/2018</td><td>A         </td><td>3/7/2019  </td><td>28        </td><td>B         </td><td>0         </td><td>...       </td><td>1         </td><td> 3.28     </td><td>U         </td><td>167.6     </td><td> 66.7     </td><td>23.7      </td><td>No        </td><td>2018      </td><td>2093.118  </td><td>2451.958  </td></tr>\n",
       "\t<tr><td>   6      </td><td>0         </td><td>29        </td><td>   8      </td><td>12/25/2018</td><td>A         </td><td>1/2/2019  </td><td>58        </td><td>O         </td><td>0         </td><td>...       </td><td>1         </td><td> 4.97     </td><td>U         </td><td>175.3     </td><td> 93.7     </td><td>30.5      </td><td>No        </td><td>2018      </td><td>2137.698  </td><td>2704.756  </td></tr>\n",
       "\t<tr><td>   2      </td><td>0         </td><td>35        </td><td>   8      </td><td>12/21/2018</td><td>A         </td><td>12/29/2018</td><td>39        </td><td>B         </td><td>0         </td><td>...       </td><td>2         </td><td> 3.38     </td><td>U         </td><td>180.3     </td><td> 88.1     </td><td>27.1      </td><td>No        </td><td>2018      </td><td>2292.774  </td><td>2446.960  </td></tr>\n",
       "\t<tr><td>  11      </td><td>0         </td><td>25        </td><td>   8      </td><td>12/30/2018</td><td>A         </td><td>1/7/2019  </td><td>49        </td><td>AB        </td><td>1         </td><td>...       </td><td>1         </td><td> 6.43     </td><td>U         </td><td>152.0     </td><td> 79.0     </td><td>34.2      </td><td>No        </td><td>2018      </td><td>2019.120  </td><td>2765.380  </td></tr>\n",
       "\t<tr><td>   7      </td><td>0         </td><td>32        </td><td>   4      </td><td>12/27/2018</td><td>A         </td><td>12/31/2018</td><td>52        </td><td>O         </td><td>1         </td><td>...       </td><td>1         </td><td> 3.77     </td><td>Y         </td><td>152.4     </td><td> 89.4     </td><td>38.5      </td><td>No        </td><td>2018      </td><td>2146.316  </td><td>1873.500  </td></tr>\n",
       "\t<tr><td>   9      </td><td>0         </td><td>34        </td><td>  13      </td><td>12/29/2018</td><td>A         </td><td>1/11/2019 </td><td>53        </td><td>O         </td><td>1         </td><td>...       </td><td>1         </td><td> 6.98     </td><td>U         </td><td>165.0     </td><td> 86.0     </td><td>31.6      </td><td>No        </td><td>2018      </td><td>2079.260  </td><td>1856.964  </td></tr>\n",
       "\t<tr><td>   6      </td><td>1         </td><td>39        </td><td>   0      </td><td>12/26/2018</td><td>D         </td><td>12/26/2018</td><td>59        </td><td>A         </td><td>1         </td><td>...       </td><td>2         </td><td> 5.82     </td><td>U         </td><td>181.0     </td><td> 82.2     </td><td>25.1      </td><td>No        </td><td>2018      </td><td>1941.528  </td><td>1985.482  </td></tr>\n",
       "\t<tr><td>   3      </td><td>0         </td><td>26        </td><td>  53      </td><td>12/24/2018</td><td>A         </td><td>2/15/2019 </td><td>53        </td><td>AB        </td><td>0         </td><td>...       </td><td>2         </td><td> 6.00     </td><td>U         </td><td>170.2     </td><td> 80.4     </td><td>27.8      </td><td>No        </td><td>2018      </td><td>1989.996  </td><td>2129.240  </td></tr>\n",
       "\t<tr><td>   9      </td><td>0         </td><td>25        </td><td>   7      </td><td>12/30/2018</td><td>A         </td><td>1/6/2019  </td><td>55        </td><td>A         </td><td>0         </td><td>...       </td><td>1         </td><td> 5.68     </td><td>U         </td><td>180.3     </td><td>113.7     </td><td>35.0      </td><td>No        </td><td>2018      </td><td>2495.078  </td><td>2058.836  </td></tr>\n",
       "\t<tr><td>   6      </td><td>0         </td><td>26        </td><td>   8      </td><td>12/27/2018</td><td>A         </td><td>1/4/2019  </td><td>55        </td><td>O         </td><td>0         </td><td>...       </td><td>1         </td><td> 3.00     </td><td>Y         </td><td>172.7     </td><td>103.4     </td><td>34.7      </td><td>No        </td><td>2018      </td><td>2330.896  </td><td>2335.190  </td></tr>\n",
       "\t<tr><td>  10      </td><td>0         </td><td>14        </td><td>5690      </td><td>3/9/2002  </td><td>A         </td><td>10/6/2017 </td><td>54        </td><td>A         </td><td>0         </td><td>...       </td><td>1         </td><td> 4.80     </td><td>Y         </td><td>164.0     </td><td> 82.0     </td><td>30.5      </td><td>No        </td><td>2002      </td><td>2002.640  </td><td>1881.280  </td></tr>\n",
       "\t<tr><td> 327      </td><td>1         </td><td>29        </td><td> 111      </td><td>1/20/2003 </td><td>D         </td><td>5/11/2003 </td><td>51        </td><td>A         </td><td>0         </td><td>...       </td><td>1         </td><td>11.50     </td><td>N         </td><td>167.6     </td><td> 78.0     </td><td>27.8      </td><td>No        </td><td>2002      </td><td>1977.460  </td><td>2471.760  </td></tr>\n",
       "\t<tr><td> 577      </td><td>1         </td><td>31        </td><td>  35      </td><td>9/27/2003 </td><td>D         </td><td>11/1/2003 </td><td>48        </td><td>A         </td><td>0         </td><td>...       </td><td>1         </td><td> 3.00     </td><td>N         </td><td>180.3     </td><td> 74.8     </td><td>23.0      </td><td>No        </td><td>2002      </td><td>1965.032  </td><td>2250.980  </td></tr>\n",
       "\t<tr><td> 110      </td><td>1         </td><td>13        </td><td>3023      </td><td>6/17/2002 </td><td>D         </td><td>9/26/2010 </td><td>66        </td><td>B         </td><td>0         </td><td>...       </td><td>2         </td><td> 5.00     </td><td>U         </td><td>180.0     </td><td> 95.0     </td><td>29.3      </td><td>No        </td><td>2002      </td><td>2055.540  </td><td>2384.090  </td></tr>\n",
       "\t<tr><td>1104      </td><td>1         </td><td>22        </td><td>4699      </td><td>3/7/2005  </td><td>D         </td><td>1/17/2018 </td><td>67        </td><td>A1        </td><td>1         </td><td>...       </td><td>1         </td><td> 8.30     </td><td>N         </td><td>160.0     </td><td> 70.8     </td><td>27.6      </td><td>No        </td><td>2002      </td><td>1656.932  </td><td>1886.360  </td></tr>\n",
       "\t<tr><td>2131      </td><td>0         </td><td>26        </td><td>3895      </td><td>12/29/2007</td><td>A         </td><td>8/28/2018 </td><td>56        </td><td>B         </td><td>0         </td><td>...       </td><td>1         </td><td> 5.50     </td><td>N         </td><td>165.1     </td><td> 58.5     </td><td>21.5      </td><td>No        </td><td>2002      </td><td>1602.330  </td><td>2174.222  </td></tr>\n",
       "\t<tr><td>  31      </td><td>1         </td><td> 7        </td><td>3829      </td><td>3/30/2002 </td><td>D         </td><td>9/22/2012 </td><td>44        </td><td>B         </td><td>0         </td><td>...       </td><td>2         </td><td> 3.50     </td><td>Y         </td><td>170.2     </td><td> 70.8     </td><td>24.4      </td><td>No        </td><td>2002      </td><td>1952.712  </td><td>2051.566  </td></tr>\n",
       "\t<tr><td> 640      </td><td>0         </td><td>15        </td><td>5507      </td><td>11/29/2003</td><td>A         </td><td>12/27/2018</td><td>50        </td><td>B         </td><td>0         </td><td>...       </td><td>1         </td><td> 4.00     </td><td>N         </td><td>172.7     </td><td>101.6     </td><td>34.1      </td><td>No        </td><td>2002      </td><td>2366.504  </td><td>2311.660  </td></tr>\n",
       "\t<tr><td>  18      </td><td>0         </td><td>16        </td><td>5805      </td><td>3/17/2002 </td><td>A         </td><td>2/6/2018  </td><td>41        </td><td>O         </td><td>0         </td><td>...       </td><td>1         </td><td> 6.00     </td><td>N         </td><td>174.5     </td><td> 82.8     </td><td>27.2      </td><td>No        </td><td>2002      </td><td>2182.572  </td><td>2247.438  </td></tr>\n",
       "\t<tr><td>...</td><td>...</td><td>...</td><td>...</td><td>...</td><td>...</td><td>...</td><td>...</td><td>...</td><td>...</td><td>   </td><td>...</td><td>...</td><td>...</td><td>...</td><td>...</td><td>...</td><td>...</td><td>...</td><td>...</td><td>...</td></tr>\n",
       "\t<tr><td>13        </td><td>0         </td><td>18        </td><td>54        </td><td>12/20/2018</td><td>A         </td><td>2/12/2019 </td><td>60        </td><td>A         </td><td>0         </td><td>...       </td><td>1         </td><td>7.30      </td><td>U         </td><td>175.3     </td><td>119.3     </td><td>38.8      </td><td>No        </td><td>2018      </td><td>2520.042  </td><td>2794.262  </td></tr>\n",
       "\t<tr><td>13        </td><td>0         </td><td>29        </td><td> 7        </td><td>12/21/2018</td><td>A         </td><td>12/28/2018</td><td>50        </td><td>B         </td><td>1         </td><td>...       </td><td>1         </td><td>5.85      </td><td>U         </td><td>147.3     </td><td> 61.5     </td><td>28.3      </td><td>No        </td><td>2018      </td><td>1727.310  </td><td>2060.240  </td></tr>\n",
       "\t<tr><td> 6        </td><td>0         </td><td>24        </td><td>13        </td><td>12/16/2018</td><td>A         </td><td>12/29/2018</td><td>54        </td><td>B         </td><td>1         </td><td>...       </td><td>2         </td><td>6.00      </td><td>U         </td><td>167.6     </td><td> 68.0     </td><td>24.2      </td><td>No        </td><td>2018      </td><td>1779.480  </td><td>1928.560  </td></tr>\n",
       "\t<tr><td> 8        </td><td>0         </td><td>22        </td><td>58        </td><td>12/18/2018</td><td>A         </td><td>2/14/2019 </td><td>63        </td><td>B         </td><td>1         </td><td>...       </td><td>1         </td><td>4.20      </td><td>U         </td><td>162.6     </td><td> 54.9     </td><td>20.8      </td><td>No        </td><td>2018      </td><td>1454.926  </td><td>1870.420  </td></tr>\n",
       "\t<tr><td> 9        </td><td>0         </td><td>30        </td><td>22        </td><td>12/19/2018</td><td>A         </td><td>1/10/2019 </td><td>46        </td><td>O         </td><td>1         </td><td>...       </td><td>1         </td><td>3.51      </td><td>U         </td><td>175.3     </td><td> 68.9     </td><td>22.4      </td><td>No        </td><td>2018      </td><td>1896.706  </td><td>1943.014  </td></tr>\n",
       "\t<tr><td>12        </td><td>0         </td><td>10        </td><td> 6        </td><td>12/22/2018</td><td>A         </td><td>12/28/2018</td><td>61        </td><td>B         </td><td>0         </td><td>...       </td><td>1         </td><td>4.25      </td><td>U         </td><td>188.0     </td><td> 76.2     </td><td>21.6      </td><td>No        </td><td>2018      </td><td>1820.168  </td><td>2021.902  </td></tr>\n",
       "\t<tr><td> 4        </td><td>0         </td><td>40        </td><td>31        </td><td>12/14/2018</td><td>A         </td><td>1/14/2019 </td><td>52        </td><td>A         </td><td>0         </td><td>...       </td><td>1         </td><td>8.00      </td><td>U         </td><td>172.7     </td><td> 99.3     </td><td>33.3      </td><td>No        </td><td>2018      </td><td>2304.122  </td><td>2217.774  </td></tr>\n",
       "\t<tr><td> 7        </td><td>0         </td><td>23        </td><td> 3        </td><td>12/18/2018</td><td>A         </td><td>12/21/2018</td><td>50        </td><td>AB        </td><td>1         </td><td>...       </td><td>1         </td><td>8.80      </td><td>U         </td><td>172.7     </td><td> 64.0     </td><td>21.4      </td><td>No        </td><td>2018      </td><td>1767.160  </td><td>2263.568  </td></tr>\n",
       "\t<tr><td>15        </td><td>1         </td><td>27        </td><td>64        </td><td>12/26/2018</td><td>D         </td><td>2/28/2019 </td><td>54        </td><td>A         </td><td>0         </td><td>...       </td><td>1         </td><td>6.11      </td><td>U         </td><td>175.3     </td><td>105.6     </td><td>34.4      </td><td>No        </td><td>2018      </td><td>2378.824  </td><td>2825.360  </td></tr>\n",
       "\t<tr><td>17        </td><td>0         </td><td>29        </td><td> 0        </td><td>12/28/2018</td><td>A         </td><td>12/28/2018</td><td>59        </td><td>O         </td><td>0         </td><td>...       </td><td>1         </td><td>4.73      </td><td>U         </td><td>193.0     </td><td>111.4     </td><td>29.9      </td><td>No        </td><td>2018      </td><td>2406.976  </td><td>2449.120  </td></tr>\n",
       "\t<tr><td>10        </td><td>0         </td><td>28        </td><td>31        </td><td>12/21/2018</td><td>A         </td><td>1/21/2019 </td><td>63        </td><td>O         </td><td>1         </td><td>...       </td><td>1         </td><td>3.82      </td><td>U         </td><td>167.6     </td><td> 99.8     </td><td>35.5      </td><td>No        </td><td>2018      </td><td>2170.632  </td><td>2353.238  </td></tr>\n",
       "\t<tr><td>11        </td><td>0         </td><td>34        </td><td>40        </td><td>12/22/2018</td><td>A         </td><td>1/31/2019 </td><td>42        </td><td>B         </td><td>0         </td><td>...       </td><td>1         </td><td>7.21      </td><td>U         </td><td>170.2     </td><td> 66.7     </td><td>23.0      </td><td>No        </td><td>2018      </td><td>1913.078  </td><td>2208.590  </td></tr>\n",
       "\t<tr><td> 8        </td><td>0         </td><td>19        </td><td>29        </td><td>12/19/2018</td><td>A         </td><td>1/17/2019 </td><td>29        </td><td>B         </td><td>0         </td><td>...       </td><td>1         </td><td>6.60      </td><td>U         </td><td>182.9     </td><td> 74.4     </td><td>22.2      </td><td>No        </td><td>2018      </td><td>2202.996  </td><td>1993.750  </td></tr>\n",
       "\t<tr><td> 2        </td><td>0         </td><td>39        </td><td>15        </td><td>12/13/2018</td><td>A         </td><td>12/28/2018</td><td>26        </td><td>A         </td><td>0         </td><td>...       </td><td>1         </td><td>7.48      </td><td>U         </td><td>185.4     </td><td> 88.1     </td><td>25.6      </td><td>No        </td><td>2018      </td><td>2459.954  </td><td>2156.230  </td></tr>\n",
       "\t<tr><td> 5        </td><td>0         </td><td>30        </td><td>47        </td><td>12/17/2018</td><td>A         </td><td>2/2/2019  </td><td>37        </td><td>O         </td><td>0         </td><td>...       </td><td>1         </td><td>5.21      </td><td>U         </td><td>185.4     </td><td> 60.9     </td><td>17.7      </td><td>No        </td><td>2018      </td><td>1884.926  </td><td>2137.158  </td></tr>\n",
       "\t<tr><td> 8        </td><td>1         </td><td>37        </td><td>14        </td><td>12/21/2018</td><td>D         </td><td>1/4/2019  </td><td>60        </td><td>O         </td><td>0         </td><td>...       </td><td>1         </td><td>4.40      </td><td>U         </td><td>180.3     </td><td>118.4     </td><td>36.4      </td><td>No        </td><td>2018      </td><td>2505.696  </td><td>2549.300  </td></tr>\n",
       "\t<tr><td> 9        </td><td>0         </td><td>21        </td><td> 5        </td><td>12/22/2018</td><td>A         </td><td>12/27/2018</td><td>54        </td><td>B         </td><td>0         </td><td>...       </td><td>1         </td><td>4.06      </td><td>U         </td><td>182.0     </td><td> 91.9     </td><td>27.7      </td><td>No        </td><td>2018      </td><td>2160.446  </td><td>2945.908  </td></tr>\n",
       "\t<tr><td>16        </td><td>0         </td><td>27        </td><td> 4        </td><td>12/29/2018</td><td>A         </td><td>1/2/2019  </td><td>62        </td><td>A         </td><td>1         </td><td>...       </td><td>1         </td><td>2.70      </td><td>U         </td><td>172.7     </td><td> 59.9     </td><td>20.1      </td><td>No        </td><td>2018      </td><td>1547.486  </td><td>2932.400  </td></tr>\n",
       "\t<tr><td>12        </td><td>0         </td><td>16        </td><td> 8        </td><td>12/25/2018</td><td>A         </td><td>1/2/2019  </td><td>50        </td><td>A         </td><td>0         </td><td>...       </td><td>1         </td><td>4.57      </td><td>U         </td><td>162.6     </td><td> 62.6     </td><td>23.7      </td><td>No        </td><td>2018      </td><td>1744.844  </td><td>2864.588  </td></tr>\n",
       "\t<tr><td> 5        </td><td>0         </td><td>36        </td><td>31        </td><td>12/18/2018</td><td>A         </td><td>1/18/2019 </td><td>63        </td><td>A         </td><td>0         </td><td>...       </td><td>1         </td><td>3.82      </td><td>U         </td><td>170.2     </td><td> 94.4     </td><td>32.6      </td><td>No        </td><td>2018      </td><td>2084.556  </td><td>2230.310  </td></tr>\n",
       "\t<tr><td>15        </td><td>0         </td><td>34        </td><td>18        </td><td>12/29/2018</td><td>A         </td><td>1/16/2019 </td><td>45        </td><td>O         </td><td>0         </td><td>...       </td><td>1         </td><td>6.87      </td><td>U         </td><td>167.6     </td><td> 92.3     </td><td>32.9      </td><td>No        </td><td>2018      </td><td>2282.562  </td><td>2690.384  </td></tr>\n",
       "\t<tr><td> 4        </td><td>0         </td><td>38        </td><td>49        </td><td>12/18/2018</td><td>A         </td><td>2/5/2019  </td><td>46        </td><td>O         </td><td>0         </td><td>...       </td><td>1         </td><td>6.87      </td><td>U         </td><td>167.6     </td><td> 61.3     </td><td>21.8      </td><td>No        </td><td>2018      </td><td>1775.562  </td><td>2554.540  </td></tr>\n",
       "\t<tr><td> 4        </td><td>0         </td><td>28        </td><td> 1        </td><td>12/18/2018</td><td>A         </td><td>12/19/2018</td><td>71        </td><td>A         </td><td>0         </td><td>...       </td><td>1         </td><td>5.27      </td><td>Y         </td><td>175.3     </td><td> 74.8     </td><td>24.4      </td><td>No        </td><td>2018      </td><td>1669.252  </td><td>2866.640  </td></tr>\n",
       "\t<tr><td> 5        </td><td>0         </td><td>38        </td><td> 1        </td><td>12/19/2018</td><td>A         </td><td>12/20/2018</td><td>52        </td><td>B         </td><td>0         </td><td>...       </td><td>1         </td><td>5.80      </td><td>U         </td><td>177.8     </td><td>108.9     </td><td>34.4      </td><td>No        </td><td>2018      </td><td>2457.146  </td><td>2047.000  </td></tr>\n",
       "\t<tr><td> 5        </td><td>0         </td><td>25        </td><td>14        </td><td>12/19/2018</td><td>A         </td><td>1/2/2019  </td><td>27        </td><td>AB        </td><td>0         </td><td>...       </td><td>1         </td><td>5.48      </td><td>Y         </td><td>182.9     </td><td> 85.2     </td><td>25.5      </td><td>No        </td><td>2018      </td><td>2400.868  </td><td>1956.198  </td></tr>\n",
       "\t<tr><td> 6        </td><td>0         </td><td>21        </td><td>54        </td><td>12/20/2018</td><td>A         </td><td>2/12/2019 </td><td>57        </td><td>A1        </td><td>1         </td><td>...       </td><td>1         </td><td>6.37      </td><td>Y         </td><td>162.6     </td><td> 87.2     </td><td>33.0      </td><td>No        </td><td>2018      </td><td>2046.948  </td><td>2880.040  </td></tr>\n",
       "\t<tr><td> 6        </td><td>0         </td><td>28        </td><td>26        </td><td>12/20/2018</td><td>A         </td><td>1/15/2019 </td><td>51        </td><td>A         </td><td>1         </td><td>...       </td><td>1         </td><td>4.63      </td><td>U         </td><td>152.4     </td><td> 66.2     </td><td>28.5      </td><td>No        </td><td>2018      </td><td>1789.368  </td><td>2217.748  </td></tr>\n",
       "\t<tr><td>12        </td><td>0         </td><td>35        </td><td>30        </td><td>12/26/2018</td><td>A         </td><td>1/25/2019 </td><td>60        </td><td>O         </td><td>0         </td><td>...       </td><td>1         </td><td>9.80      </td><td>U         </td><td>182.9     </td><td>115.7     </td><td>34.6      </td><td>No        </td><td>2018      </td><td>2462.658  </td><td>2301.932  </td></tr>\n",
       "\t<tr><td> 5        </td><td>0         </td><td>39        </td><td>20        </td><td>12/19/2018</td><td>A         </td><td>1/8/2019  </td><td>55        </td><td>A         </td><td>1         </td><td>...       </td><td>1         </td><td>1.02      </td><td>U         </td><td>172.0     </td><td>107.7     </td><td>36.4      </td><td>No        </td><td>2018      </td><td>2399.438  </td><td>2949.852  </td></tr>\n",
       "\t<tr><td>11        </td><td>0         </td><td>39        </td><td>21        </td><td>12/27/2018</td><td>A         </td><td>1/17/2019 </td><td>55        </td><td>B         </td><td>0         </td><td>...       </td><td>1         </td><td>5.40      </td><td>Y         </td><td>165.1     </td><td> 96.6     </td><td>35.4      </td><td>No        </td><td>2018      </td><td>2222.504  </td><td>2595.228  </td></tr>\n",
       "</tbody>\n",
       "</table>\n"
      ],
      "text/latex": [
       "\\begin{tabular}{r|llllllllllllllllllllllllllllllllllllllllllllll}\n",
       " ï..DAYSWAIT\\_CHRON & PSTATUS & FINAL\\_MELD\\_SCORE & PTIME & TX\\_DATE & PX\\_STAT & PX\\_STAT\\_DATE & AGE & ABO & GENDER & ... & ABO\\_MAT & COLD\\_ISCH & MALIG & HGT\\_CM\\_CALC & WGT\\_KG\\_CALC & BMI\\_CALC & TX\\_MELD & LISTYR & LiverSize & LiverSizeDon\\\\\n",
       "\\hline\n",
       "\t    7       & 0          & 39         &   51       & 12/24/2018 & A          & 2/13/2019  & 30         & O          & 1          & ...        & 1          &  4.30      & U          & 162.6      &  45.0      & 17.0       & No         & 2018       & 1721.500   & 2276.860  \\\\\n",
       "\t    5       & 0          & 19         &    6       & 12/23/2018 & A          & 12/29/2018 & 63         & A          & 0          & ...        & 1          &  3.48      & U          & 177.8      &  85.0      & 26.9       & No         & 2018       & 1934.720   & 2387.360  \\\\\n",
       "\t   10       & 0          & 22         &    6       & 12/28/2018 & A          & 1/3/2019   & 48         & B          & 0          & ...        & 1          &  4.95      & U          & 182.9      &  76.2      & 22.8       & No         & 2018       & 1987.348   & 2555.460  \\\\\n",
       "\t    9       & 0          & 35         &   27       & 12/27/2018 & A          & 1/23/2019  & 54         & O          & 1          & ...        & 1          &  3.62      & U          & 154.9      &  61.1      & 25.5       & No         & 2018       & 1669.494   & 2255.140  \\\\\n",
       "\t    2       & 0          & 35         &   54       & 12/20/2018 & A          & 2/12/2019  & 71         & O          & 1          & ...        & 1          &  7.50      & U          & 162.6      &  70.8      & 26.8       & No         & 2018       & 1605.492   & 2214.884  \\\\\n",
       "\t    6       & 0          & 19         &   10       & 12/24/2018 & A          & 1/3/2019   & 62         & O          & 1          & ...        & 1          &  5.33      & U          & 160.0      & 122.6      & 47.9       & No         & 2018       & 2546.924   & 1789.178  \\\\\n",
       "\t    4       & 0          & 35         &   51       & 12/22/2018 & A          & 2/11/2019  & 62         & O          & 1          & ...        & 1          &  9.14      & U          & 152.4      &  45.4      & 19.5       & No         & 2018       & 1316.356   & 2576.640  \\\\\n",
       "\t    9       & 1          & 14         &    0       & 12/28/2018 & D          & 12/28/2018 & 56         & A          & 0          & ...        & 1          &  5.25      & U          & 172.7      &  95.7      & 32.1       & No         & 2018       & 2195.298   & 1580.986  \\\\\n",
       "\t    1       & 1          & 36         &    3       & 12/20/2018 & D          & 12/23/2018 & 28         & B          & 1          & ...        & 1          &  4.60      & U          & 168.0      &  95.0      & 33.7       & No         & 2018       & 2544.220   & 2242.440  \\\\\n",
       "\t   11       & 0          & 23         &    6       & 12/30/2018 & A          & 1/5/2019   & 66         & A          & 0          & ...        & 1          &  5.60      & Y          & 170.0      &  71.9      & 24.9       & No         & 2018       & 1687.326   & 2019.038  \\\\\n",
       "\t    6       & 1          & 35         &   44       & 12/25/2018 & D          & 2/7/2019   & 59         & A          & 1          & ...        & 1          &  6.63      & U          & 165.1      & 154.4      & 56.6       & No         & 2018       & 3092.396   & 1886.520  \\\\\n",
       "\t    4       & 0          & 36         &   74       & 12/23/2018 & A          & 3/7/2019   & 28         & B          & 0          & ...        & 1          &  3.28      & U          & 167.6      &  66.7      & 23.7       & No         & 2018       & 2093.118   & 2451.958  \\\\\n",
       "\t    6       & 0          & 29         &    8       & 12/25/2018 & A          & 1/2/2019   & 58         & O          & 0          & ...        & 1          &  4.97      & U          & 175.3      &  93.7      & 30.5       & No         & 2018       & 2137.698   & 2704.756  \\\\\n",
       "\t    2       & 0          & 35         &    8       & 12/21/2018 & A          & 12/29/2018 & 39         & B          & 0          & ...        & 2          &  3.38      & U          & 180.3      &  88.1      & 27.1       & No         & 2018       & 2292.774   & 2446.960  \\\\\n",
       "\t   11       & 0          & 25         &    8       & 12/30/2018 & A          & 1/7/2019   & 49         & AB         & 1          & ...        & 1          &  6.43      & U          & 152.0      &  79.0      & 34.2       & No         & 2018       & 2019.120   & 2765.380  \\\\\n",
       "\t    7       & 0          & 32         &    4       & 12/27/2018 & A          & 12/31/2018 & 52         & O          & 1          & ...        & 1          &  3.77      & Y          & 152.4      &  89.4      & 38.5       & No         & 2018       & 2146.316   & 1873.500  \\\\\n",
       "\t    9       & 0          & 34         &   13       & 12/29/2018 & A          & 1/11/2019  & 53         & O          & 1          & ...        & 1          &  6.98      & U          & 165.0      &  86.0      & 31.6       & No         & 2018       & 2079.260   & 1856.964  \\\\\n",
       "\t    6       & 1          & 39         &    0       & 12/26/2018 & D          & 12/26/2018 & 59         & A          & 1          & ...        & 2          &  5.82      & U          & 181.0      &  82.2      & 25.1       & No         & 2018       & 1941.528   & 1985.482  \\\\\n",
       "\t    3       & 0          & 26         &   53       & 12/24/2018 & A          & 2/15/2019  & 53         & AB         & 0          & ...        & 2          &  6.00      & U          & 170.2      &  80.4      & 27.8       & No         & 2018       & 1989.996   & 2129.240  \\\\\n",
       "\t    9       & 0          & 25         &    7       & 12/30/2018 & A          & 1/6/2019   & 55         & A          & 0          & ...        & 1          &  5.68      & U          & 180.3      & 113.7      & 35.0       & No         & 2018       & 2495.078   & 2058.836  \\\\\n",
       "\t    6       & 0          & 26         &    8       & 12/27/2018 & A          & 1/4/2019   & 55         & O          & 0          & ...        & 1          &  3.00      & Y          & 172.7      & 103.4      & 34.7       & No         & 2018       & 2330.896   & 2335.190  \\\\\n",
       "\t   10       & 0          & 14         & 5690       & 3/9/2002   & A          & 10/6/2017  & 54         & A          & 0          & ...        & 1          &  4.80      & Y          & 164.0      &  82.0      & 30.5       & No         & 2002       & 2002.640   & 1881.280  \\\\\n",
       "\t  327       & 1          & 29         &  111       & 1/20/2003  & D          & 5/11/2003  & 51         & A          & 0          & ...        & 1          & 11.50      & N          & 167.6      &  78.0      & 27.8       & No         & 2002       & 1977.460   & 2471.760  \\\\\n",
       "\t  577       & 1          & 31         &   35       & 9/27/2003  & D          & 11/1/2003  & 48         & A          & 0          & ...        & 1          &  3.00      & N          & 180.3      &  74.8      & 23.0       & No         & 2002       & 1965.032   & 2250.980  \\\\\n",
       "\t  110       & 1          & 13         & 3023       & 6/17/2002  & D          & 9/26/2010  & 66         & B          & 0          & ...        & 2          &  5.00      & U          & 180.0      &  95.0      & 29.3       & No         & 2002       & 2055.540   & 2384.090  \\\\\n",
       "\t 1104       & 1          & 22         & 4699       & 3/7/2005   & D          & 1/17/2018  & 67         & A1         & 1          & ...        & 1          &  8.30      & N          & 160.0      &  70.8      & 27.6       & No         & 2002       & 1656.932   & 1886.360  \\\\\n",
       "\t 2131       & 0          & 26         & 3895       & 12/29/2007 & A          & 8/28/2018  & 56         & B          & 0          & ...        & 1          &  5.50      & N          & 165.1      &  58.5      & 21.5       & No         & 2002       & 1602.330   & 2174.222  \\\\\n",
       "\t   31       & 1          &  7         & 3829       & 3/30/2002  & D          & 9/22/2012  & 44         & B          & 0          & ...        & 2          &  3.50      & Y          & 170.2      &  70.8      & 24.4       & No         & 2002       & 1952.712   & 2051.566  \\\\\n",
       "\t  640       & 0          & 15         & 5507       & 11/29/2003 & A          & 12/27/2018 & 50         & B          & 0          & ...        & 1          &  4.00      & N          & 172.7      & 101.6      & 34.1       & No         & 2002       & 2366.504   & 2311.660  \\\\\n",
       "\t   18       & 0          & 16         & 5805       & 3/17/2002  & A          & 2/6/2018   & 41         & O          & 0          & ...        & 1          &  6.00      & N          & 174.5      &  82.8      & 27.2       & No         & 2002       & 2182.572   & 2247.438  \\\\\n",
       "\t ... & ... & ... & ... & ... & ... & ... & ... & ... & ... &     & ... & ... & ... & ... & ... & ... & ... & ... & ... & ...\\\\\n",
       "\t 13         & 0          & 18         & 54         & 12/20/2018 & A          & 2/12/2019  & 60         & A          & 0          & ...        & 1          & 7.30       & U          & 175.3      & 119.3      & 38.8       & No         & 2018       & 2520.042   & 2794.262  \\\\\n",
       "\t 13         & 0          & 29         &  7         & 12/21/2018 & A          & 12/28/2018 & 50         & B          & 1          & ...        & 1          & 5.85       & U          & 147.3      &  61.5      & 28.3       & No         & 2018       & 1727.310   & 2060.240  \\\\\n",
       "\t  6         & 0          & 24         & 13         & 12/16/2018 & A          & 12/29/2018 & 54         & B          & 1          & ...        & 2          & 6.00       & U          & 167.6      &  68.0      & 24.2       & No         & 2018       & 1779.480   & 1928.560  \\\\\n",
       "\t  8         & 0          & 22         & 58         & 12/18/2018 & A          & 2/14/2019  & 63         & B          & 1          & ...        & 1          & 4.20       & U          & 162.6      &  54.9      & 20.8       & No         & 2018       & 1454.926   & 1870.420  \\\\\n",
       "\t  9         & 0          & 30         & 22         & 12/19/2018 & A          & 1/10/2019  & 46         & O          & 1          & ...        & 1          & 3.51       & U          & 175.3      &  68.9      & 22.4       & No         & 2018       & 1896.706   & 1943.014  \\\\\n",
       "\t 12         & 0          & 10         &  6         & 12/22/2018 & A          & 12/28/2018 & 61         & B          & 0          & ...        & 1          & 4.25       & U          & 188.0      &  76.2      & 21.6       & No         & 2018       & 1820.168   & 2021.902  \\\\\n",
       "\t  4         & 0          & 40         & 31         & 12/14/2018 & A          & 1/14/2019  & 52         & A          & 0          & ...        & 1          & 8.00       & U          & 172.7      &  99.3      & 33.3       & No         & 2018       & 2304.122   & 2217.774  \\\\\n",
       "\t  7         & 0          & 23         &  3         & 12/18/2018 & A          & 12/21/2018 & 50         & AB         & 1          & ...        & 1          & 8.80       & U          & 172.7      &  64.0      & 21.4       & No         & 2018       & 1767.160   & 2263.568  \\\\\n",
       "\t 15         & 1          & 27         & 64         & 12/26/2018 & D          & 2/28/2019  & 54         & A          & 0          & ...        & 1          & 6.11       & U          & 175.3      & 105.6      & 34.4       & No         & 2018       & 2378.824   & 2825.360  \\\\\n",
       "\t 17         & 0          & 29         &  0         & 12/28/2018 & A          & 12/28/2018 & 59         & O          & 0          & ...        & 1          & 4.73       & U          & 193.0      & 111.4      & 29.9       & No         & 2018       & 2406.976   & 2449.120  \\\\\n",
       "\t 10         & 0          & 28         & 31         & 12/21/2018 & A          & 1/21/2019  & 63         & O          & 1          & ...        & 1          & 3.82       & U          & 167.6      &  99.8      & 35.5       & No         & 2018       & 2170.632   & 2353.238  \\\\\n",
       "\t 11         & 0          & 34         & 40         & 12/22/2018 & A          & 1/31/2019  & 42         & B          & 0          & ...        & 1          & 7.21       & U          & 170.2      &  66.7      & 23.0       & No         & 2018       & 1913.078   & 2208.590  \\\\\n",
       "\t  8         & 0          & 19         & 29         & 12/19/2018 & A          & 1/17/2019  & 29         & B          & 0          & ...        & 1          & 6.60       & U          & 182.9      &  74.4      & 22.2       & No         & 2018       & 2202.996   & 1993.750  \\\\\n",
       "\t  2         & 0          & 39         & 15         & 12/13/2018 & A          & 12/28/2018 & 26         & A          & 0          & ...        & 1          & 7.48       & U          & 185.4      &  88.1      & 25.6       & No         & 2018       & 2459.954   & 2156.230  \\\\\n",
       "\t  5         & 0          & 30         & 47         & 12/17/2018 & A          & 2/2/2019   & 37         & O          & 0          & ...        & 1          & 5.21       & U          & 185.4      &  60.9      & 17.7       & No         & 2018       & 1884.926   & 2137.158  \\\\\n",
       "\t  8         & 1          & 37         & 14         & 12/21/2018 & D          & 1/4/2019   & 60         & O          & 0          & ...        & 1          & 4.40       & U          & 180.3      & 118.4      & 36.4       & No         & 2018       & 2505.696   & 2549.300  \\\\\n",
       "\t  9         & 0          & 21         &  5         & 12/22/2018 & A          & 12/27/2018 & 54         & B          & 0          & ...        & 1          & 4.06       & U          & 182.0      &  91.9      & 27.7       & No         & 2018       & 2160.446   & 2945.908  \\\\\n",
       "\t 16         & 0          & 27         &  4         & 12/29/2018 & A          & 1/2/2019   & 62         & A          & 1          & ...        & 1          & 2.70       & U          & 172.7      &  59.9      & 20.1       & No         & 2018       & 1547.486   & 2932.400  \\\\\n",
       "\t 12         & 0          & 16         &  8         & 12/25/2018 & A          & 1/2/2019   & 50         & A          & 0          & ...        & 1          & 4.57       & U          & 162.6      &  62.6      & 23.7       & No         & 2018       & 1744.844   & 2864.588  \\\\\n",
       "\t  5         & 0          & 36         & 31         & 12/18/2018 & A          & 1/18/2019  & 63         & A          & 0          & ...        & 1          & 3.82       & U          & 170.2      &  94.4      & 32.6       & No         & 2018       & 2084.556   & 2230.310  \\\\\n",
       "\t 15         & 0          & 34         & 18         & 12/29/2018 & A          & 1/16/2019  & 45         & O          & 0          & ...        & 1          & 6.87       & U          & 167.6      &  92.3      & 32.9       & No         & 2018       & 2282.562   & 2690.384  \\\\\n",
       "\t  4         & 0          & 38         & 49         & 12/18/2018 & A          & 2/5/2019   & 46         & O          & 0          & ...        & 1          & 6.87       & U          & 167.6      &  61.3      & 21.8       & No         & 2018       & 1775.562   & 2554.540  \\\\\n",
       "\t  4         & 0          & 28         &  1         & 12/18/2018 & A          & 12/19/2018 & 71         & A          & 0          & ...        & 1          & 5.27       & Y          & 175.3      &  74.8      & 24.4       & No         & 2018       & 1669.252   & 2866.640  \\\\\n",
       "\t  5         & 0          & 38         &  1         & 12/19/2018 & A          & 12/20/2018 & 52         & B          & 0          & ...        & 1          & 5.80       & U          & 177.8      & 108.9      & 34.4       & No         & 2018       & 2457.146   & 2047.000  \\\\\n",
       "\t  5         & 0          & 25         & 14         & 12/19/2018 & A          & 1/2/2019   & 27         & AB         & 0          & ...        & 1          & 5.48       & Y          & 182.9      &  85.2      & 25.5       & No         & 2018       & 2400.868   & 1956.198  \\\\\n",
       "\t  6         & 0          & 21         & 54         & 12/20/2018 & A          & 2/12/2019  & 57         & A1         & 1          & ...        & 1          & 6.37       & Y          & 162.6      &  87.2      & 33.0       & No         & 2018       & 2046.948   & 2880.040  \\\\\n",
       "\t  6         & 0          & 28         & 26         & 12/20/2018 & A          & 1/15/2019  & 51         & A          & 1          & ...        & 1          & 4.63       & U          & 152.4      &  66.2      & 28.5       & No         & 2018       & 1789.368   & 2217.748  \\\\\n",
       "\t 12         & 0          & 35         & 30         & 12/26/2018 & A          & 1/25/2019  & 60         & O          & 0          & ...        & 1          & 9.80       & U          & 182.9      & 115.7      & 34.6       & No         & 2018       & 2462.658   & 2301.932  \\\\\n",
       "\t  5         & 0          & 39         & 20         & 12/19/2018 & A          & 1/8/2019   & 55         & A          & 1          & ...        & 1          & 1.02       & U          & 172.0      & 107.7      & 36.4       & No         & 2018       & 2399.438   & 2949.852  \\\\\n",
       "\t 11         & 0          & 39         & 21         & 12/27/2018 & A          & 1/17/2019  & 55         & B          & 0          & ...        & 1          & 5.40       & Y          & 165.1      &  96.6      & 35.4       & No         & 2018       & 2222.504   & 2595.228  \\\\\n",
       "\\end{tabular}\n"
      ],
      "text/markdown": [
       "\n",
       "| ï..DAYSWAIT_CHRON | PSTATUS | FINAL_MELD_SCORE | PTIME | TX_DATE | PX_STAT | PX_STAT_DATE | AGE | ABO | GENDER | ... | ABO_MAT | COLD_ISCH | MALIG | HGT_CM_CALC | WGT_KG_CALC | BMI_CALC | TX_MELD | LISTYR | LiverSize | LiverSizeDon |\n",
       "|---|---|---|---|---|---|---|---|---|---|---|---|---|---|---|---|---|---|---|---|---|\n",
       "|    7       | 0          | 39         |   51       | 12/24/2018 | A          | 2/13/2019  | 30         | O          | 1          | ...        | 1          |  4.30      | U          | 162.6      |  45.0      | 17.0       | No         | 2018       | 1721.500   | 2276.860   |\n",
       "|    5       | 0          | 19         |    6       | 12/23/2018 | A          | 12/29/2018 | 63         | A          | 0          | ...        | 1          |  3.48      | U          | 177.8      |  85.0      | 26.9       | No         | 2018       | 1934.720   | 2387.360   |\n",
       "|   10       | 0          | 22         |    6       | 12/28/2018 | A          | 1/3/2019   | 48         | B          | 0          | ...        | 1          |  4.95      | U          | 182.9      |  76.2      | 22.8       | No         | 2018       | 1987.348   | 2555.460   |\n",
       "|    9       | 0          | 35         |   27       | 12/27/2018 | A          | 1/23/2019  | 54         | O          | 1          | ...        | 1          |  3.62      | U          | 154.9      |  61.1      | 25.5       | No         | 2018       | 1669.494   | 2255.140   |\n",
       "|    2       | 0          | 35         |   54       | 12/20/2018 | A          | 2/12/2019  | 71         | O          | 1          | ...        | 1          |  7.50      | U          | 162.6      |  70.8      | 26.8       | No         | 2018       | 1605.492   | 2214.884   |\n",
       "|    6       | 0          | 19         |   10       | 12/24/2018 | A          | 1/3/2019   | 62         | O          | 1          | ...        | 1          |  5.33      | U          | 160.0      | 122.6      | 47.9       | No         | 2018       | 2546.924   | 1789.178   |\n",
       "|    4       | 0          | 35         |   51       | 12/22/2018 | A          | 2/11/2019  | 62         | O          | 1          | ...        | 1          |  9.14      | U          | 152.4      |  45.4      | 19.5       | No         | 2018       | 1316.356   | 2576.640   |\n",
       "|    9       | 1          | 14         |    0       | 12/28/2018 | D          | 12/28/2018 | 56         | A          | 0          | ...        | 1          |  5.25      | U          | 172.7      |  95.7      | 32.1       | No         | 2018       | 2195.298   | 1580.986   |\n",
       "|    1       | 1          | 36         |    3       | 12/20/2018 | D          | 12/23/2018 | 28         | B          | 1          | ...        | 1          |  4.60      | U          | 168.0      |  95.0      | 33.7       | No         | 2018       | 2544.220   | 2242.440   |\n",
       "|   11       | 0          | 23         |    6       | 12/30/2018 | A          | 1/5/2019   | 66         | A          | 0          | ...        | 1          |  5.60      | Y          | 170.0      |  71.9      | 24.9       | No         | 2018       | 1687.326   | 2019.038   |\n",
       "|    6       | 1          | 35         |   44       | 12/25/2018 | D          | 2/7/2019   | 59         | A          | 1          | ...        | 1          |  6.63      | U          | 165.1      | 154.4      | 56.6       | No         | 2018       | 3092.396   | 1886.520   |\n",
       "|    4       | 0          | 36         |   74       | 12/23/2018 | A          | 3/7/2019   | 28         | B          | 0          | ...        | 1          |  3.28      | U          | 167.6      |  66.7      | 23.7       | No         | 2018       | 2093.118   | 2451.958   |\n",
       "|    6       | 0          | 29         |    8       | 12/25/2018 | A          | 1/2/2019   | 58         | O          | 0          | ...        | 1          |  4.97      | U          | 175.3      |  93.7      | 30.5       | No         | 2018       | 2137.698   | 2704.756   |\n",
       "|    2       | 0          | 35         |    8       | 12/21/2018 | A          | 12/29/2018 | 39         | B          | 0          | ...        | 2          |  3.38      | U          | 180.3      |  88.1      | 27.1       | No         | 2018       | 2292.774   | 2446.960   |\n",
       "|   11       | 0          | 25         |    8       | 12/30/2018 | A          | 1/7/2019   | 49         | AB         | 1          | ...        | 1          |  6.43      | U          | 152.0      |  79.0      | 34.2       | No         | 2018       | 2019.120   | 2765.380   |\n",
       "|    7       | 0          | 32         |    4       | 12/27/2018 | A          | 12/31/2018 | 52         | O          | 1          | ...        | 1          |  3.77      | Y          | 152.4      |  89.4      | 38.5       | No         | 2018       | 2146.316   | 1873.500   |\n",
       "|    9       | 0          | 34         |   13       | 12/29/2018 | A          | 1/11/2019  | 53         | O          | 1          | ...        | 1          |  6.98      | U          | 165.0      |  86.0      | 31.6       | No         | 2018       | 2079.260   | 1856.964   |\n",
       "|    6       | 1          | 39         |    0       | 12/26/2018 | D          | 12/26/2018 | 59         | A          | 1          | ...        | 2          |  5.82      | U          | 181.0      |  82.2      | 25.1       | No         | 2018       | 1941.528   | 1985.482   |\n",
       "|    3       | 0          | 26         |   53       | 12/24/2018 | A          | 2/15/2019  | 53         | AB         | 0          | ...        | 2          |  6.00      | U          | 170.2      |  80.4      | 27.8       | No         | 2018       | 1989.996   | 2129.240   |\n",
       "|    9       | 0          | 25         |    7       | 12/30/2018 | A          | 1/6/2019   | 55         | A          | 0          | ...        | 1          |  5.68      | U          | 180.3      | 113.7      | 35.0       | No         | 2018       | 2495.078   | 2058.836   |\n",
       "|    6       | 0          | 26         |    8       | 12/27/2018 | A          | 1/4/2019   | 55         | O          | 0          | ...        | 1          |  3.00      | Y          | 172.7      | 103.4      | 34.7       | No         | 2018       | 2330.896   | 2335.190   |\n",
       "|   10       | 0          | 14         | 5690       | 3/9/2002   | A          | 10/6/2017  | 54         | A          | 0          | ...        | 1          |  4.80      | Y          | 164.0      |  82.0      | 30.5       | No         | 2002       | 2002.640   | 1881.280   |\n",
       "|  327       | 1          | 29         |  111       | 1/20/2003  | D          | 5/11/2003  | 51         | A          | 0          | ...        | 1          | 11.50      | N          | 167.6      |  78.0      | 27.8       | No         | 2002       | 1977.460   | 2471.760   |\n",
       "|  577       | 1          | 31         |   35       | 9/27/2003  | D          | 11/1/2003  | 48         | A          | 0          | ...        | 1          |  3.00      | N          | 180.3      |  74.8      | 23.0       | No         | 2002       | 1965.032   | 2250.980   |\n",
       "|  110       | 1          | 13         | 3023       | 6/17/2002  | D          | 9/26/2010  | 66         | B          | 0          | ...        | 2          |  5.00      | U          | 180.0      |  95.0      | 29.3       | No         | 2002       | 2055.540   | 2384.090   |\n",
       "| 1104       | 1          | 22         | 4699       | 3/7/2005   | D          | 1/17/2018  | 67         | A1         | 1          | ...        | 1          |  8.30      | N          | 160.0      |  70.8      | 27.6       | No         | 2002       | 1656.932   | 1886.360   |\n",
       "| 2131       | 0          | 26         | 3895       | 12/29/2007 | A          | 8/28/2018  | 56         | B          | 0          | ...        | 1          |  5.50      | N          | 165.1      |  58.5      | 21.5       | No         | 2002       | 1602.330   | 2174.222   |\n",
       "|   31       | 1          |  7         | 3829       | 3/30/2002  | D          | 9/22/2012  | 44         | B          | 0          | ...        | 2          |  3.50      | Y          | 170.2      |  70.8      | 24.4       | No         | 2002       | 1952.712   | 2051.566   |\n",
       "|  640       | 0          | 15         | 5507       | 11/29/2003 | A          | 12/27/2018 | 50         | B          | 0          | ...        | 1          |  4.00      | N          | 172.7      | 101.6      | 34.1       | No         | 2002       | 2366.504   | 2311.660   |\n",
       "|   18       | 0          | 16         | 5805       | 3/17/2002  | A          | 2/6/2018   | 41         | O          | 0          | ...        | 1          |  6.00      | N          | 174.5      |  82.8      | 27.2       | No         | 2002       | 2182.572   | 2247.438   |\n",
       "| ... | ... | ... | ... | ... | ... | ... | ... | ... | ... |     | ... | ... | ... | ... | ... | ... | ... | ... | ... | ... |\n",
       "| 13         | 0          | 18         | 54         | 12/20/2018 | A          | 2/12/2019  | 60         | A          | 0          | ...        | 1          | 7.30       | U          | 175.3      | 119.3      | 38.8       | No         | 2018       | 2520.042   | 2794.262   |\n",
       "| 13         | 0          | 29         |  7         | 12/21/2018 | A          | 12/28/2018 | 50         | B          | 1          | ...        | 1          | 5.85       | U          | 147.3      |  61.5      | 28.3       | No         | 2018       | 1727.310   | 2060.240   |\n",
       "|  6         | 0          | 24         | 13         | 12/16/2018 | A          | 12/29/2018 | 54         | B          | 1          | ...        | 2          | 6.00       | U          | 167.6      |  68.0      | 24.2       | No         | 2018       | 1779.480   | 1928.560   |\n",
       "|  8         | 0          | 22         | 58         | 12/18/2018 | A          | 2/14/2019  | 63         | B          | 1          | ...        | 1          | 4.20       | U          | 162.6      |  54.9      | 20.8       | No         | 2018       | 1454.926   | 1870.420   |\n",
       "|  9         | 0          | 30         | 22         | 12/19/2018 | A          | 1/10/2019  | 46         | O          | 1          | ...        | 1          | 3.51       | U          | 175.3      |  68.9      | 22.4       | No         | 2018       | 1896.706   | 1943.014   |\n",
       "| 12         | 0          | 10         |  6         | 12/22/2018 | A          | 12/28/2018 | 61         | B          | 0          | ...        | 1          | 4.25       | U          | 188.0      |  76.2      | 21.6       | No         | 2018       | 1820.168   | 2021.902   |\n",
       "|  4         | 0          | 40         | 31         | 12/14/2018 | A          | 1/14/2019  | 52         | A          | 0          | ...        | 1          | 8.00       | U          | 172.7      |  99.3      | 33.3       | No         | 2018       | 2304.122   | 2217.774   |\n",
       "|  7         | 0          | 23         |  3         | 12/18/2018 | A          | 12/21/2018 | 50         | AB         | 1          | ...        | 1          | 8.80       | U          | 172.7      |  64.0      | 21.4       | No         | 2018       | 1767.160   | 2263.568   |\n",
       "| 15         | 1          | 27         | 64         | 12/26/2018 | D          | 2/28/2019  | 54         | A          | 0          | ...        | 1          | 6.11       | U          | 175.3      | 105.6      | 34.4       | No         | 2018       | 2378.824   | 2825.360   |\n",
       "| 17         | 0          | 29         |  0         | 12/28/2018 | A          | 12/28/2018 | 59         | O          | 0          | ...        | 1          | 4.73       | U          | 193.0      | 111.4      | 29.9       | No         | 2018       | 2406.976   | 2449.120   |\n",
       "| 10         | 0          | 28         | 31         | 12/21/2018 | A          | 1/21/2019  | 63         | O          | 1          | ...        | 1          | 3.82       | U          | 167.6      |  99.8      | 35.5       | No         | 2018       | 2170.632   | 2353.238   |\n",
       "| 11         | 0          | 34         | 40         | 12/22/2018 | A          | 1/31/2019  | 42         | B          | 0          | ...        | 1          | 7.21       | U          | 170.2      |  66.7      | 23.0       | No         | 2018       | 1913.078   | 2208.590   |\n",
       "|  8         | 0          | 19         | 29         | 12/19/2018 | A          | 1/17/2019  | 29         | B          | 0          | ...        | 1          | 6.60       | U          | 182.9      |  74.4      | 22.2       | No         | 2018       | 2202.996   | 1993.750   |\n",
       "|  2         | 0          | 39         | 15         | 12/13/2018 | A          | 12/28/2018 | 26         | A          | 0          | ...        | 1          | 7.48       | U          | 185.4      |  88.1      | 25.6       | No         | 2018       | 2459.954   | 2156.230   |\n",
       "|  5         | 0          | 30         | 47         | 12/17/2018 | A          | 2/2/2019   | 37         | O          | 0          | ...        | 1          | 5.21       | U          | 185.4      |  60.9      | 17.7       | No         | 2018       | 1884.926   | 2137.158   |\n",
       "|  8         | 1          | 37         | 14         | 12/21/2018 | D          | 1/4/2019   | 60         | O          | 0          | ...        | 1          | 4.40       | U          | 180.3      | 118.4      | 36.4       | No         | 2018       | 2505.696   | 2549.300   |\n",
       "|  9         | 0          | 21         |  5         | 12/22/2018 | A          | 12/27/2018 | 54         | B          | 0          | ...        | 1          | 4.06       | U          | 182.0      |  91.9      | 27.7       | No         | 2018       | 2160.446   | 2945.908   |\n",
       "| 16         | 0          | 27         |  4         | 12/29/2018 | A          | 1/2/2019   | 62         | A          | 1          | ...        | 1          | 2.70       | U          | 172.7      |  59.9      | 20.1       | No         | 2018       | 1547.486   | 2932.400   |\n",
       "| 12         | 0          | 16         |  8         | 12/25/2018 | A          | 1/2/2019   | 50         | A          | 0          | ...        | 1          | 4.57       | U          | 162.6      |  62.6      | 23.7       | No         | 2018       | 1744.844   | 2864.588   |\n",
       "|  5         | 0          | 36         | 31         | 12/18/2018 | A          | 1/18/2019  | 63         | A          | 0          | ...        | 1          | 3.82       | U          | 170.2      |  94.4      | 32.6       | No         | 2018       | 2084.556   | 2230.310   |\n",
       "| 15         | 0          | 34         | 18         | 12/29/2018 | A          | 1/16/2019  | 45         | O          | 0          | ...        | 1          | 6.87       | U          | 167.6      |  92.3      | 32.9       | No         | 2018       | 2282.562   | 2690.384   |\n",
       "|  4         | 0          | 38         | 49         | 12/18/2018 | A          | 2/5/2019   | 46         | O          | 0          | ...        | 1          | 6.87       | U          | 167.6      |  61.3      | 21.8       | No         | 2018       | 1775.562   | 2554.540   |\n",
       "|  4         | 0          | 28         |  1         | 12/18/2018 | A          | 12/19/2018 | 71         | A          | 0          | ...        | 1          | 5.27       | Y          | 175.3      |  74.8      | 24.4       | No         | 2018       | 1669.252   | 2866.640   |\n",
       "|  5         | 0          | 38         |  1         | 12/19/2018 | A          | 12/20/2018 | 52         | B          | 0          | ...        | 1          | 5.80       | U          | 177.8      | 108.9      | 34.4       | No         | 2018       | 2457.146   | 2047.000   |\n",
       "|  5         | 0          | 25         | 14         | 12/19/2018 | A          | 1/2/2019   | 27         | AB         | 0          | ...        | 1          | 5.48       | Y          | 182.9      |  85.2      | 25.5       | No         | 2018       | 2400.868   | 1956.198   |\n",
       "|  6         | 0          | 21         | 54         | 12/20/2018 | A          | 2/12/2019  | 57         | A1         | 1          | ...        | 1          | 6.37       | Y          | 162.6      |  87.2      | 33.0       | No         | 2018       | 2046.948   | 2880.040   |\n",
       "|  6         | 0          | 28         | 26         | 12/20/2018 | A          | 1/15/2019  | 51         | A          | 1          | ...        | 1          | 4.63       | U          | 152.4      |  66.2      | 28.5       | No         | 2018       | 1789.368   | 2217.748   |\n",
       "| 12         | 0          | 35         | 30         | 12/26/2018 | A          | 1/25/2019  | 60         | O          | 0          | ...        | 1          | 9.80       | U          | 182.9      | 115.7      | 34.6       | No         | 2018       | 2462.658   | 2301.932   |\n",
       "|  5         | 0          | 39         | 20         | 12/19/2018 | A          | 1/8/2019   | 55         | A          | 1          | ...        | 1          | 1.02       | U          | 172.0      | 107.7      | 36.4       | No         | 2018       | 2399.438   | 2949.852   |\n",
       "| 11         | 0          | 39         | 21         | 12/27/2018 | A          | 1/17/2019  | 55         | B          | 0          | ...        | 1          | 5.40       | Y          | 165.1      |  96.6      | 35.4       | No         | 2018       | 2222.504   | 2595.228   |\n",
       "\n"
      ],
      "text/plain": [
       "      ï..DAYSWAIT_CHRON PSTATUS FINAL_MELD_SCORE PTIME TX_DATE    PX_STAT\n",
       "1        7              0       39                 51  12/24/2018 A      \n",
       "2        5              0       19                  6  12/23/2018 A      \n",
       "3       10              0       22                  6  12/28/2018 A      \n",
       "4        9              0       35                 27  12/27/2018 A      \n",
       "5        2              0       35                 54  12/20/2018 A      \n",
       "6        6              0       19                 10  12/24/2018 A      \n",
       "7        4              0       35                 51  12/22/2018 A      \n",
       "8        9              1       14                  0  12/28/2018 D      \n",
       "9        1              1       36                  3  12/20/2018 D      \n",
       "10      11              0       23                  6  12/30/2018 A      \n",
       "11       6              1       35                 44  12/25/2018 D      \n",
       "12       4              0       36                 74  12/23/2018 A      \n",
       "13       6              0       29                  8  12/25/2018 A      \n",
       "14       2              0       35                  8  12/21/2018 A      \n",
       "15      11              0       25                  8  12/30/2018 A      \n",
       "16       7              0       32                  4  12/27/2018 A      \n",
       "17       9              0       34                 13  12/29/2018 A      \n",
       "18       6              1       39                  0  12/26/2018 D      \n",
       "19       3              0       26                 53  12/24/2018 A      \n",
       "20       9              0       25                  7  12/30/2018 A      \n",
       "21       6              0       26                  8  12/27/2018 A      \n",
       "22      10              0       14               5690  3/9/2002   A      \n",
       "23     327              1       29                111  1/20/2003  D      \n",
       "24     577              1       31                 35  9/27/2003  D      \n",
       "25     110              1       13               3023  6/17/2002  D      \n",
       "26    1104              1       22               4699  3/7/2005   D      \n",
       "27    2131              0       26               3895  12/29/2007 A      \n",
       "28      31              1        7               3829  3/30/2002  D      \n",
       "29     640              0       15               5507  11/29/2003 A      \n",
       "30      18              0       16               5805  3/17/2002  A      \n",
       "...   ...               ...     ...              ...   ...        ...    \n",
       "79071 13                0       18               54    12/20/2018 A      \n",
       "79072 13                0       29                7    12/21/2018 A      \n",
       "79073  6                0       24               13    12/16/2018 A      \n",
       "79074  8                0       22               58    12/18/2018 A      \n",
       "79075  9                0       30               22    12/19/2018 A      \n",
       "79076 12                0       10                6    12/22/2018 A      \n",
       "79077  4                0       40               31    12/14/2018 A      \n",
       "79078  7                0       23                3    12/18/2018 A      \n",
       "79079 15                1       27               64    12/26/2018 D      \n",
       "79080 17                0       29                0    12/28/2018 A      \n",
       "79081 10                0       28               31    12/21/2018 A      \n",
       "79082 11                0       34               40    12/22/2018 A      \n",
       "79083  8                0       19               29    12/19/2018 A      \n",
       "79084  2                0       39               15    12/13/2018 A      \n",
       "79085  5                0       30               47    12/17/2018 A      \n",
       "79086  8                1       37               14    12/21/2018 D      \n",
       "79087  9                0       21                5    12/22/2018 A      \n",
       "79088 16                0       27                4    12/29/2018 A      \n",
       "79089 12                0       16                8    12/25/2018 A      \n",
       "79090  5                0       36               31    12/18/2018 A      \n",
       "79091 15                0       34               18    12/29/2018 A      \n",
       "79092  4                0       38               49    12/18/2018 A      \n",
       "79093  4                0       28                1    12/18/2018 A      \n",
       "79094  5                0       38                1    12/19/2018 A      \n",
       "79095  5                0       25               14    12/19/2018 A      \n",
       "79096  6                0       21               54    12/20/2018 A      \n",
       "79097  6                0       28               26    12/20/2018 A      \n",
       "79098 12                0       35               30    12/26/2018 A      \n",
       "79099  5                0       39               20    12/19/2018 A      \n",
       "79100 11                0       39               21    12/27/2018 A      \n",
       "      PX_STAT_DATE AGE ABO GENDER ... ABO_MAT COLD_ISCH MALIG HGT_CM_CALC\n",
       "1     2/13/2019    30  O   1      ... 1        4.30     U     162.6      \n",
       "2     12/29/2018   63  A   0      ... 1        3.48     U     177.8      \n",
       "3     1/3/2019     48  B   0      ... 1        4.95     U     182.9      \n",
       "4     1/23/2019    54  O   1      ... 1        3.62     U     154.9      \n",
       "5     2/12/2019    71  O   1      ... 1        7.50     U     162.6      \n",
       "6     1/3/2019     62  O   1      ... 1        5.33     U     160.0      \n",
       "7     2/11/2019    62  O   1      ... 1        9.14     U     152.4      \n",
       "8     12/28/2018   56  A   0      ... 1        5.25     U     172.7      \n",
       "9     12/23/2018   28  B   1      ... 1        4.60     U     168.0      \n",
       "10    1/5/2019     66  A   0      ... 1        5.60     Y     170.0      \n",
       "11    2/7/2019     59  A   1      ... 1        6.63     U     165.1      \n",
       "12    3/7/2019     28  B   0      ... 1        3.28     U     167.6      \n",
       "13    1/2/2019     58  O   0      ... 1        4.97     U     175.3      \n",
       "14    12/29/2018   39  B   0      ... 2        3.38     U     180.3      \n",
       "15    1/7/2019     49  AB  1      ... 1        6.43     U     152.0      \n",
       "16    12/31/2018   52  O   1      ... 1        3.77     Y     152.4      \n",
       "17    1/11/2019    53  O   1      ... 1        6.98     U     165.0      \n",
       "18    12/26/2018   59  A   1      ... 2        5.82     U     181.0      \n",
       "19    2/15/2019    53  AB  0      ... 2        6.00     U     170.2      \n",
       "20    1/6/2019     55  A   0      ... 1        5.68     U     180.3      \n",
       "21    1/4/2019     55  O   0      ... 1        3.00     Y     172.7      \n",
       "22    10/6/2017    54  A   0      ... 1        4.80     Y     164.0      \n",
       "23    5/11/2003    51  A   0      ... 1       11.50     N     167.6      \n",
       "24    11/1/2003    48  A   0      ... 1        3.00     N     180.3      \n",
       "25    9/26/2010    66  B   0      ... 2        5.00     U     180.0      \n",
       "26    1/17/2018    67  A1  1      ... 1        8.30     N     160.0      \n",
       "27    8/28/2018    56  B   0      ... 1        5.50     N     165.1      \n",
       "28    9/22/2012    44  B   0      ... 2        3.50     Y     170.2      \n",
       "29    12/27/2018   50  B   0      ... 1        4.00     N     172.7      \n",
       "30    2/6/2018     41  O   0      ... 1        6.00     N     174.5      \n",
       "...   ...          ... ... ...        ...     ...       ...   ...        \n",
       "79071 2/12/2019    60  A   0      ... 1       7.30      U     175.3      \n",
       "79072 12/28/2018   50  B   1      ... 1       5.85      U     147.3      \n",
       "79073 12/29/2018   54  B   1      ... 2       6.00      U     167.6      \n",
       "79074 2/14/2019    63  B   1      ... 1       4.20      U     162.6      \n",
       "79075 1/10/2019    46  O   1      ... 1       3.51      U     175.3      \n",
       "79076 12/28/2018   61  B   0      ... 1       4.25      U     188.0      \n",
       "79077 1/14/2019    52  A   0      ... 1       8.00      U     172.7      \n",
       "79078 12/21/2018   50  AB  1      ... 1       8.80      U     172.7      \n",
       "79079 2/28/2019    54  A   0      ... 1       6.11      U     175.3      \n",
       "79080 12/28/2018   59  O   0      ... 1       4.73      U     193.0      \n",
       "79081 1/21/2019    63  O   1      ... 1       3.82      U     167.6      \n",
       "79082 1/31/2019    42  B   0      ... 1       7.21      U     170.2      \n",
       "79083 1/17/2019    29  B   0      ... 1       6.60      U     182.9      \n",
       "79084 12/28/2018   26  A   0      ... 1       7.48      U     185.4      \n",
       "79085 2/2/2019     37  O   0      ... 1       5.21      U     185.4      \n",
       "79086 1/4/2019     60  O   0      ... 1       4.40      U     180.3      \n",
       "79087 12/27/2018   54  B   0      ... 1       4.06      U     182.0      \n",
       "79088 1/2/2019     62  A   1      ... 1       2.70      U     172.7      \n",
       "79089 1/2/2019     50  A   0      ... 1       4.57      U     162.6      \n",
       "79090 1/18/2019    63  A   0      ... 1       3.82      U     170.2      \n",
       "79091 1/16/2019    45  O   0      ... 1       6.87      U     167.6      \n",
       "79092 2/5/2019     46  O   0      ... 1       6.87      U     167.6      \n",
       "79093 12/19/2018   71  A   0      ... 1       5.27      Y     175.3      \n",
       "79094 12/20/2018   52  B   0      ... 1       5.80      U     177.8      \n",
       "79095 1/2/2019     27  AB  0      ... 1       5.48      Y     182.9      \n",
       "79096 2/12/2019    57  A1  1      ... 1       6.37      Y     162.6      \n",
       "79097 1/15/2019    51  A   1      ... 1       4.63      U     152.4      \n",
       "79098 1/25/2019    60  O   0      ... 1       9.80      U     182.9      \n",
       "79099 1/8/2019     55  A   1      ... 1       1.02      U     172.0      \n",
       "79100 1/17/2019    55  B   0      ... 1       5.40      Y     165.1      \n",
       "      WGT_KG_CALC BMI_CALC TX_MELD LISTYR LiverSize LiverSizeDon\n",
       "1      45.0       17.0     No      2018   1721.500  2276.860    \n",
       "2      85.0       26.9     No      2018   1934.720  2387.360    \n",
       "3      76.2       22.8     No      2018   1987.348  2555.460    \n",
       "4      61.1       25.5     No      2018   1669.494  2255.140    \n",
       "5      70.8       26.8     No      2018   1605.492  2214.884    \n",
       "6     122.6       47.9     No      2018   2546.924  1789.178    \n",
       "7      45.4       19.5     No      2018   1316.356  2576.640    \n",
       "8      95.7       32.1     No      2018   2195.298  1580.986    \n",
       "9      95.0       33.7     No      2018   2544.220  2242.440    \n",
       "10     71.9       24.9     No      2018   1687.326  2019.038    \n",
       "11    154.4       56.6     No      2018   3092.396  1886.520    \n",
       "12     66.7       23.7     No      2018   2093.118  2451.958    \n",
       "13     93.7       30.5     No      2018   2137.698  2704.756    \n",
       "14     88.1       27.1     No      2018   2292.774  2446.960    \n",
       "15     79.0       34.2     No      2018   2019.120  2765.380    \n",
       "16     89.4       38.5     No      2018   2146.316  1873.500    \n",
       "17     86.0       31.6     No      2018   2079.260  1856.964    \n",
       "18     82.2       25.1     No      2018   1941.528  1985.482    \n",
       "19     80.4       27.8     No      2018   1989.996  2129.240    \n",
       "20    113.7       35.0     No      2018   2495.078  2058.836    \n",
       "21    103.4       34.7     No      2018   2330.896  2335.190    \n",
       "22     82.0       30.5     No      2002   2002.640  1881.280    \n",
       "23     78.0       27.8     No      2002   1977.460  2471.760    \n",
       "24     74.8       23.0     No      2002   1965.032  2250.980    \n",
       "25     95.0       29.3     No      2002   2055.540  2384.090    \n",
       "26     70.8       27.6     No      2002   1656.932  1886.360    \n",
       "27     58.5       21.5     No      2002   1602.330  2174.222    \n",
       "28     70.8       24.4     No      2002   1952.712  2051.566    \n",
       "29    101.6       34.1     No      2002   2366.504  2311.660    \n",
       "30     82.8       27.2     No      2002   2182.572  2247.438    \n",
       "...   ...         ...      ...     ...    ...       ...         \n",
       "79071 119.3       38.8     No      2018   2520.042  2794.262    \n",
       "79072  61.5       28.3     No      2018   1727.310  2060.240    \n",
       "79073  68.0       24.2     No      2018   1779.480  1928.560    \n",
       "79074  54.9       20.8     No      2018   1454.926  1870.420    \n",
       "79075  68.9       22.4     No      2018   1896.706  1943.014    \n",
       "79076  76.2       21.6     No      2018   1820.168  2021.902    \n",
       "79077  99.3       33.3     No      2018   2304.122  2217.774    \n",
       "79078  64.0       21.4     No      2018   1767.160  2263.568    \n",
       "79079 105.6       34.4     No      2018   2378.824  2825.360    \n",
       "79080 111.4       29.9     No      2018   2406.976  2449.120    \n",
       "79081  99.8       35.5     No      2018   2170.632  2353.238    \n",
       "79082  66.7       23.0     No      2018   1913.078  2208.590    \n",
       "79083  74.4       22.2     No      2018   2202.996  1993.750    \n",
       "79084  88.1       25.6     No      2018   2459.954  2156.230    \n",
       "79085  60.9       17.7     No      2018   1884.926  2137.158    \n",
       "79086 118.4       36.4     No      2018   2505.696  2549.300    \n",
       "79087  91.9       27.7     No      2018   2160.446  2945.908    \n",
       "79088  59.9       20.1     No      2018   1547.486  2932.400    \n",
       "79089  62.6       23.7     No      2018   1744.844  2864.588    \n",
       "79090  94.4       32.6     No      2018   2084.556  2230.310    \n",
       "79091  92.3       32.9     No      2018   2282.562  2690.384    \n",
       "79092  61.3       21.8     No      2018   1775.562  2554.540    \n",
       "79093  74.8       24.4     No      2018   1669.252  2866.640    \n",
       "79094 108.9       34.4     No      2018   2457.146  2047.000    \n",
       "79095  85.2       25.5     No      2018   2400.868  1956.198    \n",
       "79096  87.2       33.0     No      2018   2046.948  2880.040    \n",
       "79097  66.2       28.5     No      2018   1789.368  2217.748    \n",
       "79098 115.7       34.6     No      2018   2462.658  2301.932    \n",
       "79099 107.7       36.4     No      2018   2399.438  2949.852    \n",
       "79100  96.6       35.4     No      2018   2222.504  2595.228    "
      ]
     },
     "metadata": {},
     "output_type": "display_data"
    }
   ],
   "source": [
    "# Verificando os dados iniciais do dataset\n",
    "dados"
   ]
  },
  {
   "cell_type": "markdown",
   "id": "41f4a45b",
   "metadata": {},
   "source": [
    "<h3> Análise Exploratória, Limpeza, Transformação e Manipulação de Dados (Data Wrangling) </h3>\n"
   ]
  },
  {
   "cell_type": "code",
   "execution_count": 90,
   "id": "fd822941",
   "metadata": {},
   "outputs": [
    {
     "data": {
      "text/plain": [
       " ï..DAYSWAIT_CHRON PSTATUS   FINAL_MELD_SCORE     PTIME            TX_DATE     \n",
       " Min.   :   0.0    0:55634   Min.   : 6.00    Min.   :   0   6/7/2017  :   36  \n",
       " 1st Qu.:  19.0    1:23466   1st Qu.:13.00    1st Qu.: 390   7/12/2018 :   33  \n",
       " Median :  87.0              Median :20.00    Median :1431   11/30/2016:   32  \n",
       " Mean   : 228.5              Mean   :20.87    Mean   :1793   4/26/2018 :   31  \n",
       " 3rd Qu.: 266.0              3rd Qu.:28.00    3rd Qu.:2889   6/13/2018 :   31  \n",
       " Max.   :5886.0              Max.   :40.00    Max.   :6001   1/18/2017 :   30  \n",
       "                                              NA's   :4      (Other)   :78907  \n",
       " PX_STAT       PX_STAT_DATE        AGE             ABO        GENDER   \n",
       " A:56020   12/3/2018 :  265   Min.   :18.00   O      :34871   0:53312  \n",
       " D:23080   11/27/2018:  250   1st Qu.:50.00   A      :29111   1:25788  \n",
       "           12/17/2018:  250   Median :56.00   B      :10828            \n",
       "           12/18/2018:  243   Mean   :54.97   AB     : 4115            \n",
       "           9/11/2018 :  239   3rd Qu.:62.00   A1     :  135            \n",
       "           10/9/2018 :  238   Max.   :83.00   A2     :   21            \n",
       "           (Other)   :77615                   (Other):   19            \n",
       "   WGT_KG_TCR       HGT_CM_TCR       BMI_TCR           DIAB      \n",
       " Min.   :  9.53   Min.   :  6.3   Min.   :    2.85   1   :57017  \n",
       " 1st Qu.: 71.50   1st Qu.:165.1   1st Qu.:   24.59   2   : 1520  \n",
       " Median : 83.55   Median :172.7   Median :   28.03   3   :16476  \n",
       " Mean   : 85.34   Mean   :172.1   Mean   :   29.09   4   :  309  \n",
       " 3rd Qu.: 97.52   3rd Qu.:180.3   3rd Qu.:   32.19   5   : 2939  \n",
       " Max.   :263.00   Max.   :225.0   Max.   :28798.19   998 :  828  \n",
       " NA's   :103      NA's   :166     NA's   :185        NA's:   11  \n",
       "    INIT_AGE         ETHCAT          REGION        PERM_STATE   \n",
       " Min.   :13.00   Min.   :1.000   3      :14070   CA     : 7979  \n",
       " 1st Qu.:49.00   1st Qu.:1.000   5      : 9962   TX     : 6518  \n",
       " Median :56.00   Median :1.000   2      : 9435   FL     : 5648  \n",
       " Mean   :54.35   Mean   :1.729   11     : 8528   NY     : 4582  \n",
       " 3rd Qu.:61.00   3rd Qu.:2.000   10     : 7656   PA     : 4084  \n",
       " Max.   :83.00   Max.   :9.000   4      : 7436   IL     : 3415  \n",
       "                                 (Other):22013   (Other):46874  \n",
       "    TX_Year      TX_PROCEDUR_TY  MED_COND_TRR   PREV_TX      AGE_DON     \n",
       " 2018   : 6547   Min.   :701    Min.   :1.000   N:74309   Min.   : 1.00  \n",
       " 2017   : 6519   1st Qu.:701    1st Qu.:2.000   Y: 4791   1st Qu.:26.00  \n",
       " 2016   : 6239   Median :701    Median :3.000             Median :42.00  \n",
       " 2015   : 5430   Mean   :701    Mean   :2.615             Mean   :41.14  \n",
       " 2014   : 5128   3rd Qu.:701    3rd Qu.:3.000             3rd Qu.:54.00  \n",
       " 2013   : 4898   Max.   :704    Max.   :3.000             Max.   :93.00  \n",
       " (Other):44339                  NA's   :5                                \n",
       " GENDER_DON HGT_CM_DON_CALC WGT_KG_DON_CALC   BMI_DON_CALC    COD_CAD_DON   \n",
       " 0:47310    Min.   : 86.0   Min.   : 16.00   Min.   :10.25   Min.   :  1.0  \n",
       " 1:31790    1st Qu.:165.0   1st Qu.: 67.10   1st Qu.:23.09   1st Qu.:  1.0  \n",
       "            Median :172.7   Median : 78.80   Median :26.39   Median :  2.0  \n",
       "            Mean   :171.5   Mean   : 80.88   Mean   :27.43   Mean   : 22.3  \n",
       "            3rd Qu.:180.0   3rd Qu.: 92.00   3rd Qu.:30.54   3rd Qu.:  3.0  \n",
       "            Max.   :213.4   Max.   :200.00   Max.   :74.36   Max.   :999.0  \n",
       "            NA's   :3       NA's   :43       NA's   :107     NA's   :2      \n",
       "   ETHCAT_DON    HOME_STATE_DON  DIABETES_DON HIST_HYPERTENS_DON\n",
       " Min.   :1.000   CA     : 6623   N   :70105   N   :51646        \n",
       " 1st Qu.:1.000   TX     : 6442   U   :  421   U   :  520        \n",
       " Median :1.000   FL     : 5753   Y   : 8572   Y   :26932        \n",
       " Mean   :1.744   PA     : 4236   NA's:    2   NA's:    2        \n",
       " 3rd Qu.:2.000   NY     : 3637                                  \n",
       " Max.   :9.000   (Other):52019                                  \n",
       " NA's   :10      NA's   :  390                                  \n",
       " HIST_IV_DRUG_OLD_DON    ABO_DON      HIST_CANCER_DON ALCOHOL_HEAVY_DON\n",
       " N   : 5780           O      :37100   N   :76040      N   :60943       \n",
       " U   :   54           A1     :15427   U   :  398      U   : 1296       \n",
       " Y   :  147           A      :11959   Y   : 2660      Y   :11144       \n",
       " NA's:73119           B      : 9706   NA's:    2      NA's: 5717       \n",
       "                      A2     : 2309                                    \n",
       "                      AB     : 1236                                    \n",
       "                      (Other): 1363                                    \n",
       "    ABO_MAT        COLD_ISCH     MALIG      HGT_CM_CALC     WGT_KG_CALC    \n",
       " Min.   :1.000   Min.   : 0.00   N:42828   Min.   :123.4   Min.   : 33.60  \n",
       " 1st Qu.:1.000   1st Qu.: 4.92   U:21290   1st Qu.:165.1   1st Qu.: 70.00  \n",
       " Median :1.000   Median : 6.16   Y:14982   Median :172.7   Median : 82.20  \n",
       " Mean   :1.072   Mean   : 6.64             Mean   :172.1   Mean   : 84.13  \n",
       " 3rd Qu.:1.000   3rd Qu.: 8.00             3rd Qu.:180.3   3rd Qu.: 96.20  \n",
       " Max.   :3.000   Max.   :48.00             Max.   :213.4   Max.   :202.30  \n",
       "                 NA's   :2384              NA's   :18      NA's   :13      \n",
       "    BMI_CALC    TX_MELD         LISTYR       LiverSize       LiverSizeDon   \n",
       " Min.   :15.0   No :79099   Min.   :2001   Min.   : 631.3   Min.   : 579.8  \n",
       " 1st Qu.:24.2   Yes:    1   1st Qu.:2007   1st Qu.:1790.7   1st Qu.:1903.5  \n",
       " Median :27.6               Median :2011   Median :1995.8   Median :2141.2  \n",
       " Mean   :28.3               Mean   :2011   Mean   :2023.9   Mean   :2149.4  \n",
       " 3rd Qu.:31.8               3rd Qu.:2015   3rd Qu.:2227.7   3rd Qu.:2371.9  \n",
       " Max.   :72.9               Max.   :2018   Max.   :3977.0   Max.   :4224.4  \n",
       " NA's   :47                                                                 "
      ]
     },
     "metadata": {},
     "output_type": "display_data"
    }
   ],
   "source": [
    "# Resumo estatístico dos dados\n",
    "summary(dados)"
   ]
  },
  {
   "cell_type": "code",
   "execution_count": 15,
   "id": "30147c6a",
   "metadata": {},
   "outputs": [
    {
     "name": "stdout",
     "output_type": "stream",
     "text": [
      "'data.frame':\t79100 obs. of  46 variables:\n",
      " $ ï..DAYSWAIT_CHRON   : int  7 5 10 9 2 6 4 9 1 11 ...\n",
      " $ PSTATUS             : int  0 0 0 0 0 0 0 1 1 0 ...\n",
      " $ FINAL_MELD_SCORE    : int  39 19 22 35 35 19 35 14 36 23 ...\n",
      " $ PTIME               : int  51 6 6 27 54 10 51 0 3 6 ...\n",
      " $ TX_DATE             : Factor w/ 6139 levels \"1/1/2003\",\"1/1/2004\",..: 1822 1805 1890 1873 1754 1822 1788 1890 1754 1941 ...\n",
      " $ PX_STAT             : Factor w/ 2 levels \"A\",\"D\": 1 1 1 1 1 1 1 2 2 1 ...\n",
      " $ PX_STAT_DATE        : Factor w/ 5774 levels \".\",\"1/1/2003\",..: 2046 1818 377 264 2030 377 2013 1803 1723 442 ...\n",
      " $ AGE                 : int  30 63 48 54 71 62 62 56 28 66 ...\n",
      " $ ABO                 : Factor w/ 8 levels \"A\",\"A1\",\"A1B\",..: 8 1 7 8 8 8 8 1 7 1 ...\n",
      " $ GENDER              : int  1 0 0 1 1 1 1 0 1 0 ...\n",
      " $ WGT_KG_TCR          : num  56.2 81.9 78.9 63.5 75.8 ...\n",
      " $ HGT_CM_TCR          : num  163 178 181 155 163 ...\n",
      " $ BMI_TCR             : num  21.3 25.9 24.1 26.4 28.7 ...\n",
      " $ DIAB                : int  1 1 1 1 1 3 1 1 1 1 ...\n",
      " $ INIT_AGE            : int  30 63 48 54 71 62 62 56 28 66 ...\n",
      " $ ETHCAT              : int  1 1 1 1 1 1 1 4 2 1 ...\n",
      " $ REGION              : int  2 3 10 4 3 3 5 3 3 11 ...\n",
      " $ PERM_STATE          : Factor w/ 56 levels \"AK\",\"AL\",\"AR\",..: 22 12 38 47 20 20 6 42 2 44 ...\n",
      " $ TX_Year             : int  2018 2018 2018 2018 2018 2018 2018 2018 2018 2018 ...\n",
      " $ TX_PROCEDUR_TY      : int  701 701 701 701 701 701 701 701 701 701 ...\n",
      " $ MED_COND_TRR        : int  1 3 3 2 3 1 1 3 1 3 ...\n",
      " $ PREV_TX             : Factor w/ 2 levels \"N\",\"Y\": 1 1 1 1 1 2 1 1 1 1 ...\n",
      " $ AGE_DON             : int  24 34 42 48 37 38 23 47 18 35 ...\n",
      " $ GENDER_DON          : int  1 0 1 1 1 0 0 0 0 0 ...\n",
      " $ HGT_CM_DON_CALC     : num  173 183 173 157 173 165 175 163 173 178 ...\n",
      " $ WGT_KG_DON_CALC     : num  75 90 107 93 81.6 55.7 93 49.9 68 67.7 ...\n",
      " $ BMI_DON_CALC        : num  25.1 26.9 35.8 37.7 27.3 ...\n",
      " $ COD_CAD_DON         : int  3 3 1 2 3 3 1 2 3 1 ...\n",
      " $ ETHCAT_DON          : int  2 1 1 1 1 1 4 4 4 1 ...\n",
      " $ HOME_STATE_DON      : Factor w/ 57 levels \"AK\",\"AL\",\"AR\",..: 42 12 38 48 3 11 5 43 43 45 ...\n",
      " $ DIABETES_DON        : Factor w/ 3 levels \"N\",\"U\",\"Y\": 1 1 3 1 1 1 1 1 1 1 ...\n",
      " $ HIST_HYPERTENS_DON  : Factor w/ 3 levels \"N\",\"U\",\"Y\": 1 1 3 3 1 1 1 1 1 1 ...\n",
      " $ HIST_IV_DRUG_OLD_DON: Factor w/ 3 levels \"N\",\"U\",\"Y\": NA NA NA NA NA NA NA NA NA NA ...\n",
      " $ ABO_DON             : Factor w/ 8 levels \"A\",\"A1\",\"A1B\",..: 8 1 7 8 8 8 8 4 7 2 ...\n",
      " $ HIST_CANCER_DON     : Factor w/ 3 levels \"N\",\"U\",\"Y\": 1 1 1 1 1 1 1 1 1 1 ...\n",
      " $ ALCOHOL_HEAVY_DON   : Factor w/ 3 levels \"N\",\"U\",\"Y\": 1 1 1 1 1 3 1 1 1 1 ...\n",
      " $ ABO_MAT             : int  1 1 1 1 1 1 1 1 1 1 ...\n",
      " $ COLD_ISCH           : num  4.3 3.48 4.95 3.62 7.5 5.33 9.14 5.25 4.6 5.6 ...\n",
      " $ MALIG               : Factor w/ 3 levels \"N\",\"U\",\"Y\": 2 2 2 2 2 2 2 2 2 3 ...\n",
      " $ HGT_CM_CALC         : num  163 178 183 155 163 ...\n",
      " $ WGT_KG_CALC         : num  45 85 76.2 61.1 70.8 ...\n",
      " $ BMI_CALC            : num  17 26.9 22.8 25.5 26.8 47.9 19.5 32.1 33.7 24.9 ...\n",
      " $ TX_MELD             : Factor w/ 2 levels \"No\",\"Yes\": 1 1 1 1 1 1 1 1 1 1 ...\n",
      " $ LISTYR              : int  2018 2018 2018 2018 2018 2018 2018 2018 2018 2018 ...\n",
      " $ LiverSize           : num  1722 1935 1987 1669 1605 ...\n",
      " $ LiverSizeDon        : num  2277 2387 2555 2255 2215 ...\n"
     ]
    }
   ],
   "source": [
    "# Tipos dos dados\n",
    "str(dados)"
   ]
  },
  {
   "cell_type": "markdown",
   "id": "e30b7904",
   "metadata": {},
   "source": [
    "<h2> A idade média das pessoas que recebem o transplante de fígado é de 55 anos <br/><br/>\n",
    "    50% das pessoas que necessitam de transplante tem entre 50 à 62 anos </h2>"
   ]
  },
  {
   "cell_type": "code",
   "execution_count": 97,
   "id": "de40fe70",
   "metadata": {},
   "outputs": [
    {
     "data": {
      "image/png": "[encoded data removed]",
      "text/plain": [
       "Plot with title \"Distribuição por idade dos recebedores do transplante de fígado\""
      ]
     },
     "metadata": {},
     "output_type": "display_data"
    }
   ],
   "source": [
    "# Analisando as idades das pessoas que RECEBEM o transplante de fígado\n",
    "hist(dados$AGE,\n",
    "main=\"Distribuição por idade dos recebedores do transplante de fígado\",\n",
    "xlab=\"Idade\",\n",
    "xlim=c(0,100),\n",
    "col=\"darkmagenta\",\n",
    "freq=FALSE\n",
    ")"
   ]
  },
  {
   "cell_type": "markdown",
   "id": "39cd4280",
   "metadata": {},
   "source": [
    "<h2> A idade média das pessoas que doam o transplante de fígado é de 51 anos <br/><br/>\n",
    "    50% das pessoas que necessitam de transplante tem entre 26 à 54 anos </h2>"
   ]
  },
  {
   "cell_type": "code",
   "execution_count": 98,
   "id": "794cd4b5",
   "metadata": {},
   "outputs": [
    {
     "data": {
      "image/png": "[encoded data removed]",
      "text/plain": [
       "Plot with title \"Distribuição por idade dos doadores do transplante de fígado\""
      ]
     },
     "metadata": {},
     "output_type": "display_data"
    }
   ],
   "source": [
    "# Analisando as idades das pessoas que DOAM o transplante de fígado\n",
    "hist(dados$AGE_DON,\n",
    "main=\"Distribuição por idade dos doadores do transplante de fígado\",\n",
    "xlab=\"Idade\",\n",
    "xlim=c(0,100),\n",
    "col=\"darkmagenta\",\n",
    "freq=FALSE\n",
    ")\n"
   ]
  },
  {
   "cell_type": "markdown",
   "id": "2fa49a26",
   "metadata": {},
   "source": [
    "<h2> Representação da quantidade de dias que as pessoas transplantadas sobrevivem após o transplante <br/> <br/>\n",
    "A média de dias sobrevividos após o transplante é de 1.793 dias <br/><br/>\n",
    "50% das pessoas que recebem o transplante sobrevivem entre 1.431 a 2.889 dias</h2>"
   ]
  },
  {
   "cell_type": "code",
   "execution_count": 110,
   "id": "af151e41",
   "metadata": {},
   "outputs": [
    {
     "data": {
      "image/png": "[encoded data removed]",
      "text/plain": [
       "Plot with title \"Distribuição de dias sobrevividos após o transplante\""
      ]
     },
     "metadata": {},
     "output_type": "display_data"
    }
   ],
   "source": [
    "# Analisando o número de dias que as pessoas que RECEBEM o transplante de fígado sobrevivem após o transplante\n",
    "hist(dados$PTIME,\n",
    "main=\"Distribuição de dias sobrevividos após o transplante\",\n",
    "xlab=\"Idade\",\n",
    "xlim=c(0,8000),\n",
    "col=\"gray\",\n",
    "freq=FALSE\n",
    ")\n"
   ]
  },
  {
   "cell_type": "markdown",
   "id": "76536eec",
   "metadata": {},
   "source": [
    "<h2> Analisando a variável FINAL_MELD_SCORE, que corresponde a pontuações dadas pelos médicos aos pacientes conforme a severidade e urgência do transplante <br/> <br/>\n",
    " Quanto maior a pontuação, mais severo e urgente a necessidade de um transplante de fígado </h2>"
   ]
  },
  {
   "cell_type": "code",
   "execution_count": 108,
   "id": "f13fdf87",
   "metadata": {},
   "outputs": [
    {
     "data": {
      "image/png": "[encoded data removed]",
      "text/plain": [
       "Plot with title \"Pontuação da severidade da doença do paciente\""
      ]
     },
     "metadata": {},
     "output_type": "display_data"
    }
   ],
   "source": [
    "# Analisando as pontuações dadas pelos médicos aos pacientes conforme a severidade e urgência do transplante\n",
    "# Quanto maior a pontuação, mais severo e urgente a necessidade de um transplante de fígado\n",
    "hist(dados$FINAL_MELD_SCORE,\n",
    "main=\"Pontuação da severidade da doença do paciente\",\n",
    "xlab=\"Idade\",\n",
    "xlim=c(0,50),\n",
    "col=\"blue\",\n",
    "freq=FALSE\n",
    ")\n"
   ]
  },
  {
   "cell_type": "code",
   "execution_count": 116,
   "id": "30615f59",
   "metadata": {},
   "outputs": [
    {
     "data": {
      "image/png": "[encoded data removed]",
      "text/plain": [
       "plot without title"
      ]
     },
     "metadata": {},
     "output_type": "display_data"
    }
   ],
   "source": [
    "# Histórico de câncer dos pacientes doadores de fígado\n",
    "ggplot(dados) + geom_bar(aes(x = HIST_CANCER_DON), fill=\"#009E73\", colour=\"black\")"
   ]
  },
  {
   "cell_type": "markdown",
   "id": "a4ecef01",
   "metadata": {},
   "source": [
    "<h2># Explorando os dados das variáveis categóricas</h2>"
   ]
  },
  {
   "cell_type": "code",
   "execution_count": 47,
   "id": "89b492de",
   "metadata": {},
   "outputs": [
    {
     "data": {
      "text/plain": [
       "\n",
       "    1     2     3     4     5   998 \n",
       "57017  1520 16476   309  2939   828 "
      ]
     },
     "metadata": {},
     "output_type": "display_data"
    },
    {
     "data": {
      "text/plain": [
       "\n",
       "    0     1 \n",
       "55634 23466 "
      ]
     },
     "metadata": {},
     "output_type": "display_data"
    },
    {
     "data": {
      "text/plain": [
       "\n",
       "    0     1 \n",
       "53312 25788 "
      ]
     },
     "metadata": {},
     "output_type": "display_data"
    },
    {
     "data": {
      "text/plain": [
       "\n",
       "    0     1 \n",
       "47310 31790 "
      ]
     },
     "metadata": {},
     "output_type": "display_data"
    },
    {
     "data": {
      "text/plain": [
       "\n",
       "    1     2     3     4     5     6     7     8     9    10    11 \n",
       " 2802  9435 14070  7436  9962  2505  6503  5458  4745  7656  8528 "
      ]
     },
     "metadata": {},
     "output_type": "display_data"
    },
    {
     "data": {
      "text/plain": [
       "\n",
       "2001 2002 2003 2004 2005 2006 2007 2008 2009 2010 2011 2012 2013 2014 2015 2016 \n",
       "   1 1456 2948 3717 4062 4475 4501 4459 4641 4583 4745 4751 4898 5128 5430 6239 \n",
       "2017 2018 \n",
       "6519 6547 "
      ]
     },
     "metadata": {},
     "output_type": "display_data"
    },
    {
     "data": {
      "text/plain": [
       "\n",
       "    N     U     Y \n",
       "42828 21290 14982 "
      ]
     },
     "metadata": {},
     "output_type": "display_data"
    },
    {
     "data": {
      "text/plain": [
       "\n",
       "    N     U     Y \n",
       "76040   398  2660 "
      ]
     },
     "metadata": {},
     "output_type": "display_data"
    }
   ],
   "source": [
    "# Converter variáveis numéricas para fator \n",
    "dados$DIAB = as.factor(dados$DIAB)\n",
    "table(dados$DIAB)\n",
    "dados$PSTATUS = as.factor(dados$PSTATUS)\n",
    "table(dados$PSTATUS)\n",
    "dados$GENDER = as.factor(dados$GENDER)\n",
    "dados$GENDER_DON = as.factor(dados$GENDER_DON)\n",
    "table(dados$GENDER)\n",
    "table(dados$GENDER_DON)\n",
    "dados$REGION = as.factor(dados$REGION)\n",
    "table(dados$REGION)\n",
    "dados$TX_Year = as.factor(dados$TX_Year)\n",
    "table(dados$TX_Year)\n",
    "dados$MALIG = as.factor(dados$MALIG)\n",
    "table(dados$MALIG)\n",
    "dados$HIST_CANCER_DON = as.factor(dados$HIST_CANCER_DON)\n",
    "table(dados$HIST_CANCER_DON)"
   ]
  },
  {
   "cell_type": "code",
   "execution_count": 48,
   "id": "49d96362",
   "metadata": {},
   "outputs": [
    {
     "ename": "ERROR",
     "evalue": "`PTIME` (`PTIME = 365`) must not be named, do you need `==`?",
     "output_type": "error",
     "traceback": [
      "`PTIME` (`PTIME = 365`) must not be named, do you need `==`?Traceback:\n",
      "1. dados %>% filter(PTIME = 365) %>% mutate(PTIME = (PTIME - 365))",
      "2. withVisible(eval(quote(`_fseq`(`_lhs`)), env, env))",
      "3. eval(quote(`_fseq`(`_lhs`)), env, env)",
      "4. eval(quote(`_fseq`(`_lhs`)), env, env)",
      "5. `_fseq`(`_lhs`)",
      "6. freduce(value, `_function_list`)",
      "7. function_list[[i]](value)",
      "8. filter(., PTIME = 365)",
      "9. filter.data.frame(., PTIME = 365)",
      "10. as.data.frame(filter(tbl_df(.data), ..., .preserve = .preserve))",
      "11. filter(tbl_df(.data), ..., .preserve = .preserve)",
      "12. filter.tbl_df(tbl_df(.data), ..., .preserve = .preserve)",
      "13. bad_eq_ops(bad, \"must not be named, do you need `==`?\")",
      "14. glubort(fmt_wrong_eq_ops(named_calls), ..., .envir = .envir)",
      "15. .abort(text)"
     ]
    }
   ],
   "source": [
    "# Considerando apenas os pacientes que sobreviveram ao primeiro ano de cirurgia\n",
    "dados1 = dados %>%\n",
    "  filter(PTIME = 365) %>%\n",
    "  mutate(PTIME = (PTIME - 365))\n"
   ]
  },
  {
   "cell_type": "code",
   "execution_count": 43,
   "id": "05b1dbc6",
   "metadata": {},
   "outputs": [
    {
     "data": {
      "text/html": [
       "<table>\n",
       "<thead><tr><th scope=col>ï..DAYSWAIT_CHRON</th><th scope=col>PSTATUS</th><th scope=col>FINAL_MELD_SCORE</th><th scope=col>PTIME</th><th scope=col>TX_DATE</th><th scope=col>PX_STAT</th><th scope=col>PX_STAT_DATE</th><th scope=col>AGE</th><th scope=col>ABO</th><th scope=col>GENDER</th><th scope=col>...</th><th scope=col>ABO_MAT</th><th scope=col>COLD_ISCH</th><th scope=col>MALIG</th><th scope=col>HGT_CM_CALC</th><th scope=col>WGT_KG_CALC</th><th scope=col>BMI_CALC</th><th scope=col>TX_MELD</th><th scope=col>LISTYR</th><th scope=col>LiverSize</th><th scope=col>LiverSizeDon</th></tr></thead>\n",
       "<tbody>\n",
       "\t<tr><td>  10      </td><td>0         </td><td>14        </td><td>5325      </td><td>3/9/2002  </td><td>A         </td><td>10/6/2017 </td><td>54        </td><td>A         </td><td>0         </td><td>...       </td><td>1         </td><td> 4.8      </td><td>Y         </td><td>164.0     </td><td> 82.0     </td><td>30.5      </td><td>No        </td><td>2002      </td><td>2002.640  </td><td>1881.280  </td></tr>\n",
       "\t<tr><td> 110      </td><td>1         </td><td>13        </td><td>2658      </td><td>6/17/2002 </td><td>D         </td><td>9/26/2010 </td><td>66        </td><td>B         </td><td>0         </td><td>...       </td><td>2         </td><td> 5.0      </td><td>U         </td><td>180.0     </td><td> 95.0     </td><td>29.3      </td><td>No        </td><td>2002      </td><td>2055.540  </td><td>2384.090  </td></tr>\n",
       "\t<tr><td>1104      </td><td>1         </td><td>22        </td><td>4334      </td><td>3/7/2005  </td><td>D         </td><td>1/17/2018 </td><td>67        </td><td>A1        </td><td>1         </td><td>...       </td><td>1         </td><td> 8.3      </td><td>N         </td><td>160.0     </td><td> 70.8     </td><td>27.6      </td><td>No        </td><td>2002      </td><td>1656.932  </td><td>1886.360  </td></tr>\n",
       "\t<tr><td>2131      </td><td>0         </td><td>26        </td><td>3530      </td><td>12/29/2007</td><td>A         </td><td>8/28/2018 </td><td>56        </td><td>B         </td><td>0         </td><td>...       </td><td>1         </td><td> 5.5      </td><td>N         </td><td>165.1     </td><td> 58.5     </td><td>21.5      </td><td>No        </td><td>2002      </td><td>1602.330  </td><td>2174.222  </td></tr>\n",
       "\t<tr><td>  31      </td><td>1         </td><td> 7        </td><td>3464      </td><td>3/30/2002 </td><td>D         </td><td>9/22/2012 </td><td>44        </td><td>B         </td><td>0         </td><td>...       </td><td>2         </td><td> 3.5      </td><td>Y         </td><td>170.2     </td><td> 70.8     </td><td>24.4      </td><td>No        </td><td>2002      </td><td>1952.712  </td><td>2051.566  </td></tr>\n",
       "\t<tr><td> 640      </td><td>0         </td><td>15        </td><td>5142      </td><td>11/29/2003</td><td>A         </td><td>12/27/2018</td><td>50        </td><td>B         </td><td>0         </td><td>...       </td><td>1         </td><td> 4.0      </td><td>N         </td><td>172.7     </td><td>101.6     </td><td>34.1      </td><td>No        </td><td>2002      </td><td>2366.504  </td><td>2311.660  </td></tr>\n",
       "\t<tr><td>  18      </td><td>0         </td><td>16        </td><td>5440      </td><td>3/17/2002 </td><td>A         </td><td>2/6/2018  </td><td>41        </td><td>O         </td><td>0         </td><td>...       </td><td>1         </td><td> 6.0      </td><td>N         </td><td>174.5     </td><td> 82.8     </td><td>27.2      </td><td>No        </td><td>2002      </td><td>2182.572  </td><td>2247.438  </td></tr>\n",
       "\t<tr><td> 577      </td><td>0         </td><td> 7        </td><td>5107      </td><td>9/28/2003 </td><td>A         </td><td>9/21/2018 </td><td>50        </td><td>A         </td><td>0         </td><td>...       </td><td>1         </td><td> 6.0      </td><td>N         </td><td>175.0     </td><td> 94.9     </td><td>31.0      </td><td>No        </td><td>2002      </td><td>2259.706  </td><td>2603.280  </td></tr>\n",
       "\t<tr><td> 481      </td><td>1         </td><td>21        </td><td>4496      </td><td>6/24/2003 </td><td>D         </td><td>10/14/2016</td><td>44        </td><td>O         </td><td>0         </td><td>...       </td><td>1         </td><td>10.0      </td><td>U         </td><td>190.0     </td><td> 49.0     </td><td>  NA      </td><td>No        </td><td>2002      </td><td>1605.220  </td><td>1622.106  </td></tr>\n",
       "\t<tr><td>  69      </td><td>0         </td><td>13        </td><td>5558      </td><td>5/8/2002  </td><td>A         </td><td>7/26/2018 </td><td>49        </td><td>O         </td><td>0         </td><td>...       </td><td>1         </td><td> 7.0      </td><td>N         </td><td>180.3     </td><td> 76.4     </td><td>23.5      </td><td>No        </td><td>2002      </td><td>1977.676  </td><td>2266.324  </td></tr>\n",
       "\t<tr><td> 130      </td><td>1         </td><td>14        </td><td>3014      </td><td>7/8/2002  </td><td>D         </td><td>10/8/2011 </td><td>52        </td><td>A         </td><td>0         </td><td>...       </td><td>1         </td><td> 7.0      </td><td>N         </td><td>170.2     </td><td> 82.3     </td><td>28.4      </td><td>No        </td><td>2002      </td><td>2033.142  </td><td>1696.726  </td></tr>\n",
       "\t<tr><td>  97      </td><td>1         </td><td>22        </td><td> 728      </td><td>6/5/2002  </td><td>D         </td><td>6/2/2005  </td><td>58        </td><td>A         </td><td>0         </td><td>...       </td><td>1         </td><td> 7.0      </td><td>N         </td><td>180.3     </td><td> 87.7     </td><td>27.0      </td><td>No        </td><td>2002      </td><td>2042.058  </td><td>2378.418  </td></tr>\n",
       "\t<tr><td> 744      </td><td>1         </td><td>26        </td><td> 685      </td><td>3/13/2004 </td><td>D         </td><td>1/27/2007 </td><td>58        </td><td>O         </td><td>1         </td><td>...       </td><td>1         </td><td> 6.0      </td><td>Y         </td><td>157.0     </td><td> 91.0     </td><td>36.9      </td><td>No        </td><td>2002      </td><td>2094.660  </td><td>1662.902  </td></tr>\n",
       "\t<tr><td> 609      </td><td>1         </td><td> 9        </td><td>1876      </td><td>10/30/2003</td><td>D         </td><td>12/18/2009</td><td>49        </td><td>A2        </td><td>1         </td><td>...       </td><td>1         </td><td> 9.0      </td><td>N         </td><td>167.6     </td><td> 60.8     </td><td>21.6      </td><td>No        </td><td>2002      </td><td>1729.012  </td><td>2404.920  </td></tr>\n",
       "\t<tr><td> 102      </td><td>0         </td><td>37        </td><td>5479      </td><td>6/10/2002 </td><td>A         </td><td>6/10/2018 </td><td>33        </td><td>A         </td><td>0         </td><td>...       </td><td>1         </td><td> 8.6      </td><td>N         </td><td>178.0     </td><td>106.0     </td><td>33.5      </td><td>No        </td><td>2002      </td><td>2655.260  </td><td>2064.508  </td></tr>\n",
       "\t<tr><td> 532      </td><td>0         </td><td>21        </td><td>5107      </td><td>8/14/2003 </td><td>A         </td><td>8/7/2018  </td><td>62        </td><td>A         </td><td>1         </td><td>...       </td><td>1         </td><td>  NA      </td><td>N         </td><td>162.0     </td><td> 62.0     </td><td>23.6      </td><td>No        </td><td>2002      </td><td>1580.960  </td><td>2530.414  </td></tr>\n",
       "\t<tr><td>  86      </td><td>1         </td><td>13        </td><td>5568      </td><td>5/25/2002 </td><td>D         </td><td>8/22/2018 </td><td>59        </td><td>A         </td><td>1         </td><td>...       </td><td>1         </td><td>10.0      </td><td>N         </td><td>157.5     </td><td> 57.2     </td><td>23.0      </td><td>No        </td><td>2002      </td><td>1543.028  </td><td>1676.518  </td></tr>\n",
       "\t<tr><td> 137      </td><td>1         </td><td>14        </td><td>4070      </td><td>7/16/2002 </td><td>D         </td><td>9/6/2014  </td><td>56        </td><td>B         </td><td>0         </td><td>...       </td><td>1         </td><td>  NA      </td><td>N         </td><td>177.8     </td><td> 66.0     </td><td>20.9      </td><td>No        </td><td>2002      </td><td>1721.880  </td><td>2379.200  </td></tr>\n",
       "\t<tr><td> 255      </td><td>0         </td><td>10        </td><td>5503      </td><td>11/11/2002</td><td>A         </td><td>12/5/2018 </td><td>66        </td><td>A2B       </td><td>0         </td><td>...       </td><td>1         </td><td> 8.0      </td><td>N         </td><td>177.8     </td><td> 99.0     </td><td>31.3      </td><td>No        </td><td>2002      </td><td>2119.300  </td><td>2695.352  </td></tr>\n",
       "\t<tr><td> 124      </td><td>0         </td><td>35        </td><td>5412      </td><td>7/3/2002  </td><td>A         </td><td>4/27/2018 </td><td>59        </td><td>A         </td><td>0         </td><td>...       </td><td>1         </td><td>  NA      </td><td>N         </td><td>172.7     </td><td> 82.6     </td><td>27.7      </td><td>No        </td><td>2002      </td><td>1947.904  </td><td>2401.300  </td></tr>\n",
       "\t<tr><td>   1      </td><td>1         </td><td>26        </td><td>2038      </td><td>3/2/2002  </td><td>D         </td><td>9/29/2008 </td><td>45        </td><td>A         </td><td>0         </td><td>...       </td><td>1         </td><td> 6.0      </td><td>N         </td><td>175.3     </td><td> 65.3     </td><td>21.3      </td><td>No        </td><td>2002      </td><td>1852.182  </td><td>2109.032  </td></tr>\n",
       "\t<tr><td> 139      </td><td>1         </td><td>22        </td><td>2670      </td><td>7/18/2002 </td><td>D         </td><td>11/8/2010 </td><td>55        </td><td>A         </td><td>0         </td><td>...       </td><td>1         </td><td>10.0      </td><td>N         </td><td>162.6     </td><td> 91.8     </td><td>34.7      </td><td>No        </td><td>2002      </td><td>2145.992  </td><td>2108.220  </td></tr>\n",
       "\t<tr><td>   1      </td><td>0         </td><td>13        </td><td>5525      </td><td>3/4/2002  </td><td>A         </td><td>4/19/2018 </td><td>74        </td><td>AB        </td><td>1         </td><td>...       </td><td>2         </td><td> 3.0      </td><td>N         </td><td>154.9     </td><td> 52.2     </td><td>21.7      </td><td>No        </td><td>2002      </td><td>1270.428  </td><td>1628.832  </td></tr>\n",
       "\t<tr><td> 160      </td><td>1         </td><td>12        </td><td>3398      </td><td>8/10/2002 </td><td>D         </td><td>11/28/2012</td><td>43        </td><td>A         </td><td>0         </td><td>...       </td><td>1         </td><td> 5.0      </td><td>N         </td><td>185.0     </td><td> 91.0     </td><td>26.6      </td><td>No        </td><td>2002      </td><td>2287.560  </td><td>2341.160  </td></tr>\n",
       "\t<tr><td> 139      </td><td>1         </td><td> 7        </td><td>4609      </td><td>7/21/2002 </td><td>D         </td><td>3/3/2016  </td><td>50        </td><td>O         </td><td>0         </td><td>...       </td><td>1         </td><td>12.6      </td><td>N         </td><td>178.0     </td><td> 69.0     </td><td>21.8      </td><td>No        </td><td>2002      </td><td>1846.860  </td><td>2038.516  </td></tr>\n",
       "\t<tr><td>  17      </td><td>1         </td><td> 7        </td><td>2994      </td><td>3/21/2002 </td><td>D         </td><td>6/1/2011  </td><td>59        </td><td>O         </td><td>1         </td><td>...       </td><td>1         </td><td> 6.1      </td><td>N         </td><td>166.0     </td><td> 58.9     </td><td>21.4      </td><td>No        </td><td>2002      </td><td>1570.126  </td><td>1803.900  </td></tr>\n",
       "\t<tr><td>  35      </td><td>1         </td><td>20        </td><td> 183      </td><td>4/9/2002  </td><td>D         </td><td>10/9/2003 </td><td>47        </td><td>O         </td><td>0         </td><td>...       </td><td>1         </td><td>10.3      </td><td>N         </td><td>165.1     </td><td> 82.6     </td><td>30.3      </td><td>No        </td><td>2002      </td><td>2102.224  </td><td>2828.980  </td></tr>\n",
       "\t<tr><td>  22      </td><td>1         </td><td>17        </td><td>1122      </td><td>3/27/2002 </td><td>D         </td><td>4/22/2006 </td><td>27        </td><td>O         </td><td>1         </td><td>...       </td><td>1         </td><td> 6.0      </td><td>N         </td><td>167.6     </td><td> 77.1     </td><td>27.4      </td><td>No        </td><td>2002      </td><td>2271.754  </td><td>2374.634  </td></tr>\n",
       "\t<tr><td>2550      </td><td>0         </td><td>10        </td><td>2915      </td><td>2/26/2009 </td><td>A         </td><td>2/19/2018 </td><td>41        </td><td>A         </td><td>0         </td><td>...       </td><td>1         </td><td>10.4      </td><td>N         </td><td>185.4     </td><td> 84.9     </td><td>24.7      </td><td>No        </td><td>2002      </td><td>2216.046  </td><td>2192.542  </td></tr>\n",
       "\t<tr><td> 112      </td><td>1         </td><td>26        </td><td>  69      </td><td>6/25/2002 </td><td>D         </td><td>9/2/2003  </td><td>52        </td><td>A         </td><td>0         </td><td>...       </td><td>1         </td><td>  NA      </td><td>N         </td><td>167.6     </td><td> 68.5     </td><td>24.4      </td><td>No        </td><td>2002      </td><td>1813.170  </td><td>2319.060  </td></tr>\n",
       "\t<tr><td>...</td><td>...</td><td>...</td><td>...</td><td>...</td><td>...</td><td>...</td><td>...</td><td>...</td><td>...</td><td>   </td><td>...</td><td>...</td><td>...</td><td>...</td><td>...</td><td>...</td><td>...</td><td>...</td><td>...</td><td>...</td></tr>\n",
       "\t<tr><td> 6       </td><td>0        </td><td>40       </td><td>15       </td><td>1/28/2018</td><td>A        </td><td>2/12/2019</td><td>41       </td><td>O        </td><td>1        </td><td>...      </td><td>1        </td><td>6.27     </td><td>U        </td><td>162.6    </td><td>109.8    </td><td>41.5     </td><td>No       </td><td>2018     </td><td>2612.952 </td><td>2059.428 </td></tr>\n",
       "\t<tr><td>11       </td><td>0        </td><td>15       </td><td> 5       </td><td>2/2/2018 </td><td>A        </td><td>2/7/2019 </td><td>57       </td><td>O        </td><td>0        </td><td>...      </td><td>1        </td><td>8.33     </td><td>U        </td><td>173.0    </td><td>119.2    </td><td>39.8     </td><td>No       </td><td>2018     </td><td>2557.028 </td><td>2049.190 </td></tr>\n",
       "\t<tr><td>13       </td><td>0        </td><td>32       </td><td> 4       </td><td>2/4/2018 </td><td>A        </td><td>2/8/2019 </td><td>50       </td><td>O        </td><td>0        </td><td>...      </td><td>1        </td><td>6.75     </td><td>U        </td><td>185.0    </td><td> 64.2    </td><td>18.8     </td><td>No       </td><td>2018     </td><td>1770.348 </td><td>2217.666 </td></tr>\n",
       "\t<tr><td>10       </td><td>0        </td><td>36       </td><td>10       </td><td>2/2/2018 </td><td>A        </td><td>2/12/2019</td><td>62       </td><td>O        </td><td>0        </td><td>...      </td><td>1        </td><td>5.37     </td><td>U        </td><td>170.2    </td><td> 68.9    </td><td>23.8     </td><td>No       </td><td>2018     </td><td>1690.946 </td><td>2284.588 </td></tr>\n",
       "\t<tr><td> 4       </td><td>0        </td><td>30       </td><td>25       </td><td>1/27/2018</td><td>A        </td><td>2/21/2019</td><td>41       </td><td>O        </td><td>1        </td><td>...      </td><td>1        </td><td>3.70     </td><td>U        </td><td>160.0    </td><td> 85.9    </td><td>33.6     </td><td>No       </td><td>2018     </td><td>2231.986 </td><td>2025.604 </td></tr>\n",
       "\t<tr><td> 5       </td><td>0        </td><td>28       </td><td> 8       </td><td>1/29/2018</td><td>A        </td><td>2/6/2019 </td><td>63       </td><td>O        </td><td>1        </td><td>...      </td><td>1        </td><td>5.00     </td><td>Y        </td><td>154.9    </td><td> 81.6    </td><td>34.0     </td><td>No       </td><td>2018     </td><td>1880.524 </td><td>1978.540 </td></tr>\n",
       "\t<tr><td>17       </td><td>0        </td><td>18       </td><td>24       </td><td>2/10/2018</td><td>A        </td><td>3/6/2019 </td><td>67       </td><td>O        </td><td>0        </td><td>...      </td><td>1        </td><td>3.10     </td><td>U        </td><td>190.5    </td><td>139.7    </td><td>38.5     </td><td>No       </td><td>2018     </td><td>2755.198 </td><td>2441.612 </td></tr>\n",
       "\t<tr><td> 4       </td><td>0        </td><td>11       </td><td> 1       </td><td>1/29/2018</td><td>A        </td><td>1/30/2019</td><td>49       </td><td>A        </td><td>0        </td><td>...      </td><td>1        </td><td>4.90     </td><td>U        </td><td>175.3    </td><td> 84.0    </td><td>27.3     </td><td>No       </td><td>2018     </td><td>2098.820 </td><td>2553.244 </td></tr>\n",
       "\t<tr><td> 2       </td><td>0        </td><td>35       </td><td> 8       </td><td>1/27/2018</td><td>A        </td><td>2/4/2019 </td><td>68       </td><td>B        </td><td>0        </td><td>...      </td><td>2        </td><td>3.12     </td><td>Y        </td><td>167.6    </td><td> 56.7    </td><td>20.2     </td><td>No       </td><td>2018     </td><td>1419.318 </td><td>3152.804 </td></tr>\n",
       "\t<tr><td> 5       </td><td>0        </td><td>30       </td><td>22       </td><td>1/30/2018</td><td>A        </td><td>2/21/2019</td><td>29       </td><td>O        </td><td>0        </td><td>...      </td><td>1        </td><td>4.70     </td><td>U        </td><td>177.8    </td><td> 56.9    </td><td>18.0     </td><td>No       </td><td>2018     </td><td>1924.046 </td><td>2175.060 </td></tr>\n",
       "\t<tr><td>23       </td><td>0        </td><td>23       </td><td> 3       </td><td>2/18/2018</td><td>A        </td><td>2/21/2019</td><td>52       </td><td>O        </td><td>0        </td><td>...      </td><td>1        </td><td>5.95     </td><td>U        </td><td>175.0    </td><td> 74.1    </td><td>24.2     </td><td>No       </td><td>2018     </td><td>1902.434 </td><td>2675.792 </td></tr>\n",
       "\t<tr><td>15       </td><td>0        </td><td>26       </td><td>24       </td><td>2/10/2018</td><td>A        </td><td>3/6/2019 </td><td>45       </td><td>B        </td><td>1        </td><td>...      </td><td>2        </td><td>3.20     </td><td>U        </td><td>165.1    </td><td> 91.9    </td><td>33.7     </td><td>No       </td><td>2018     </td><td>2276.186 </td><td>1972.030 </td></tr>\n",
       "\t<tr><td> 1       </td><td>0        </td><td>40       </td><td>21       </td><td>1/28/2018</td><td>A        </td><td>2/18/2019</td><td>46       </td><td>B        </td><td>0        </td><td>...      </td><td>1        </td><td>4.40     </td><td>U        </td><td>187.9    </td><td>160.5    </td><td>45.5     </td><td>No       </td><td>2018     </td><td>3356.810 </td><td>2221.260 </td></tr>\n",
       "\t<tr><td> 1       </td><td>0        </td><td>23       </td><td> 7       </td><td>1/31/2018</td><td>A        </td><td>2/7/2019 </td><td>51       </td><td>O        </td><td>0        </td><td>...      </td><td>1        </td><td>5.60     </td><td>U        </td><td>166.0    </td><td> 94.0    </td><td>34.1     </td><td>No       </td><td>2018     </td><td>2232.500 </td><td>1816.142 </td></tr>\n",
       "\t<tr><td> 3       </td><td>0        </td><td>27       </td><td>12       </td><td>2/3/2018 </td><td>A        </td><td>2/15/2019</td><td>55       </td><td>B        </td><td>0        </td><td>...      </td><td>1        </td><td>4.96     </td><td>U        </td><td>170.2    </td><td> 55.0    </td><td>19.0     </td><td>No       </td><td>2018     </td><td>1559.400 </td><td>2232.742 </td></tr>\n",
       "\t<tr><td>14       </td><td>0        </td><td>29       </td><td>24       </td><td>2/15/2018</td><td>A        </td><td>3/11/2019</td><td>56       </td><td>A        </td><td>1        </td><td>...      </td><td>1        </td><td>6.65     </td><td>U        </td><td>154.9    </td><td> 75.0    </td><td>31.3     </td><td>No       </td><td>2018     </td><td>1865.340 </td><td>1987.348 </td></tr>\n",
       "\t<tr><td> 8       </td><td>0        </td><td>18       </td><td> 8       </td><td>2/10/2018</td><td>A        </td><td>2/18/2019</td><td>57       </td><td>B        </td><td>0        </td><td>...      </td><td>1        </td><td>3.21     </td><td>U        </td><td>162.6    </td><td> 67.4    </td><td>25.5     </td><td>No       </td><td>2018     </td><td>1731.336 </td><td>1761.920 </td></tr>\n",
       "\t<tr><td> 9       </td><td>0        </td><td>34       </td><td> 2       </td><td>2/11/2018</td><td>A        </td><td>2/13/2019</td><td>64       </td><td>A        </td><td>0        </td><td>...      </td><td>1        </td><td>5.33     </td><td>U        </td><td>170.2    </td><td> 99.3    </td><td>34.3     </td><td>No       </td><td>2018     </td><td>2149.802 </td><td>2677.900 </td></tr>\n",
       "\t<tr><td> 1       </td><td>0        </td><td>36       </td><td> 9       </td><td>2/3/2018 </td><td>A        </td><td>2/12/2019</td><td>46       </td><td>A        </td><td>1        </td><td>...      </td><td>1        </td><td>7.93     </td><td>Y        </td><td>172.0    </td><td>125.1    </td><td>42.3     </td><td>No       </td><td>2018     </td><td>2792.534 </td><td>2530.280 </td></tr>\n",
       "\t<tr><td> 9       </td><td>0        </td><td>33       </td><td>28       </td><td>2/14/2018</td><td>A        </td><td>3/14/2019</td><td>56       </td><td>A        </td><td>0        </td><td>...      </td><td>1        </td><td>4.50     </td><td>U        </td><td>178.0    </td><td>108.0    </td><td>34.1     </td><td>No       </td><td>2018     </td><td>2391.360 </td><td>1952.820 </td></tr>\n",
       "\t<tr><td> 2       </td><td>0        </td><td>33       </td><td> 1       </td><td>2/10/2018</td><td>A        </td><td>2/11/2019</td><td>20       </td><td>A        </td><td>0        </td><td>...      </td><td>1        </td><td>4.20     </td><td>U        </td><td>185.4    </td><td> 83.2    </td><td>24.2     </td><td>No       </td><td>2018     </td><td>2459.008 </td><td>1465.760 </td></tr>\n",
       "\t<tr><td>12       </td><td>0        </td><td>39       </td><td>18       </td><td>2/21/2018</td><td>A        </td><td>3/11/2019</td><td>51       </td><td>O        </td><td>1        </td><td>...      </td><td>1        </td><td>4.10     </td><td>U        </td><td>165.1    </td><td>109.0    </td><td>40.0     </td><td>No       </td><td>2018     </td><td>2471.600 </td><td>1741.980 </td></tr>\n",
       "\t<tr><td> 2       </td><td>0        </td><td>34       </td><td>10       </td><td>2/11/2018</td><td>A        </td><td>2/21/2019</td><td>43       </td><td>A        </td><td>1        </td><td>...      </td><td>1        </td><td>5.35     </td><td>U        </td><td>165.1    </td><td>122.5    </td><td>44.9     </td><td>No       </td><td>2018     </td><td>2789.670 </td><td>1536.760 </td></tr>\n",
       "\t<tr><td>10       </td><td>0        </td><td>25       </td><td> 2       </td><td>2/23/2018</td><td>A        </td><td>2/25/2019</td><td>56       </td><td>O        </td><td>0        </td><td>...      </td><td>1        </td><td>4.37     </td><td>U        </td><td>167.6    </td><td>132.0    </td><td>47.0     </td><td>No       </td><td>2018     </td><td>2773.920 </td><td>2593.418 </td></tr>\n",
       "\t<tr><td> 2       </td><td>1        </td><td>26       </td><td> 5       </td><td>2/16/2018</td><td>D        </td><td>2/21/2019</td><td>63       </td><td>AB       </td><td>1        </td><td>...      </td><td>2        </td><td>6.62     </td><td>Y        </td><td>162.6    </td><td> 59.6    </td><td>22.5     </td><td>No       </td><td>2018     </td><td>1529.844 </td><td>2659.610 </td></tr>\n",
       "\t<tr><td>11       </td><td>0        </td><td>27       </td><td> 7       </td><td>2/26/2018</td><td>A        </td><td>3/5/2019 </td><td>63       </td><td>A        </td><td>0        </td><td>...      </td><td>1        </td><td>4.33     </td><td>U        </td><td>170.2    </td><td>117.7    </td><td>40.6     </td><td>No       </td><td>2018     </td><td>2455.958 </td><td>2317.656 </td></tr>\n",
       "\t<tr><td> 5       </td><td>0        </td><td>39       </td><td> 6       </td><td>2/27/2018</td><td>A        </td><td>3/5/2019 </td><td>52       </td><td>O        </td><td>0        </td><td>...      </td><td>3        </td><td>5.13     </td><td>U        </td><td>175.0    </td><td> 90.5    </td><td>29.6     </td><td>No       </td><td>2018     </td><td>2163.850 </td><td>2991.620 </td></tr>\n",
       "\t<tr><td> 2       </td><td>0        </td><td>35       </td><td> 3       </td><td>2/25/2018</td><td>A        </td><td>2/28/2019</td><td>36       </td><td>B        </td><td>0        </td><td>...      </td><td>1        </td><td>4.68     </td><td>U        </td><td>162.6    </td><td> 83.9    </td><td>31.8     </td><td>No       </td><td>2018     </td><td>2264.406 </td><td>2179.086 </td></tr>\n",
       "\t<tr><td> 3       </td><td>0        </td><td>36       </td><td> 8       </td><td>2/26/2018</td><td>A        </td><td>3/6/2019 </td><td>52       </td><td>O        </td><td>0        </td><td>...      </td><td>1        </td><td>2.43     </td><td>U        </td><td>173.0    </td><td> 67.3    </td><td>22.5     </td><td>No       </td><td>2018     </td><td>1794.042 </td><td>2117.352 </td></tr>\n",
       "\t<tr><td> 6       </td><td>0        </td><td>34       </td><td> 5       </td><td>3/1/2018 </td><td>A        </td><td>3/6/2019 </td><td>67       </td><td>A        </td><td>1        </td><td>...      </td><td>1        </td><td>7.80     </td><td>U        </td><td>149.0    </td><td> 48.0    </td><td>21.6     </td><td>No       </td><td>2018     </td><td>1293.500 </td><td>2051.160 </td></tr>\n",
       "</tbody>\n",
       "</table>\n"
      ],
      "text/latex": [
       "\\begin{tabular}{r|llllllllllllllllllllllllllllllllllllllllllllll}\n",
       " ï..DAYSWAIT\\_CHRON & PSTATUS & FINAL\\_MELD\\_SCORE & PTIME & TX\\_DATE & PX\\_STAT & PX\\_STAT\\_DATE & AGE & ABO & GENDER & ... & ABO\\_MAT & COLD\\_ISCH & MALIG & HGT\\_CM\\_CALC & WGT\\_KG\\_CALC & BMI\\_CALC & TX\\_MELD & LISTYR & LiverSize & LiverSizeDon\\\\\n",
       "\\hline\n",
       "\t   10       & 0          & 14         & 5325       & 3/9/2002   & A          & 10/6/2017  & 54         & A          & 0          & ...        & 1          &  4.8       & Y          & 164.0      &  82.0      & 30.5       & No         & 2002       & 2002.640   & 1881.280  \\\\\n",
       "\t  110       & 1          & 13         & 2658       & 6/17/2002  & D          & 9/26/2010  & 66         & B          & 0          & ...        & 2          &  5.0       & U          & 180.0      &  95.0      & 29.3       & No         & 2002       & 2055.540   & 2384.090  \\\\\n",
       "\t 1104       & 1          & 22         & 4334       & 3/7/2005   & D          & 1/17/2018  & 67         & A1         & 1          & ...        & 1          &  8.3       & N          & 160.0      &  70.8      & 27.6       & No         & 2002       & 1656.932   & 1886.360  \\\\\n",
       "\t 2131       & 0          & 26         & 3530       & 12/29/2007 & A          & 8/28/2018  & 56         & B          & 0          & ...        & 1          &  5.5       & N          & 165.1      &  58.5      & 21.5       & No         & 2002       & 1602.330   & 2174.222  \\\\\n",
       "\t   31       & 1          &  7         & 3464       & 3/30/2002  & D          & 9/22/2012  & 44         & B          & 0          & ...        & 2          &  3.5       & Y          & 170.2      &  70.8      & 24.4       & No         & 2002       & 1952.712   & 2051.566  \\\\\n",
       "\t  640       & 0          & 15         & 5142       & 11/29/2003 & A          & 12/27/2018 & 50         & B          & 0          & ...        & 1          &  4.0       & N          & 172.7      & 101.6      & 34.1       & No         & 2002       & 2366.504   & 2311.660  \\\\\n",
       "\t   18       & 0          & 16         & 5440       & 3/17/2002  & A          & 2/6/2018   & 41         & O          & 0          & ...        & 1          &  6.0       & N          & 174.5      &  82.8      & 27.2       & No         & 2002       & 2182.572   & 2247.438  \\\\\n",
       "\t  577       & 0          &  7         & 5107       & 9/28/2003  & A          & 9/21/2018  & 50         & A          & 0          & ...        & 1          &  6.0       & N          & 175.0      &  94.9      & 31.0       & No         & 2002       & 2259.706   & 2603.280  \\\\\n",
       "\t  481       & 1          & 21         & 4496       & 6/24/2003  & D          & 10/14/2016 & 44         & O          & 0          & ...        & 1          & 10.0       & U          & 190.0      &  49.0      &   NA       & No         & 2002       & 1605.220   & 1622.106  \\\\\n",
       "\t   69       & 0          & 13         & 5558       & 5/8/2002   & A          & 7/26/2018  & 49         & O          & 0          & ...        & 1          &  7.0       & N          & 180.3      &  76.4      & 23.5       & No         & 2002       & 1977.676   & 2266.324  \\\\\n",
       "\t  130       & 1          & 14         & 3014       & 7/8/2002   & D          & 10/8/2011  & 52         & A          & 0          & ...        & 1          &  7.0       & N          & 170.2      &  82.3      & 28.4       & No         & 2002       & 2033.142   & 1696.726  \\\\\n",
       "\t   97       & 1          & 22         &  728       & 6/5/2002   & D          & 6/2/2005   & 58         & A          & 0          & ...        & 1          &  7.0       & N          & 180.3      &  87.7      & 27.0       & No         & 2002       & 2042.058   & 2378.418  \\\\\n",
       "\t  744       & 1          & 26         &  685       & 3/13/2004  & D          & 1/27/2007  & 58         & O          & 1          & ...        & 1          &  6.0       & Y          & 157.0      &  91.0      & 36.9       & No         & 2002       & 2094.660   & 1662.902  \\\\\n",
       "\t  609       & 1          &  9         & 1876       & 10/30/2003 & D          & 12/18/2009 & 49         & A2         & 1          & ...        & 1          &  9.0       & N          & 167.6      &  60.8      & 21.6       & No         & 2002       & 1729.012   & 2404.920  \\\\\n",
       "\t  102       & 0          & 37         & 5479       & 6/10/2002  & A          & 6/10/2018  & 33         & A          & 0          & ...        & 1          &  8.6       & N          & 178.0      & 106.0      & 33.5       & No         & 2002       & 2655.260   & 2064.508  \\\\\n",
       "\t  532       & 0          & 21         & 5107       & 8/14/2003  & A          & 8/7/2018   & 62         & A          & 1          & ...        & 1          &   NA       & N          & 162.0      &  62.0      & 23.6       & No         & 2002       & 1580.960   & 2530.414  \\\\\n",
       "\t   86       & 1          & 13         & 5568       & 5/25/2002  & D          & 8/22/2018  & 59         & A          & 1          & ...        & 1          & 10.0       & N          & 157.5      &  57.2      & 23.0       & No         & 2002       & 1543.028   & 1676.518  \\\\\n",
       "\t  137       & 1          & 14         & 4070       & 7/16/2002  & D          & 9/6/2014   & 56         & B          & 0          & ...        & 1          &   NA       & N          & 177.8      &  66.0      & 20.9       & No         & 2002       & 1721.880   & 2379.200  \\\\\n",
       "\t  255       & 0          & 10         & 5503       & 11/11/2002 & A          & 12/5/2018  & 66         & A2B        & 0          & ...        & 1          &  8.0       & N          & 177.8      &  99.0      & 31.3       & No         & 2002       & 2119.300   & 2695.352  \\\\\n",
       "\t  124       & 0          & 35         & 5412       & 7/3/2002   & A          & 4/27/2018  & 59         & A          & 0          & ...        & 1          &   NA       & N          & 172.7      &  82.6      & 27.7       & No         & 2002       & 1947.904   & 2401.300  \\\\\n",
       "\t    1       & 1          & 26         & 2038       & 3/2/2002   & D          & 9/29/2008  & 45         & A          & 0          & ...        & 1          &  6.0       & N          & 175.3      &  65.3      & 21.3       & No         & 2002       & 1852.182   & 2109.032  \\\\\n",
       "\t  139       & 1          & 22         & 2670       & 7/18/2002  & D          & 11/8/2010  & 55         & A          & 0          & ...        & 1          & 10.0       & N          & 162.6      &  91.8      & 34.7       & No         & 2002       & 2145.992   & 2108.220  \\\\\n",
       "\t    1       & 0          & 13         & 5525       & 3/4/2002   & A          & 4/19/2018  & 74         & AB         & 1          & ...        & 2          &  3.0       & N          & 154.9      &  52.2      & 21.7       & No         & 2002       & 1270.428   & 1628.832  \\\\\n",
       "\t  160       & 1          & 12         & 3398       & 8/10/2002  & D          & 11/28/2012 & 43         & A          & 0          & ...        & 1          &  5.0       & N          & 185.0      &  91.0      & 26.6       & No         & 2002       & 2287.560   & 2341.160  \\\\\n",
       "\t  139       & 1          &  7         & 4609       & 7/21/2002  & D          & 3/3/2016   & 50         & O          & 0          & ...        & 1          & 12.6       & N          & 178.0      &  69.0      & 21.8       & No         & 2002       & 1846.860   & 2038.516  \\\\\n",
       "\t   17       & 1          &  7         & 2994       & 3/21/2002  & D          & 6/1/2011   & 59         & O          & 1          & ...        & 1          &  6.1       & N          & 166.0      &  58.9      & 21.4       & No         & 2002       & 1570.126   & 1803.900  \\\\\n",
       "\t   35       & 1          & 20         &  183       & 4/9/2002   & D          & 10/9/2003  & 47         & O          & 0          & ...        & 1          & 10.3       & N          & 165.1      &  82.6      & 30.3       & No         & 2002       & 2102.224   & 2828.980  \\\\\n",
       "\t   22       & 1          & 17         & 1122       & 3/27/2002  & D          & 4/22/2006  & 27         & O          & 1          & ...        & 1          &  6.0       & N          & 167.6      &  77.1      & 27.4       & No         & 2002       & 2271.754   & 2374.634  \\\\\n",
       "\t 2550       & 0          & 10         & 2915       & 2/26/2009  & A          & 2/19/2018  & 41         & A          & 0          & ...        & 1          & 10.4       & N          & 185.4      &  84.9      & 24.7       & No         & 2002       & 2216.046   & 2192.542  \\\\\n",
       "\t  112       & 1          & 26         &   69       & 6/25/2002  & D          & 9/2/2003   & 52         & A          & 0          & ...        & 1          &   NA       & N          & 167.6      &  68.5      & 24.4       & No         & 2002       & 1813.170   & 2319.060  \\\\\n",
       "\t ... & ... & ... & ... & ... & ... & ... & ... & ... & ... &     & ... & ... & ... & ... & ... & ... & ... & ... & ... & ...\\\\\n",
       "\t  6        & 0         & 40        & 15        & 1/28/2018 & A         & 2/12/2019 & 41        & O         & 1         & ...       & 1         & 6.27      & U         & 162.6     & 109.8     & 41.5      & No        & 2018      & 2612.952  & 2059.428 \\\\\n",
       "\t 11        & 0         & 15        &  5        & 2/2/2018  & A         & 2/7/2019  & 57        & O         & 0         & ...       & 1         & 8.33      & U         & 173.0     & 119.2     & 39.8      & No        & 2018      & 2557.028  & 2049.190 \\\\\n",
       "\t 13        & 0         & 32        &  4        & 2/4/2018  & A         & 2/8/2019  & 50        & O         & 0         & ...       & 1         & 6.75      & U         & 185.0     &  64.2     & 18.8      & No        & 2018      & 1770.348  & 2217.666 \\\\\n",
       "\t 10        & 0         & 36        & 10        & 2/2/2018  & A         & 2/12/2019 & 62        & O         & 0         & ...       & 1         & 5.37      & U         & 170.2     &  68.9     & 23.8      & No        & 2018      & 1690.946  & 2284.588 \\\\\n",
       "\t  4        & 0         & 30        & 25        & 1/27/2018 & A         & 2/21/2019 & 41        & O         & 1         & ...       & 1         & 3.70      & U         & 160.0     &  85.9     & 33.6      & No        & 2018      & 2231.986  & 2025.604 \\\\\n",
       "\t  5        & 0         & 28        &  8        & 1/29/2018 & A         & 2/6/2019  & 63        & O         & 1         & ...       & 1         & 5.00      & Y         & 154.9     &  81.6     & 34.0      & No        & 2018      & 1880.524  & 1978.540 \\\\\n",
       "\t 17        & 0         & 18        & 24        & 2/10/2018 & A         & 3/6/2019  & 67        & O         & 0         & ...       & 1         & 3.10      & U         & 190.5     & 139.7     & 38.5      & No        & 2018      & 2755.198  & 2441.612 \\\\\n",
       "\t  4        & 0         & 11        &  1        & 1/29/2018 & A         & 1/30/2019 & 49        & A         & 0         & ...       & 1         & 4.90      & U         & 175.3     &  84.0     & 27.3      & No        & 2018      & 2098.820  & 2553.244 \\\\\n",
       "\t  2        & 0         & 35        &  8        & 1/27/2018 & A         & 2/4/2019  & 68        & B         & 0         & ...       & 2         & 3.12      & Y         & 167.6     &  56.7     & 20.2      & No        & 2018      & 1419.318  & 3152.804 \\\\\n",
       "\t  5        & 0         & 30        & 22        & 1/30/2018 & A         & 2/21/2019 & 29        & O         & 0         & ...       & 1         & 4.70      & U         & 177.8     &  56.9     & 18.0      & No        & 2018      & 1924.046  & 2175.060 \\\\\n",
       "\t 23        & 0         & 23        &  3        & 2/18/2018 & A         & 2/21/2019 & 52        & O         & 0         & ...       & 1         & 5.95      & U         & 175.0     &  74.1     & 24.2      & No        & 2018      & 1902.434  & 2675.792 \\\\\n",
       "\t 15        & 0         & 26        & 24        & 2/10/2018 & A         & 3/6/2019  & 45        & B         & 1         & ...       & 2         & 3.20      & U         & 165.1     &  91.9     & 33.7      & No        & 2018      & 2276.186  & 1972.030 \\\\\n",
       "\t  1        & 0         & 40        & 21        & 1/28/2018 & A         & 2/18/2019 & 46        & B         & 0         & ...       & 1         & 4.40      & U         & 187.9     & 160.5     & 45.5      & No        & 2018      & 3356.810  & 2221.260 \\\\\n",
       "\t  1        & 0         & 23        &  7        & 1/31/2018 & A         & 2/7/2019  & 51        & O         & 0         & ...       & 1         & 5.60      & U         & 166.0     &  94.0     & 34.1      & No        & 2018      & 2232.500  & 1816.142 \\\\\n",
       "\t  3        & 0         & 27        & 12        & 2/3/2018  & A         & 2/15/2019 & 55        & B         & 0         & ...       & 1         & 4.96      & U         & 170.2     &  55.0     & 19.0      & No        & 2018      & 1559.400  & 2232.742 \\\\\n",
       "\t 14        & 0         & 29        & 24        & 2/15/2018 & A         & 3/11/2019 & 56        & A         & 1         & ...       & 1         & 6.65      & U         & 154.9     &  75.0     & 31.3      & No        & 2018      & 1865.340  & 1987.348 \\\\\n",
       "\t  8        & 0         & 18        &  8        & 2/10/2018 & A         & 2/18/2019 & 57        & B         & 0         & ...       & 1         & 3.21      & U         & 162.6     &  67.4     & 25.5      & No        & 2018      & 1731.336  & 1761.920 \\\\\n",
       "\t  9        & 0         & 34        &  2        & 2/11/2018 & A         & 2/13/2019 & 64        & A         & 0         & ...       & 1         & 5.33      & U         & 170.2     &  99.3     & 34.3      & No        & 2018      & 2149.802  & 2677.900 \\\\\n",
       "\t  1        & 0         & 36        &  9        & 2/3/2018  & A         & 2/12/2019 & 46        & A         & 1         & ...       & 1         & 7.93      & Y         & 172.0     & 125.1     & 42.3      & No        & 2018      & 2792.534  & 2530.280 \\\\\n",
       "\t  9        & 0         & 33        & 28        & 2/14/2018 & A         & 3/14/2019 & 56        & A         & 0         & ...       & 1         & 4.50      & U         & 178.0     & 108.0     & 34.1      & No        & 2018      & 2391.360  & 1952.820 \\\\\n",
       "\t  2        & 0         & 33        &  1        & 2/10/2018 & A         & 2/11/2019 & 20        & A         & 0         & ...       & 1         & 4.20      & U         & 185.4     &  83.2     & 24.2      & No        & 2018      & 2459.008  & 1465.760 \\\\\n",
       "\t 12        & 0         & 39        & 18        & 2/21/2018 & A         & 3/11/2019 & 51        & O         & 1         & ...       & 1         & 4.10      & U         & 165.1     & 109.0     & 40.0      & No        & 2018      & 2471.600  & 1741.980 \\\\\n",
       "\t  2        & 0         & 34        & 10        & 2/11/2018 & A         & 2/21/2019 & 43        & A         & 1         & ...       & 1         & 5.35      & U         & 165.1     & 122.5     & 44.9      & No        & 2018      & 2789.670  & 1536.760 \\\\\n",
       "\t 10        & 0         & 25        &  2        & 2/23/2018 & A         & 2/25/2019 & 56        & O         & 0         & ...       & 1         & 4.37      & U         & 167.6     & 132.0     & 47.0      & No        & 2018      & 2773.920  & 2593.418 \\\\\n",
       "\t  2        & 1         & 26        &  5        & 2/16/2018 & D         & 2/21/2019 & 63        & AB        & 1         & ...       & 2         & 6.62      & Y         & 162.6     &  59.6     & 22.5      & No        & 2018      & 1529.844  & 2659.610 \\\\\n",
       "\t 11        & 0         & 27        &  7        & 2/26/2018 & A         & 3/5/2019  & 63        & A         & 0         & ...       & 1         & 4.33      & U         & 170.2     & 117.7     & 40.6      & No        & 2018      & 2455.958  & 2317.656 \\\\\n",
       "\t  5        & 0         & 39        &  6        & 2/27/2018 & A         & 3/5/2019  & 52        & O         & 0         & ...       & 3         & 5.13      & U         & 175.0     &  90.5     & 29.6      & No        & 2018      & 2163.850  & 2991.620 \\\\\n",
       "\t  2        & 0         & 35        &  3        & 2/25/2018 & A         & 2/28/2019 & 36        & B         & 0         & ...       & 1         & 4.68      & U         & 162.6     &  83.9     & 31.8      & No        & 2018      & 2264.406  & 2179.086 \\\\\n",
       "\t  3        & 0         & 36        &  8        & 2/26/2018 & A         & 3/6/2019  & 52        & O         & 0         & ...       & 1         & 2.43      & U         & 173.0     &  67.3     & 22.5      & No        & 2018      & 1794.042  & 2117.352 \\\\\n",
       "\t  6        & 0         & 34        &  5        & 3/1/2018  & A         & 3/6/2019  & 67        & A         & 1         & ...       & 1         & 7.80      & U         & 149.0     &  48.0     & 21.6      & No        & 2018      & 1293.500  & 2051.160 \\\\\n",
       "\\end{tabular}\n"
      ],
      "text/markdown": [
       "\n",
       "| ï..DAYSWAIT_CHRON | PSTATUS | FINAL_MELD_SCORE | PTIME | TX_DATE | PX_STAT | PX_STAT_DATE | AGE | ABO | GENDER | ... | ABO_MAT | COLD_ISCH | MALIG | HGT_CM_CALC | WGT_KG_CALC | BMI_CALC | TX_MELD | LISTYR | LiverSize | LiverSizeDon |\n",
       "|---|---|---|---|---|---|---|---|---|---|---|---|---|---|---|---|---|---|---|---|---|\n",
       "|   10       | 0          | 14         | 5325       | 3/9/2002   | A          | 10/6/2017  | 54         | A          | 0          | ...        | 1          |  4.8       | Y          | 164.0      |  82.0      | 30.5       | No         | 2002       | 2002.640   | 1881.280   |\n",
       "|  110       | 1          | 13         | 2658       | 6/17/2002  | D          | 9/26/2010  | 66         | B          | 0          | ...        | 2          |  5.0       | U          | 180.0      |  95.0      | 29.3       | No         | 2002       | 2055.540   | 2384.090   |\n",
       "| 1104       | 1          | 22         | 4334       | 3/7/2005   | D          | 1/17/2018  | 67         | A1         | 1          | ...        | 1          |  8.3       | N          | 160.0      |  70.8      | 27.6       | No         | 2002       | 1656.932   | 1886.360   |\n",
       "| 2131       | 0          | 26         | 3530       | 12/29/2007 | A          | 8/28/2018  | 56         | B          | 0          | ...        | 1          |  5.5       | N          | 165.1      |  58.5      | 21.5       | No         | 2002       | 1602.330   | 2174.222   |\n",
       "|   31       | 1          |  7         | 3464       | 3/30/2002  | D          | 9/22/2012  | 44         | B          | 0          | ...        | 2          |  3.5       | Y          | 170.2      |  70.8      | 24.4       | No         | 2002       | 1952.712   | 2051.566   |\n",
       "|  640       | 0          | 15         | 5142       | 11/29/2003 | A          | 12/27/2018 | 50         | B          | 0          | ...        | 1          |  4.0       | N          | 172.7      | 101.6      | 34.1       | No         | 2002       | 2366.504   | 2311.660   |\n",
       "|   18       | 0          | 16         | 5440       | 3/17/2002  | A          | 2/6/2018   | 41         | O          | 0          | ...        | 1          |  6.0       | N          | 174.5      |  82.8      | 27.2       | No         | 2002       | 2182.572   | 2247.438   |\n",
       "|  577       | 0          |  7         | 5107       | 9/28/2003  | A          | 9/21/2018  | 50         | A          | 0          | ...        | 1          |  6.0       | N          | 175.0      |  94.9      | 31.0       | No         | 2002       | 2259.706   | 2603.280   |\n",
       "|  481       | 1          | 21         | 4496       | 6/24/2003  | D          | 10/14/2016 | 44         | O          | 0          | ...        | 1          | 10.0       | U          | 190.0      |  49.0      |   NA       | No         | 2002       | 1605.220   | 1622.106   |\n",
       "|   69       | 0          | 13         | 5558       | 5/8/2002   | A          | 7/26/2018  | 49         | O          | 0          | ...        | 1          |  7.0       | N          | 180.3      |  76.4      | 23.5       | No         | 2002       | 1977.676   | 2266.324   |\n",
       "|  130       | 1          | 14         | 3014       | 7/8/2002   | D          | 10/8/2011  | 52         | A          | 0          | ...        | 1          |  7.0       | N          | 170.2      |  82.3      | 28.4       | No         | 2002       | 2033.142   | 1696.726   |\n",
       "|   97       | 1          | 22         |  728       | 6/5/2002   | D          | 6/2/2005   | 58         | A          | 0          | ...        | 1          |  7.0       | N          | 180.3      |  87.7      | 27.0       | No         | 2002       | 2042.058   | 2378.418   |\n",
       "|  744       | 1          | 26         |  685       | 3/13/2004  | D          | 1/27/2007  | 58         | O          | 1          | ...        | 1          |  6.0       | Y          | 157.0      |  91.0      | 36.9       | No         | 2002       | 2094.660   | 1662.902   |\n",
       "|  609       | 1          |  9         | 1876       | 10/30/2003 | D          | 12/18/2009 | 49         | A2         | 1          | ...        | 1          |  9.0       | N          | 167.6      |  60.8      | 21.6       | No         | 2002       | 1729.012   | 2404.920   |\n",
       "|  102       | 0          | 37         | 5479       | 6/10/2002  | A          | 6/10/2018  | 33         | A          | 0          | ...        | 1          |  8.6       | N          | 178.0      | 106.0      | 33.5       | No         | 2002       | 2655.260   | 2064.508   |\n",
       "|  532       | 0          | 21         | 5107       | 8/14/2003  | A          | 8/7/2018   | 62         | A          | 1          | ...        | 1          |   NA       | N          | 162.0      |  62.0      | 23.6       | No         | 2002       | 1580.960   | 2530.414   |\n",
       "|   86       | 1          | 13         | 5568       | 5/25/2002  | D          | 8/22/2018  | 59         | A          | 1          | ...        | 1          | 10.0       | N          | 157.5      |  57.2      | 23.0       | No         | 2002       | 1543.028   | 1676.518   |\n",
       "|  137       | 1          | 14         | 4070       | 7/16/2002  | D          | 9/6/2014   | 56         | B          | 0          | ...        | 1          |   NA       | N          | 177.8      |  66.0      | 20.9       | No         | 2002       | 1721.880   | 2379.200   |\n",
       "|  255       | 0          | 10         | 5503       | 11/11/2002 | A          | 12/5/2018  | 66         | A2B        | 0          | ...        | 1          |  8.0       | N          | 177.8      |  99.0      | 31.3       | No         | 2002       | 2119.300   | 2695.352   |\n",
       "|  124       | 0          | 35         | 5412       | 7/3/2002   | A          | 4/27/2018  | 59         | A          | 0          | ...        | 1          |   NA       | N          | 172.7      |  82.6      | 27.7       | No         | 2002       | 1947.904   | 2401.300   |\n",
       "|    1       | 1          | 26         | 2038       | 3/2/2002   | D          | 9/29/2008  | 45         | A          | 0          | ...        | 1          |  6.0       | N          | 175.3      |  65.3      | 21.3       | No         | 2002       | 1852.182   | 2109.032   |\n",
       "|  139       | 1          | 22         | 2670       | 7/18/2002  | D          | 11/8/2010  | 55         | A          | 0          | ...        | 1          | 10.0       | N          | 162.6      |  91.8      | 34.7       | No         | 2002       | 2145.992   | 2108.220   |\n",
       "|    1       | 0          | 13         | 5525       | 3/4/2002   | A          | 4/19/2018  | 74         | AB         | 1          | ...        | 2          |  3.0       | N          | 154.9      |  52.2      | 21.7       | No         | 2002       | 1270.428   | 1628.832   |\n",
       "|  160       | 1          | 12         | 3398       | 8/10/2002  | D          | 11/28/2012 | 43         | A          | 0          | ...        | 1          |  5.0       | N          | 185.0      |  91.0      | 26.6       | No         | 2002       | 2287.560   | 2341.160   |\n",
       "|  139       | 1          |  7         | 4609       | 7/21/2002  | D          | 3/3/2016   | 50         | O          | 0          | ...        | 1          | 12.6       | N          | 178.0      |  69.0      | 21.8       | No         | 2002       | 1846.860   | 2038.516   |\n",
       "|   17       | 1          |  7         | 2994       | 3/21/2002  | D          | 6/1/2011   | 59         | O          | 1          | ...        | 1          |  6.1       | N          | 166.0      |  58.9      | 21.4       | No         | 2002       | 1570.126   | 1803.900   |\n",
       "|   35       | 1          | 20         |  183       | 4/9/2002   | D          | 10/9/2003  | 47         | O          | 0          | ...        | 1          | 10.3       | N          | 165.1      |  82.6      | 30.3       | No         | 2002       | 2102.224   | 2828.980   |\n",
       "|   22       | 1          | 17         | 1122       | 3/27/2002  | D          | 4/22/2006  | 27         | O          | 1          | ...        | 1          |  6.0       | N          | 167.6      |  77.1      | 27.4       | No         | 2002       | 2271.754   | 2374.634   |\n",
       "| 2550       | 0          | 10         | 2915       | 2/26/2009  | A          | 2/19/2018  | 41         | A          | 0          | ...        | 1          | 10.4       | N          | 185.4      |  84.9      | 24.7       | No         | 2002       | 2216.046   | 2192.542   |\n",
       "|  112       | 1          | 26         |   69       | 6/25/2002  | D          | 9/2/2003   | 52         | A          | 0          | ...        | 1          |   NA       | N          | 167.6      |  68.5      | 24.4       | No         | 2002       | 1813.170   | 2319.060   |\n",
       "| ... | ... | ... | ... | ... | ... | ... | ... | ... | ... |     | ... | ... | ... | ... | ... | ... | ... | ... | ... | ... |\n",
       "|  6        | 0         | 40        | 15        | 1/28/2018 | A         | 2/12/2019 | 41        | O         | 1         | ...       | 1         | 6.27      | U         | 162.6     | 109.8     | 41.5      | No        | 2018      | 2612.952  | 2059.428  |\n",
       "| 11        | 0         | 15        |  5        | 2/2/2018  | A         | 2/7/2019  | 57        | O         | 0         | ...       | 1         | 8.33      | U         | 173.0     | 119.2     | 39.8      | No        | 2018      | 2557.028  | 2049.190  |\n",
       "| 13        | 0         | 32        |  4        | 2/4/2018  | A         | 2/8/2019  | 50        | O         | 0         | ...       | 1         | 6.75      | U         | 185.0     |  64.2     | 18.8      | No        | 2018      | 1770.348  | 2217.666  |\n",
       "| 10        | 0         | 36        | 10        | 2/2/2018  | A         | 2/12/2019 | 62        | O         | 0         | ...       | 1         | 5.37      | U         | 170.2     |  68.9     | 23.8      | No        | 2018      | 1690.946  | 2284.588  |\n",
       "|  4        | 0         | 30        | 25        | 1/27/2018 | A         | 2/21/2019 | 41        | O         | 1         | ...       | 1         | 3.70      | U         | 160.0     |  85.9     | 33.6      | No        | 2018      | 2231.986  | 2025.604  |\n",
       "|  5        | 0         | 28        |  8        | 1/29/2018 | A         | 2/6/2019  | 63        | O         | 1         | ...       | 1         | 5.00      | Y         | 154.9     |  81.6     | 34.0      | No        | 2018      | 1880.524  | 1978.540  |\n",
       "| 17        | 0         | 18        | 24        | 2/10/2018 | A         | 3/6/2019  | 67        | O         | 0         | ...       | 1         | 3.10      | U         | 190.5     | 139.7     | 38.5      | No        | 2018      | 2755.198  | 2441.612  |\n",
       "|  4        | 0         | 11        |  1        | 1/29/2018 | A         | 1/30/2019 | 49        | A         | 0         | ...       | 1         | 4.90      | U         | 175.3     |  84.0     | 27.3      | No        | 2018      | 2098.820  | 2553.244  |\n",
       "|  2        | 0         | 35        |  8        | 1/27/2018 | A         | 2/4/2019  | 68        | B         | 0         | ...       | 2         | 3.12      | Y         | 167.6     |  56.7     | 20.2      | No        | 2018      | 1419.318  | 3152.804  |\n",
       "|  5        | 0         | 30        | 22        | 1/30/2018 | A         | 2/21/2019 | 29        | O         | 0         | ...       | 1         | 4.70      | U         | 177.8     |  56.9     | 18.0      | No        | 2018      | 1924.046  | 2175.060  |\n",
       "| 23        | 0         | 23        |  3        | 2/18/2018 | A         | 2/21/2019 | 52        | O         | 0         | ...       | 1         | 5.95      | U         | 175.0     |  74.1     | 24.2      | No        | 2018      | 1902.434  | 2675.792  |\n",
       "| 15        | 0         | 26        | 24        | 2/10/2018 | A         | 3/6/2019  | 45        | B         | 1         | ...       | 2         | 3.20      | U         | 165.1     |  91.9     | 33.7      | No        | 2018      | 2276.186  | 1972.030  |\n",
       "|  1        | 0         | 40        | 21        | 1/28/2018 | A         | 2/18/2019 | 46        | B         | 0         | ...       | 1         | 4.40      | U         | 187.9     | 160.5     | 45.5      | No        | 2018      | 3356.810  | 2221.260  |\n",
       "|  1        | 0         | 23        |  7        | 1/31/2018 | A         | 2/7/2019  | 51        | O         | 0         | ...       | 1         | 5.60      | U         | 166.0     |  94.0     | 34.1      | No        | 2018      | 2232.500  | 1816.142  |\n",
       "|  3        | 0         | 27        | 12        | 2/3/2018  | A         | 2/15/2019 | 55        | B         | 0         | ...       | 1         | 4.96      | U         | 170.2     |  55.0     | 19.0      | No        | 2018      | 1559.400  | 2232.742  |\n",
       "| 14        | 0         | 29        | 24        | 2/15/2018 | A         | 3/11/2019 | 56        | A         | 1         | ...       | 1         | 6.65      | U         | 154.9     |  75.0     | 31.3      | No        | 2018      | 1865.340  | 1987.348  |\n",
       "|  8        | 0         | 18        |  8        | 2/10/2018 | A         | 2/18/2019 | 57        | B         | 0         | ...       | 1         | 3.21      | U         | 162.6     |  67.4     | 25.5      | No        | 2018      | 1731.336  | 1761.920  |\n",
       "|  9        | 0         | 34        |  2        | 2/11/2018 | A         | 2/13/2019 | 64        | A         | 0         | ...       | 1         | 5.33      | U         | 170.2     |  99.3     | 34.3      | No        | 2018      | 2149.802  | 2677.900  |\n",
       "|  1        | 0         | 36        |  9        | 2/3/2018  | A         | 2/12/2019 | 46        | A         | 1         | ...       | 1         | 7.93      | Y         | 172.0     | 125.1     | 42.3      | No        | 2018      | 2792.534  | 2530.280  |\n",
       "|  9        | 0         | 33        | 28        | 2/14/2018 | A         | 3/14/2019 | 56        | A         | 0         | ...       | 1         | 4.50      | U         | 178.0     | 108.0     | 34.1      | No        | 2018      | 2391.360  | 1952.820  |\n",
       "|  2        | 0         | 33        |  1        | 2/10/2018 | A         | 2/11/2019 | 20        | A         | 0         | ...       | 1         | 4.20      | U         | 185.4     |  83.2     | 24.2      | No        | 2018      | 2459.008  | 1465.760  |\n",
       "| 12        | 0         | 39        | 18        | 2/21/2018 | A         | 3/11/2019 | 51        | O         | 1         | ...       | 1         | 4.10      | U         | 165.1     | 109.0     | 40.0      | No        | 2018      | 2471.600  | 1741.980  |\n",
       "|  2        | 0         | 34        | 10        | 2/11/2018 | A         | 2/21/2019 | 43        | A         | 1         | ...       | 1         | 5.35      | U         | 165.1     | 122.5     | 44.9      | No        | 2018      | 2789.670  | 1536.760  |\n",
       "| 10        | 0         | 25        |  2        | 2/23/2018 | A         | 2/25/2019 | 56        | O         | 0         | ...       | 1         | 4.37      | U         | 167.6     | 132.0     | 47.0      | No        | 2018      | 2773.920  | 2593.418  |\n",
       "|  2        | 1         | 26        |  5        | 2/16/2018 | D         | 2/21/2019 | 63        | AB        | 1         | ...       | 2         | 6.62      | Y         | 162.6     |  59.6     | 22.5      | No        | 2018      | 1529.844  | 2659.610  |\n",
       "| 11        | 0         | 27        |  7        | 2/26/2018 | A         | 3/5/2019  | 63        | A         | 0         | ...       | 1         | 4.33      | U         | 170.2     | 117.7     | 40.6      | No        | 2018      | 2455.958  | 2317.656  |\n",
       "|  5        | 0         | 39        |  6        | 2/27/2018 | A         | 3/5/2019  | 52        | O         | 0         | ...       | 3         | 5.13      | U         | 175.0     |  90.5     | 29.6      | No        | 2018      | 2163.850  | 2991.620  |\n",
       "|  2        | 0         | 35        |  3        | 2/25/2018 | A         | 2/28/2019 | 36        | B         | 0         | ...       | 1         | 4.68      | U         | 162.6     |  83.9     | 31.8      | No        | 2018      | 2264.406  | 2179.086  |\n",
       "|  3        | 0         | 36        |  8        | 2/26/2018 | A         | 3/6/2019  | 52        | O         | 0         | ...       | 1         | 2.43      | U         | 173.0     |  67.3     | 22.5      | No        | 2018      | 1794.042  | 2117.352  |\n",
       "|  6        | 0         | 34        |  5        | 3/1/2018  | A         | 3/6/2019  | 67        | A         | 1         | ...       | 1         | 7.80      | U         | 149.0     |  48.0     | 21.6      | No        | 2018      | 1293.500  | 2051.160  |\n",
       "\n"
      ],
      "text/plain": [
       "      ï..DAYSWAIT_CHRON PSTATUS FINAL_MELD_SCORE PTIME TX_DATE    PX_STAT\n",
       "1       10              0       14               5325  3/9/2002   A      \n",
       "2      110              1       13               2658  6/17/2002  D      \n",
       "3     1104              1       22               4334  3/7/2005   D      \n",
       "4     2131              0       26               3530  12/29/2007 A      \n",
       "5       31              1        7               3464  3/30/2002  D      \n",
       "6      640              0       15               5142  11/29/2003 A      \n",
       "7       18              0       16               5440  3/17/2002  A      \n",
       "8      577              0        7               5107  9/28/2003  A      \n",
       "9      481              1       21               4496  6/24/2003  D      \n",
       "10      69              0       13               5558  5/8/2002   A      \n",
       "11     130              1       14               3014  7/8/2002   D      \n",
       "12      97              1       22                728  6/5/2002   D      \n",
       "13     744              1       26                685  3/13/2004  D      \n",
       "14     609              1        9               1876  10/30/2003 D      \n",
       "15     102              0       37               5479  6/10/2002  A      \n",
       "16     532              0       21               5107  8/14/2003  A      \n",
       "17      86              1       13               5568  5/25/2002  D      \n",
       "18     137              1       14               4070  7/16/2002  D      \n",
       "19     255              0       10               5503  11/11/2002 A      \n",
       "20     124              0       35               5412  7/3/2002   A      \n",
       "21       1              1       26               2038  3/2/2002   D      \n",
       "22     139              1       22               2670  7/18/2002  D      \n",
       "23       1              0       13               5525  3/4/2002   A      \n",
       "24     160              1       12               3398  8/10/2002  D      \n",
       "25     139              1        7               4609  7/21/2002  D      \n",
       "26      17              1        7               2994  3/21/2002  D      \n",
       "27      35              1       20                183  4/9/2002   D      \n",
       "28      22              1       17               1122  3/27/2002  D      \n",
       "29    2550              0       10               2915  2/26/2009  A      \n",
       "30     112              1       26                 69  6/25/2002  D      \n",
       "...   ...               ...     ...              ...   ...        ...    \n",
       "61571  6                0       40               15    1/28/2018  A      \n",
       "61572 11                0       15                5    2/2/2018   A      \n",
       "61573 13                0       32                4    2/4/2018   A      \n",
       "61574 10                0       36               10    2/2/2018   A      \n",
       "61575  4                0       30               25    1/27/2018  A      \n",
       "61576  5                0       28                8    1/29/2018  A      \n",
       "61577 17                0       18               24    2/10/2018  A      \n",
       "61578  4                0       11                1    1/29/2018  A      \n",
       "61579  2                0       35                8    1/27/2018  A      \n",
       "61580  5                0       30               22    1/30/2018  A      \n",
       "61581 23                0       23                3    2/18/2018  A      \n",
       "61582 15                0       26               24    2/10/2018  A      \n",
       "61583  1                0       40               21    1/28/2018  A      \n",
       "61584  1                0       23                7    1/31/2018  A      \n",
       "61585  3                0       27               12    2/3/2018   A      \n",
       "61586 14                0       29               24    2/15/2018  A      \n",
       "61587  8                0       18                8    2/10/2018  A      \n",
       "61588  9                0       34                2    2/11/2018  A      \n",
       "61589  1                0       36                9    2/3/2018   A      \n",
       "61590  9                0       33               28    2/14/2018  A      \n",
       "61591  2                0       33                1    2/10/2018  A      \n",
       "61592 12                0       39               18    2/21/2018  A      \n",
       "61593  2                0       34               10    2/11/2018  A      \n",
       "61594 10                0       25                2    2/23/2018  A      \n",
       "61595  2                1       26                5    2/16/2018  D      \n",
       "61596 11                0       27                7    2/26/2018  A      \n",
       "61597  5                0       39                6    2/27/2018  A      \n",
       "61598  2                0       35                3    2/25/2018  A      \n",
       "61599  3                0       36                8    2/26/2018  A      \n",
       "61600  6                0       34                5    3/1/2018   A      \n",
       "      PX_STAT_DATE AGE ABO GENDER ... ABO_MAT COLD_ISCH MALIG HGT_CM_CALC\n",
       "1     10/6/2017    54  A   0      ... 1        4.8      Y     164.0      \n",
       "2     9/26/2010    66  B   0      ... 2        5.0      U     180.0      \n",
       "3     1/17/2018    67  A1  1      ... 1        8.3      N     160.0      \n",
       "4     8/28/2018    56  B   0      ... 1        5.5      N     165.1      \n",
       "5     9/22/2012    44  B   0      ... 2        3.5      Y     170.2      \n",
       "6     12/27/2018   50  B   0      ... 1        4.0      N     172.7      \n",
       "7     2/6/2018     41  O   0      ... 1        6.0      N     174.5      \n",
       "8     9/21/2018    50  A   0      ... 1        6.0      N     175.0      \n",
       "9     10/14/2016   44  O   0      ... 1       10.0      U     190.0      \n",
       "10    7/26/2018    49  O   0      ... 1        7.0      N     180.3      \n",
       "11    10/8/2011    52  A   0      ... 1        7.0      N     170.2      \n",
       "12    6/2/2005     58  A   0      ... 1        7.0      N     180.3      \n",
       "13    1/27/2007    58  O   1      ... 1        6.0      Y     157.0      \n",
       "14    12/18/2009   49  A2  1      ... 1        9.0      N     167.6      \n",
       "15    6/10/2018    33  A   0      ... 1        8.6      N     178.0      \n",
       "16    8/7/2018     62  A   1      ... 1         NA      N     162.0      \n",
       "17    8/22/2018    59  A   1      ... 1       10.0      N     157.5      \n",
       "18    9/6/2014     56  B   0      ... 1         NA      N     177.8      \n",
       "19    12/5/2018    66  A2B 0      ... 1        8.0      N     177.8      \n",
       "20    4/27/2018    59  A   0      ... 1         NA      N     172.7      \n",
       "21    9/29/2008    45  A   0      ... 1        6.0      N     175.3      \n",
       "22    11/8/2010    55  A   0      ... 1       10.0      N     162.6      \n",
       "23    4/19/2018    74  AB  1      ... 2        3.0      N     154.9      \n",
       "24    11/28/2012   43  A   0      ... 1        5.0      N     185.0      \n",
       "25    3/3/2016     50  O   0      ... 1       12.6      N     178.0      \n",
       "26    6/1/2011     59  O   1      ... 1        6.1      N     166.0      \n",
       "27    10/9/2003    47  O   0      ... 1       10.3      N     165.1      \n",
       "28    4/22/2006    27  O   1      ... 1        6.0      N     167.6      \n",
       "29    2/19/2018    41  A   0      ... 1       10.4      N     185.4      \n",
       "30    9/2/2003     52  A   0      ... 1         NA      N     167.6      \n",
       "...   ...          ... ... ...        ...     ...       ...   ...        \n",
       "61571 2/12/2019    41  O   1      ... 1       6.27      U     162.6      \n",
       "61572 2/7/2019     57  O   0      ... 1       8.33      U     173.0      \n",
       "61573 2/8/2019     50  O   0      ... 1       6.75      U     185.0      \n",
       "61574 2/12/2019    62  O   0      ... 1       5.37      U     170.2      \n",
       "61575 2/21/2019    41  O   1      ... 1       3.70      U     160.0      \n",
       "61576 2/6/2019     63  O   1      ... 1       5.00      Y     154.9      \n",
       "61577 3/6/2019     67  O   0      ... 1       3.10      U     190.5      \n",
       "61578 1/30/2019    49  A   0      ... 1       4.90      U     175.3      \n",
       "61579 2/4/2019     68  B   0      ... 2       3.12      Y     167.6      \n",
       "61580 2/21/2019    29  O   0      ... 1       4.70      U     177.8      \n",
       "61581 2/21/2019    52  O   0      ... 1       5.95      U     175.0      \n",
       "61582 3/6/2019     45  B   1      ... 2       3.20      U     165.1      \n",
       "61583 2/18/2019    46  B   0      ... 1       4.40      U     187.9      \n",
       "61584 2/7/2019     51  O   0      ... 1       5.60      U     166.0      \n",
       "61585 2/15/2019    55  B   0      ... 1       4.96      U     170.2      \n",
       "61586 3/11/2019    56  A   1      ... 1       6.65      U     154.9      \n",
       "61587 2/18/2019    57  B   0      ... 1       3.21      U     162.6      \n",
       "61588 2/13/2019    64  A   0      ... 1       5.33      U     170.2      \n",
       "61589 2/12/2019    46  A   1      ... 1       7.93      Y     172.0      \n",
       "61590 3/14/2019    56  A   0      ... 1       4.50      U     178.0      \n",
       "61591 2/11/2019    20  A   0      ... 1       4.20      U     185.4      \n",
       "61592 3/11/2019    51  O   1      ... 1       4.10      U     165.1      \n",
       "61593 2/21/2019    43  A   1      ... 1       5.35      U     165.1      \n",
       "61594 2/25/2019    56  O   0      ... 1       4.37      U     167.6      \n",
       "61595 2/21/2019    63  AB  1      ... 2       6.62      Y     162.6      \n",
       "61596 3/5/2019     63  A   0      ... 1       4.33      U     170.2      \n",
       "61597 3/5/2019     52  O   0      ... 3       5.13      U     175.0      \n",
       "61598 2/28/2019    36  B   0      ... 1       4.68      U     162.6      \n",
       "61599 3/6/2019     52  O   0      ... 1       2.43      U     173.0      \n",
       "61600 3/6/2019     67  A   1      ... 1       7.80      U     149.0      \n",
       "      WGT_KG_CALC BMI_CALC TX_MELD LISTYR LiverSize LiverSizeDon\n",
       "1      82.0       30.5     No      2002   2002.640  1881.280    \n",
       "2      95.0       29.3     No      2002   2055.540  2384.090    \n",
       "3      70.8       27.6     No      2002   1656.932  1886.360    \n",
       "4      58.5       21.5     No      2002   1602.330  2174.222    \n",
       "5      70.8       24.4     No      2002   1952.712  2051.566    \n",
       "6     101.6       34.1     No      2002   2366.504  2311.660    \n",
       "7      82.8       27.2     No      2002   2182.572  2247.438    \n",
       "8      94.9       31.0     No      2002   2259.706  2603.280    \n",
       "9      49.0         NA     No      2002   1605.220  1622.106    \n",
       "10     76.4       23.5     No      2002   1977.676  2266.324    \n",
       "11     82.3       28.4     No      2002   2033.142  1696.726    \n",
       "12     87.7       27.0     No      2002   2042.058  2378.418    \n",
       "13     91.0       36.9     No      2002   2094.660  1662.902    \n",
       "14     60.8       21.6     No      2002   1729.012  2404.920    \n",
       "15    106.0       33.5     No      2002   2655.260  2064.508    \n",
       "16     62.0       23.6     No      2002   1580.960  2530.414    \n",
       "17     57.2       23.0     No      2002   1543.028  1676.518    \n",
       "18     66.0       20.9     No      2002   1721.880  2379.200    \n",
       "19     99.0       31.3     No      2002   2119.300  2695.352    \n",
       "20     82.6       27.7     No      2002   1947.904  2401.300    \n",
       "21     65.3       21.3     No      2002   1852.182  2109.032    \n",
       "22     91.8       34.7     No      2002   2145.992  2108.220    \n",
       "23     52.2       21.7     No      2002   1270.428  1628.832    \n",
       "24     91.0       26.6     No      2002   2287.560  2341.160    \n",
       "25     69.0       21.8     No      2002   1846.860  2038.516    \n",
       "26     58.9       21.4     No      2002   1570.126  1803.900    \n",
       "27     82.6       30.3     No      2002   2102.224  2828.980    \n",
       "28     77.1       27.4     No      2002   2271.754  2374.634    \n",
       "29     84.9       24.7     No      2002   2216.046  2192.542    \n",
       "30     68.5       24.4     No      2002   1813.170  2319.060    \n",
       "...   ...         ...      ...     ...    ...       ...         \n",
       "61571 109.8       41.5     No      2018   2612.952  2059.428    \n",
       "61572 119.2       39.8     No      2018   2557.028  2049.190    \n",
       "61573  64.2       18.8     No      2018   1770.348  2217.666    \n",
       "61574  68.9       23.8     No      2018   1690.946  2284.588    \n",
       "61575  85.9       33.6     No      2018   2231.986  2025.604    \n",
       "61576  81.6       34.0     No      2018   1880.524  1978.540    \n",
       "61577 139.7       38.5     No      2018   2755.198  2441.612    \n",
       "61578  84.0       27.3     No      2018   2098.820  2553.244    \n",
       "61579  56.7       20.2     No      2018   1419.318  3152.804    \n",
       "61580  56.9       18.0     No      2018   1924.046  2175.060    \n",
       "61581  74.1       24.2     No      2018   1902.434  2675.792    \n",
       "61582  91.9       33.7     No      2018   2276.186  1972.030    \n",
       "61583 160.5       45.5     No      2018   3356.810  2221.260    \n",
       "61584  94.0       34.1     No      2018   2232.500  1816.142    \n",
       "61585  55.0       19.0     No      2018   1559.400  2232.742    \n",
       "61586  75.0       31.3     No      2018   1865.340  1987.348    \n",
       "61587  67.4       25.5     No      2018   1731.336  1761.920    \n",
       "61588  99.3       34.3     No      2018   2149.802  2677.900    \n",
       "61589 125.1       42.3     No      2018   2792.534  2530.280    \n",
       "61590 108.0       34.1     No      2018   2391.360  1952.820    \n",
       "61591  83.2       24.2     No      2018   2459.008  1465.760    \n",
       "61592 109.0       40.0     No      2018   2471.600  1741.980    \n",
       "61593 122.5       44.9     No      2018   2789.670  1536.760    \n",
       "61594 132.0       47.0     No      2018   2773.920  2593.418    \n",
       "61595  59.6       22.5     No      2018   1529.844  2659.610    \n",
       "61596 117.7       40.6     No      2018   2455.958  2317.656    \n",
       "61597  90.5       29.6     No      2018   2163.850  2991.620    \n",
       "61598  83.9       31.8     No      2018   2264.406  2179.086    \n",
       "61599  67.3       22.5     No      2018   1794.042  2117.352    \n",
       "61600  48.0       21.6     No      2018   1293.500  2051.160    "
      ]
     },
     "metadata": {},
     "output_type": "display_data"
    }
   ],
   "source": [
    "dados1"
   ]
  },
  {
   "cell_type": "code",
   "execution_count": 49,
   "id": "80710c73",
   "metadata": {},
   "outputs": [],
   "source": [
    "# Dos pacientes que sobreviveram ao primeiro ano da cirurgia,\n",
    "# filtramos os que permaneceram vivos por até três anos depois da cirurgia.\n",
    "dados2 = dados1 %>%  filter(PTIME <= 1095)"
   ]
  },
  {
   "cell_type": "code",
   "execution_count": 50,
   "id": "940f9cc7",
   "metadata": {},
   "outputs": [
    {
     "data": {
      "text/html": [
       "<ol class=list-inline>\n",
       "\t<li>23348</li>\n",
       "\t<li>25</li>\n",
       "</ol>\n"
      ],
      "text/latex": [
       "\\begin{enumerate*}\n",
       "\\item 23348\n",
       "\\item 25\n",
       "\\end{enumerate*}\n"
      ],
      "text/markdown": [
       "1. 23348\n",
       "2. 25\n",
       "\n",
       "\n"
      ],
      "text/plain": [
       "[1] 23348    25"
      ]
     },
     "metadata": {},
     "output_type": "display_data"
    },
    {
     "data": {
      "text/html": [
       "<ol class=list-inline>\n",
       "\t<li>23348</li>\n",
       "\t<li>21</li>\n",
       "</ol>\n"
      ],
      "text/latex": [
       "\\begin{enumerate*}\n",
       "\\item 23348\n",
       "\\item 21\n",
       "\\end{enumerate*}\n"
      ],
      "text/markdown": [
       "1. 23348\n",
       "2. 21\n",
       "\n",
       "\n"
      ],
      "text/plain": [
       "[1] 23348    21"
      ]
     },
     "metadata": {},
     "output_type": "display_data"
    }
   ],
   "source": [
    "# Vamos separar variáveis numéricas e categóricas\n",
    "dados_num = dados2[,!unlist(lapply(dados2, is.factor))]\n",
    "dim(dados_num)\n",
    "\n",
    "dados_fator = dados2[,unlist(lapply(dados2, is.factor))]\n",
    "dim(dados_fator)"
   ]
  },
  {
   "cell_type": "code",
   "execution_count": 55,
   "id": "32185a9c",
   "metadata": {},
   "outputs": [
    {
     "data": {
      "image/png": "[encoded data removed]",
      "text/plain": [
       "plot without title"
      ]
     },
     "metadata": {},
     "output_type": "display_data"
    }
   ],
   "source": [
    "# Correlação entre as variáveis numéricas\n",
    "# Para variáveis categóricas usamos associação\n",
    "df_corr = round(cor(dados_num, use = \"complete.obs\"), 2)\n",
    "ggcorrplot(df_corr)"
   ]
  },
  {
   "cell_type": "markdown",
   "id": "335d4b4e",
   "metadata": {},
   "source": [
    "# Padronização das variáveis numéricas e combinação em um novo dataframe  com as variáveis categóricas\n"
   ]
  },
  {
   "cell_type": "markdown",
   "id": "a91e3d20",
   "metadata": {},
   "source": [
    "# Modelagem Preditiva com Modelo de Regressão\n",
    "\n",
    "# Vamos trabalhar apenas com algumas variáveis mais significativas para o problema.\n"
   ]
  },
  {
   "cell_type": "markdown",
   "id": "d37b9991",
   "metadata": {},
   "source": [
    "# Avaliação do modelo"
   ]
  },
  {
   "cell_type": "code",
   "execution_count": 117,
   "id": "52c10495",
   "metadata": {},
   "outputs": [],
   "source": [
    "# Separação dos dados em dados de treino e dados de teste (70% para treino e 30% para teste)\n",
    "index = sample(1:nrow(dados2), dim(dados2)[1]*.7)\n",
    "dados_treino = dados2[index,]\n",
    "dados_teste = dados2[-index,]"
   ]
  },
  {
   "cell_type": "code",
   "execution_count": 118,
   "id": "eb1c328c",
   "metadata": {},
   "outputs": [
    {
     "data": {
      "text/html": [
       "<ol class=list-inline>\n",
       "\t<li>16343</li>\n",
       "\t<li>25</li>\n",
       "</ol>\n"
      ],
      "text/latex": [
       "\\begin{enumerate*}\n",
       "\\item 16343\n",
       "\\item 25\n",
       "\\end{enumerate*}\n"
      ],
      "text/markdown": [
       "1. 16343\n",
       "2. 25\n",
       "\n",
       "\n"
      ],
      "text/plain": [
       "[1] 16343    25"
      ]
     },
     "metadata": {},
     "output_type": "display_data"
    },
    {
     "data": {
      "text/html": [
       "<ol class=list-inline>\n",
       "\t<li>16343</li>\n",
       "\t<li>21</li>\n",
       "</ol>\n"
      ],
      "text/latex": [
       "\\begin{enumerate*}\n",
       "\\item 16343\n",
       "\\item 21\n",
       "\\end{enumerate*}\n"
      ],
      "text/markdown": [
       "1. 16343\n",
       "2. 21\n",
       "\n",
       "\n"
      ],
      "text/plain": [
       "[1] 16343    21"
      ]
     },
     "metadata": {},
     "output_type": "display_data"
    }
   ],
   "source": [
    "# Vamos separar variáveis numéricas e categóricas (treino)\n",
    "dados_treino_num = dados_treino[,!unlist(lapply(dados_treino, is.factor))]\n",
    "dim(dados_treino_num)\n",
    "dados_treino_fator = dados_treino[,unlist(lapply(dados_treino, is.factor))]\n",
    "dim(dados_treino_fator)"
   ]
  },
  {
   "cell_type": "code",
   "execution_count": 119,
   "id": "b92f4af1",
   "metadata": {},
   "outputs": [
    {
     "data": {
      "text/html": [
       "<ol class=list-inline>\n",
       "\t<li>7005</li>\n",
       "\t<li>25</li>\n",
       "</ol>\n"
      ],
      "text/latex": [
       "\\begin{enumerate*}\n",
       "\\item 7005\n",
       "\\item 25\n",
       "\\end{enumerate*}\n"
      ],
      "text/markdown": [
       "1. 7005\n",
       "2. 25\n",
       "\n",
       "\n"
      ],
      "text/plain": [
       "[1] 7005   25"
      ]
     },
     "metadata": {},
     "output_type": "display_data"
    },
    {
     "data": {
      "text/html": [
       "<ol class=list-inline>\n",
       "\t<li>7005</li>\n",
       "\t<li>21</li>\n",
       "</ol>\n"
      ],
      "text/latex": [
       "\\begin{enumerate*}\n",
       "\\item 7005\n",
       "\\item 21\n",
       "\\end{enumerate*}\n"
      ],
      "text/markdown": [
       "1. 7005\n",
       "2. 21\n",
       "\n",
       "\n"
      ],
      "text/plain": [
       "[1] 7005   21"
      ]
     },
     "metadata": {},
     "output_type": "display_data"
    }
   ],
   "source": [
    "# Vamos separar variáveis numéricas e categóricas (teste)\n",
    "dados_teste_num = dados_teste[,!unlist(lapply(dados_teste, is.factor))]\n",
    "dim(dados_teste_num)\n",
    "dados_teste_fator = dados_teste[,unlist(lapply(dados_teste, is.factor))]\n",
    "dim(dados_teste_fator)"
   ]
  },
  {
   "cell_type": "code",
   "execution_count": 120,
   "id": "57907093",
   "metadata": {},
   "outputs": [
    {
     "data": {
      "text/html": [
       "<ol class=list-inline>\n",
       "\t<li>16343</li>\n",
       "\t<li>46</li>\n",
       "</ol>\n"
      ],
      "text/latex": [
       "\\begin{enumerate*}\n",
       "\\item 16343\n",
       "\\item 46\n",
       "\\end{enumerate*}\n"
      ],
      "text/markdown": [
       "1. 16343\n",
       "2. 46\n",
       "\n",
       "\n"
      ],
      "text/plain": [
       "[1] 16343    46"
      ]
     },
     "metadata": {},
     "output_type": "display_data"
    }
   ],
   "source": [
    "# Padronização dos dados de treino (colocando os dados na mesma escala)\n",
    "dados_treino_num_norm = scale(dados_treino_num)\n",
    "dados_treino_final = cbind(dados_treino_num_norm, dados_treino_fator)\n",
    "dim(dados_treino_final)"
   ]
  },
  {
   "cell_type": "code",
   "execution_count": 122,
   "id": "a7ae1638",
   "metadata": {},
   "outputs": [
    {
     "data": {
      "text/html": [
       "<ol class=list-inline>\n",
       "\t<li>7005</li>\n",
       "\t<li>46</li>\n",
       "</ol>\n"
      ],
      "text/latex": [
       "\\begin{enumerate*}\n",
       "\\item 7005\n",
       "\\item 46\n",
       "\\end{enumerate*}\n"
      ],
      "text/markdown": [
       "1. 7005\n",
       "2. 46\n",
       "\n",
       "\n"
      ],
      "text/plain": [
       "[1] 7005   46"
      ]
     },
     "metadata": {},
     "output_type": "display_data"
    }
   ],
   "source": [
    "# Padronização dos dados de teste (colocando os dados na mesma escala)\n",
    "dados_teste_num_norm = scale(dados_teste_num)\n",
    "dados_teste_final = cbind(dados_teste_num_norm, dados_teste_fator)\n",
    "dim(dados_teste_final)"
   ]
  },
  {
   "cell_type": "code",
   "execution_count": 123,
   "id": "99b83f52",
   "metadata": {},
   "outputs": [],
   "source": [
    "# Filtra os anos de 2001 e 2002\n",
    "dados_treino_final = dados_treino_final %>%\n",
    "  filter(TX_Year != 2001) %>%\n",
    "  filter(TX_Year != 2002)\n",
    "\n",
    "dados_teste_final =- dados_teste_final %>%\n",
    "  filter(TX_Year != 2001) %>%\n",
    " filter(TX_Year != 2002)"
   ]
  },
  {
   "cell_type": "code",
   "execution_count": 124,
   "id": "9d0d0103",
   "metadata": {},
   "outputs": [],
   "source": [
    "# Criando o modelo de machine learning\n",
    "modelo_v1 = lm(PTIME ~ FINAL_MELD_SCORE + \n",
    "                  REGION + \n",
    "                  LiverSize + \n",
    "                  LiverSizeDon + \n",
    "                  ALCOHOL_HEAVY_DON + \n",
    "                  MALIG + \n",
    "                  TX_Year,\n",
    "                data = dados_treino_final)"
   ]
  },
  {
   "cell_type": "code",
   "execution_count": 125,
   "id": "263d56a0",
   "metadata": {},
   "outputs": [
    {
     "data": {
      "text/plain": [
       "\n",
       "Call:\n",
       "lm(formula = PTIME ~ FINAL_MELD_SCORE + REGION + LiverSize + \n",
       "    LiverSizeDon + ALCOHOL_HEAVY_DON + MALIG + TX_Year, data = dados_treino_final)\n",
       "\n",
       "Residuals:\n",
       "     Min       1Q   Median       3Q      Max \n",
       "-2.80068 -0.25995 -0.00438  0.31942  1.99602 \n",
       "\n",
       "Coefficients:\n",
       "                    Estimate Std. Error t value Pr(>|t|)    \n",
       "(Intercept)        -0.156800   0.335118  -0.468 0.639865    \n",
       "FINAL_MELD_SCORE   -0.008365   0.005567  -1.503 0.132962    \n",
       "REGION2             0.010859   0.031274   0.347 0.728434    \n",
       "REGION3            -0.024044   0.030114  -0.798 0.424627    \n",
       "REGION4             0.025076   0.032071   0.782 0.434284    \n",
       "REGION5             0.041781   0.031139   1.342 0.179699    \n",
       "REGION6             0.057458   0.041808   1.374 0.169364    \n",
       "REGION7             0.012602   0.033408   0.377 0.706012    \n",
       "REGION8             0.089930   0.034309   2.621 0.008772 ** \n",
       "REGION9             0.034322   0.035795   0.959 0.337647    \n",
       "REGION10            0.025907   0.032452   0.798 0.424693    \n",
       "REGION11            0.030042   0.031843   0.943 0.345467    \n",
       "LiverSize           0.011789   0.005437   2.168 0.030158 *  \n",
       "LiverSizeDon        0.003981   0.005427   0.734 0.463192    \n",
       "ALCOHOL_HEAVY_DONU -0.124744   0.038711  -3.222 0.001274 ** \n",
       "ALCOHOL_HEAVY_DONY  0.030238   0.014586   2.073 0.038187 *  \n",
       "MALIGU             -0.158170   0.021433  -7.380 1.66e-13 ***\n",
       "MALIGY             -0.111502   0.018936  -5.888 3.98e-09 ***\n",
       "TX_Year2004         0.224517   0.336695   0.667 0.504892    \n",
       "TX_Year2005         0.152151   0.335748   0.453 0.650431    \n",
       "TX_Year2006         0.101066   0.335594   0.301 0.763300    \n",
       "TX_Year2007         0.099789   0.335703   0.297 0.766276    \n",
       "TX_Year2008         0.109781   0.335687   0.327 0.743646    \n",
       "TX_Year2009         0.175116   0.335572   0.522 0.601787    \n",
       "TX_Year2010         0.222667   0.335643   0.663 0.507082    \n",
       "TX_Year2011         0.168122   0.335707   0.501 0.616519    \n",
       "TX_Year2012         0.225536   0.335743   0.672 0.501751    \n",
       "TX_Year2013         0.399964   0.335451   1.192 0.233154    \n",
       "TX_Year2014         1.432104   0.334321   4.284 1.85e-05 ***\n",
       "TX_Year2015         0.835275   0.334655   2.496 0.012573 *  \n",
       "TX_Year2016        -0.080819   0.334721  -0.241 0.809208    \n",
       "TX_Year2017        -0.925267   0.334838  -2.763 0.005728 ** \n",
       "TX_Year2018        -1.166252   0.337389  -3.457 0.000548 ***\n",
       "---\n",
       "Signif. codes:  0 '***' 0.001 '**' 0.01 '*' 0.05 '.' 0.1 ' ' 1\n",
       "\n",
       "Residual standard error: 0.6675 on 15799 degrees of freedom\n",
       "  (374 observations deleted due to missingness)\n",
       "Multiple R-squared:  0.5564,\tAdjusted R-squared:  0.5555 \n",
       "F-statistic: 619.4 on 32 and 15799 DF,  p-value: < 2.2e-16\n"
      ]
     },
     "metadata": {},
     "output_type": "display_data"
    }
   ],
   "source": [
    "# Resumo do modelo\n",
    "summary(modelo_v1)"
   ]
  },
  {
   "cell_type": "markdown",
   "id": "2d6a7c0c",
   "metadata": {},
   "source": [
    "# Avaliação do modelo"
   ]
  },
  {
   "cell_type": "code",
   "execution_count": 78,
   "id": "495e1b4a",
   "metadata": {},
   "outputs": [
    {
     "data": {
      "text/html": [
       "<table>\n",
       "<thead><tr><th></th><th scope=col>ME</th><th scope=col>RMSE</th><th scope=col>MAE</th><th scope=col>MPE</th><th scope=col>MAPE</th></tr></thead>\n",
       "<tbody>\n",
       "\t<tr><th scope=row>Test set</th><td>1.215583e-15</td><td>0.6631234   </td><td>0.4685665   </td><td>-57.52672   </td><td>224.7542    </td></tr>\n",
       "</tbody>\n",
       "</table>\n"
      ],
      "text/latex": [
       "\\begin{tabular}{r|lllll}\n",
       "  & ME & RMSE & MAE & MPE & MAPE\\\\\n",
       "\\hline\n",
       "\tTest set & 1.215583e-15 & 0.6631234    & 0.4685665    & -57.52672    & 224.7542    \\\\\n",
       "\\end{tabular}\n"
      ],
      "text/markdown": [
       "\n",
       "| <!--/--> | ME | RMSE | MAE | MPE | MAPE |\n",
       "|---|---|---|---|---|---|\n",
       "| Test set | 1.215583e-15 | 0.6631234    | 0.4685665    | -57.52672    | 224.7542     |\n",
       "\n"
      ],
      "text/plain": [
       "         ME           RMSE      MAE       MPE       MAPE    \n",
       "Test set 1.215583e-15 0.6631234 0.4685665 -57.52672 224.7542"
      ]
     },
     "metadata": {},
     "output_type": "display_data"
    }
   ],
   "source": [
    "# Com dados de treino\n",
    "modelo_v1_pred_1 = predict(modelo_v1, newdata = dados_treino_final)\n",
    "accuracy(modelo_v1_pred_1, dados_treino_final$PTIME)\n"
   ]
  },
  {
   "cell_type": "code",
   "execution_count": 79,
   "id": "163fc3b2",
   "metadata": {},
   "outputs": [
    {
     "data": {
      "text/html": [
       "<table>\n",
       "<thead><tr><th></th><th scope=col>ME</th><th scope=col>RMSE</th><th scope=col>MAE</th><th scope=col>MPE</th><th scope=col>MAPE</th></tr></thead>\n",
       "<tbody>\n",
       "\t<tr><th scope=row>Test set</th><td>-0.001634371</td><td>0.677227    </td><td>0.4810641   </td><td>728.3442    </td><td>786.0198    </td></tr>\n",
       "</tbody>\n",
       "</table>\n"
      ],
      "text/latex": [
       "\\begin{tabular}{r|lllll}\n",
       "  & ME & RMSE & MAE & MPE & MAPE\\\\\n",
       "\\hline\n",
       "\tTest set & -0.001634371 & 0.677227     & 0.4810641    & 728.3442     & 786.0198    \\\\\n",
       "\\end{tabular}\n"
      ],
      "text/markdown": [
       "\n",
       "| <!--/--> | ME | RMSE | MAE | MPE | MAPE |\n",
       "|---|---|---|---|---|---|\n",
       "| Test set | -0.001634371 | 0.677227     | 0.4810641    | 728.3442     | 786.0198     |\n",
       "\n"
      ],
      "text/plain": [
       "         ME           RMSE     MAE       MPE      MAPE    \n",
       "Test set -0.001634371 0.677227 0.4810641 728.3442 786.0198"
      ]
     },
     "metadata": {},
     "output_type": "display_data"
    }
   ],
   "source": [
    "# Com dados de teste\n",
    "modelo_v1_pred_2 = predict(modelo_v1, newdata = dados_teste_final)\n",
    "accuracy(modelo_v1_pred_2, dados_teste_final$PTIME)"
   ]
  },
  {
   "cell_type": "code",
   "execution_count": 84,
   "id": "23d36a86",
   "metadata": {},
   "outputs": [
    {
     "data": {
      "image/png": "[encoded data removed]",
      "text/plain": [
       "Plot with title \"Sobreviventes de 1 a 3 Anos\""
      ]
     },
     "metadata": {},
     "output_type": "display_data"
    }
   ],
   "source": [
    "# Distribuição do erro de validação\n",
    "par(mfrow = c(1,1))\n",
    "residuos = dados_teste_final$PTIME - modelo_v1_pred_2\n",
    "hist(residuos, xlab = \"Resíduos\", main = \"Sobreviventes de 1 a 3 Anos\")"
   ]
  },
  {
   "cell_type": "code",
   "execution_count": 126,
   "id": "4f7c42ff",
   "metadata": {},
   "outputs": [],
   "source": [
    "# Vamos desfazer a escala dos dados\n",
    "variaveis_amostra = c(\"PTIME\",\n",
    "                       \"FINAL_MELD_SCORE\",\n",
    "                       \"REGION\",\n",
    "                       \"LiverSize\",\n",
    "                       \"LiverSizeDon\",\n",
    "                       \"ALCOHOL_HEAVY_DON\",\n",
    "                       \"MALIG\",\n",
    "                       \"TX_Year\")"
   ]
  },
  {
   "cell_type": "code",
   "execution_count": 146,
   "id": "240f949c",
   "metadata": {},
   "outputs": [],
   "source": [
    "# Removemos valores NA das variáveis que usaremos para aplicar o unscale\n",
    "dados_unscale = na.omit(dados2[,variaveis_amostra])"
   ]
  },
  {
   "cell_type": "code",
   "execution_count": 145,
   "id": "cb5d61f1",
   "metadata": {},
   "outputs": [],
   "source": [
    "# Retorna os dados unscale\n",
    "dados_final_unscale = dados_unscale[-index,] %>%\n",
    "  filter(TX_Year!= 2001) %>%\n",
    "  filter(TX_Year!= 2002)"
   ]
  },
  {
   "cell_type": "code",
   "execution_count": 129,
   "id": "2a566861",
   "metadata": {},
   "outputs": [
    {
     "data": {
      "text/html": [
       "<table>\n",
       "<thead><tr><th></th><th scope=col>ME</th><th scope=col>RMSE</th><th scope=col>MAE</th><th scope=col>MPE</th><th scope=col>MAPE</th></tr></thead>\n",
       "<tbody>\n",
       "\t<tr><th scope=row>Test set</th><td>464.9193</td><td>571.039 </td><td>468.925 </td><td>32.49856</td><td>125.7592</td></tr>\n",
       "</tbody>\n",
       "</table>\n"
      ],
      "text/latex": [
       "\\begin{tabular}{r|lllll}\n",
       "  & ME & RMSE & MAE & MPE & MAPE\\\\\n",
       "\\hline\n",
       "\tTest set & 464.9193 & 571.039  & 468.925  & 32.49856 & 125.7592\\\\\n",
       "\\end{tabular}\n"
      ],
      "text/markdown": [
       "\n",
       "| <!--/--> | ME | RMSE | MAE | MPE | MAPE |\n",
       "|---|---|---|---|---|---|\n",
       "| Test set | 464.9193 | 571.039  | 468.925  | 32.49856 | 125.7592 |\n",
       "\n"
      ],
      "text/plain": [
       "         ME       RMSE    MAE     MPE      MAPE    \n",
       "Test set 464.9193 571.039 468.925 32.49856 125.7592"
      ]
     },
     "metadata": {},
     "output_type": "display_data"
    },
    {
     "data": {
      "image/png": "[encoded data removed]",
      "text/plain": [
       "Plot with title \"Histogram of previsoes\""
      ]
     },
     "metadata": {},
     "output_type": "display_data"
    }
   ],
   "source": [
    "# Histograma dos dados sem escala (formato original)\n",
    "previsoes = predict(modelo_v1, newdata = dados_final_unscale)\n",
    "hist(previsoes)\n",
    "accuracy(previsoes, dados_final_unscale$PTIME)"
   ]
  },
  {
   "cell_type": "code",
   "execution_count": 130,
   "id": "2cb8898e",
   "metadata": {},
   "outputs": [
    {
     "data": {
      "text/html": [
       "<table>\n",
       "<thead><tr><th></th><th scope=col>ME</th><th scope=col>RMSE</th><th scope=col>MAE</th><th scope=col>MPE</th><th scope=col>MAPE</th></tr></thead>\n",
       "<tbody>\n",
       "\t<tr><th scope=row>Test set</th><td>464.9193</td><td>571.039 </td><td>468.925 </td><td>32.49856</td><td>125.7592</td></tr>\n",
       "</tbody>\n",
       "</table>\n"
      ],
      "text/latex": [
       "\\begin{tabular}{r|lllll}\n",
       "  & ME & RMSE & MAE & MPE & MAPE\\\\\n",
       "\\hline\n",
       "\tTest set & 464.9193 & 571.039  & 468.925  & 32.49856 & 125.7592\\\\\n",
       "\\end{tabular}\n"
      ],
      "text/markdown": [
       "\n",
       "| <!--/--> | ME | RMSE | MAE | MPE | MAPE |\n",
       "|---|---|---|---|---|---|\n",
       "| Test set | 464.9193 | 571.039  | 468.925  | 32.49856 | 125.7592 |\n",
       "\n"
      ],
      "text/plain": [
       "         ME       RMSE    MAE     MPE      MAPE    \n",
       "Test set 464.9193 571.039 468.925 32.49856 125.7592"
      ]
     },
     "metadata": {},
     "output_type": "display_data"
    },
    {
     "data": {
      "image/png": "[encoded data removed]",
      "text/plain": [
       "Plot with title \"Histogram of previsoes\""
      ]
     },
     "metadata": {},
     "output_type": "display_data"
    }
   ],
   "source": [
    "# Histograma dos dados sem escala (formato original)\n",
    "previsoes = predict(modelo_v1, newdata = dados_final_unscale)\n",
    "hist(previsoes)\n",
    "accuracy(previsoes, dados_final_unscale$PTIME)"
   ]
  },
  {
   "cell_type": "markdown",
   "id": "0f62750a",
   "metadata": {},
   "source": [
    " <h2> Modelagem Preditiva com Modelo de Rede Neural </h3>"
   ]
  },
  {
   "cell_type": "code",
   "execution_count": 144,
   "id": "5de5de3b",
   "metadata": {},
   "outputs": [
    {
     "data": {
      "text/html": [
       "<ol class=list-inline>\n",
       "\t<li>22619</li>\n",
       "\t<li>8</li>\n",
       "</ol>\n"
      ],
      "text/latex": [
       "\\begin{enumerate*}\n",
       "\\item 22619\n",
       "\\item 8\n",
       "\\end{enumerate*}\n"
      ],
      "text/markdown": [
       "1. 22619\n",
       "2. 8\n",
       "\n",
       "\n"
      ],
      "text/plain": [
       "[1] 22619     8"
      ]
     },
     "metadata": {},
     "output_type": "display_data"
    },
    {
     "name": "stdout",
     "output_type": "stream",
     "text": [
      "'data.frame':\t22619 obs. of  8 variables:\n",
      " $ PTIME            : num  -1.363 0.745 -1.326 -1.105 -0.812 ...\n",
      " $ FINAL_MELD_SCORE : num  0.859 -0.406 -0.933 -1.038 -0.406 ...\n",
      " $ REGION           : Factor w/ 11 levels \"1\",\"2\",\"3\",\"4\",..: 8 3 11 5 2 9 3 5 7 4 ...\n",
      " $ LiverSize        : num  -0.2862 -0.0409 1.705 0.8967 -0.2815 ...\n",
      " $ LiverSizeDon     : num  1.571 0.963 0.226 -0.61 -1.693 ...\n",
      " $ ALCOHOL_HEAVY_DON: Factor w/ 3 levels \"N\",\"U\",\"Y\": 1 1 1 3 2 1 1 3 1 1 ...\n",
      " $ MALIG            : Factor w/ 3 levels \"N\",\"U\",\"Y\": 3 1 1 1 1 3 1 1 1 1 ...\n",
      " $ TX_Year          : Factor w/ 18 levels \"2001\",\"2002\",..: 11 4 6 7 5 6 5 6 7 5 ...\n",
      " - attr(*, \"na.action\")= 'omit' Named int  1 2 3 4 5 6 7 8 9 11 ...\n",
      "  ..- attr(*, \"names\")= chr  \"1\" \"2\" \"3\" \"4\" ...\n"
     ]
    }
   ],
   "source": [
    "# Preparação dos dados\n",
    "dados_final2 = na.omit(dados_final[,variaveis_amostra])\n",
    "dim(dados_final2)\n",
    "str(dados_final2)"
   ]
  },
  {
   "cell_type": "code",
   "execution_count": 142,
   "id": "9f6ba9a7",
   "metadata": {},
   "outputs": [],
   "source": [
    "# Retorna somente as variáveis que não são do tipo fator\n",
    "variaveis_numericas = !unlist(lapply(dados_final2, is.factor))"
   ]
  },
  {
   "cell_type": "code",
   "execution_count": 143,
   "id": "303f9d8c",
   "metadata": {},
   "outputs": [],
   "source": [
    "# Retorna o nome das variáveis numéricas\n",
    "variaveis_numericas_nomes = names(dados_final2[,!unlist(lapply(dados_final2, is.factor))])"
   ]
  },
  {
   "cell_type": "code",
   "execution_count": 136,
   "id": "818aefdf",
   "metadata": {},
   "outputs": [],
   "source": [
    "# Gera o dataframe final com variáveis dummy\n",
    "df_final = cbind(dados_final2[,variaveis_numericas],\n",
    "                 class.ind(dados_final2$REGION),\n",
    "                 class.ind(dados_final2$ALCOHOL_HEAVY_DON),\n",
    "                 class.ind(dados_final2$MALIG),\n",
    "                 class.ind(dados_final2$TX_Year))"
   ]
  },
  {
   "cell_type": "code",
   "execution_count": 137,
   "id": "6aa5a059",
   "metadata": {},
   "outputs": [],
   "source": [
    "# Nomes das variáveis\n",
    "names(df_final) = c(variaveis_numericas_nomes,\n",
    "                    paste(\"REGION\", c(1:11),sep = \"\"),\n",
    "                    paste(\"ALCOHOL_HEAVY_DON\", c(1:3),sep = \"\"),\n",
    "                    paste(\"MALIG\", c(1:3), sep = \"\"),\n",
    "                    paste(\"LISTYR\", c(01:18), sep = \"\"))"
   ]
  },
  {
   "cell_type": "code",
   "execution_count": 141,
   "id": "72f2c6e7",
   "metadata": {},
   "outputs": [
    {
     "name": "stdout",
     "output_type": "stream",
     "text": [
      "       PTIME FINAL_MELD_SCORE  LiverSize LiverSizeDon REGION1 REGION2 REGION3\n",
      "10 -1.362525        0.8593326 -0.2861933     1.571131       0       0       0\n",
      "   REGION4 REGION5 REGION6 REGION7 REGION8 REGION9 REGION10 REGION11\n",
      "10       0       0       0       0       1       0        0        0\n",
      "   ALCOHOL_HEAVY_DON1 ALCOHOL_HEAVY_DON2 ALCOHOL_HEAVY_DON3 MALIG1 MALIG2\n",
      "10                  1                  0                  0      0      0\n",
      "   MALIG3 LISTYR1 LISTYR2 LISTYR3 LISTYR4 LISTYR5 LISTYR6 LISTYR7 LISTYR8\n",
      "10      1       0       0       0       0       0       0       0       0\n",
      "   LISTYR9 LISTYR10 LISTYR11 LISTYR12 LISTYR13 LISTYR14 LISTYR15 LISTYR16\n",
      "10       0        0        1        0        0        0        0        0\n",
      "   LISTYR17 LISTYR18\n",
      "10        0        0\n"
     ]
    }
   ],
   "source": [
    "# Divisão em dados de treino e teste\n",
    "index2 = sample(1:nrow(df_final), dim(df_final)[1]*.70)\n",
    "dados_treino2 = df_final[index2,]\n",
    "dados_teste2 = df_final[-index2,]\n",
    "print(dados_teste2[1,])"
   ]
  },
  {
   "cell_type": "code",
   "execution_count": 140,
   "id": "e8b74dec",
   "metadata": {},
   "outputs": [],
   "source": [
    "modelo_v2 = neuralnet::neuralnet(PTIME ~ ., \n",
    "                                  data = dados_treino2, \n",
    "                                  linear.output = TRUE,\n",
    "                                  hidden = 2,\n",
    "                                  stepmax = 1e7)"
   ]
  },
  {
   "cell_type": "code",
   "execution_count": 147,
   "id": "fcd9c37a",
   "metadata": {},
   "outputs": [
    {
     "data": {
      "image/png": "[encoded data removed]",
      "text/plain": [
       "plot without title"
      ]
     },
     "metadata": {},
     "output_type": "display_data"
    }
   ],
   "source": [
    "# Plot\n",
    "plot(modelo_v2,\n",
    "     col.entry.synapse = \"red\", \n",
    "     col.entry = \"brown\",\n",
    "     col.hidden = \"green\", \n",
    "     col.hidden.synapse = \"black\",\n",
    "     col.out = \"yellow\", \n",
    "     col.out.synapse = \"purple\",\n",
    "     col.intercept = \"green\", \n",
    "     fontsize = 10,\n",
    "     show.weights = TRUE ,\n",
    "     rep = \"best\")"
   ]
  },
  {
   "cell_type": "code",
   "execution_count": 153,
   "id": "7bb98b84",
   "metadata": {},
   "outputs": [
    {
     "data": {
      "text/html": [
       "<table>\n",
       "<thead><tr><th></th><th scope=col>ME</th><th scope=col>RMSE</th><th scope=col>MAE</th><th scope=col>MPE</th><th scope=col>MAPE</th></tr></thead>\n",
       "<tbody>\n",
       "\t<tr><th scope=row>Test set</th><td>-0.9983866</td><td>1.412044  </td><td>1.187451  </td><td>139.2369  </td><td>305.3614  </td></tr>\n",
       "</tbody>\n",
       "</table>\n"
      ],
      "text/latex": [
       "\\begin{tabular}{r|lllll}\n",
       "  & ME & RMSE & MAE & MPE & MAPE\\\\\n",
       "\\hline\n",
       "\tTest set & -0.9983866 & 1.412044   & 1.187451   & 139.2369   & 305.3614  \\\\\n",
       "\\end{tabular}\n"
      ],
      "text/markdown": [
       "\n",
       "| <!--/--> | ME | RMSE | MAE | MPE | MAPE |\n",
       "|---|---|---|---|---|---|\n",
       "| Test set | -0.9983866 | 1.412044   | 1.187451   | 139.2369   | 305.3614   |\n",
       "\n"
      ],
      "text/plain": [
       "         ME         RMSE     MAE      MPE      MAPE    \n",
       "Test set -0.9983866 1.412044 1.187451 139.2369 305.3614"
      ]
     },
     "metadata": {},
     "output_type": "display_data"
    }
   ],
   "source": [
    "# Com dados de treino\n",
    "modelo_v2_pred_1 = compute(modelo_v2, dados_treino2)\n",
    "accuracy(unlist(modelo_v2_pred_1), dados_treino2$PTIME)"
   ]
  },
  {
   "cell_type": "code",
   "execution_count": 152,
   "id": "1c7ea2ba",
   "metadata": {},
   "outputs": [
    {
     "data": {
      "text/html": [
       "<table>\n",
       "<thead><tr><th></th><th scope=col>ME</th><th scope=col>RMSE</th><th scope=col>MAE</th><th scope=col>MPE</th><th scope=col>MAPE</th></tr></thead>\n",
       "<tbody>\n",
       "\t<tr><th scope=row>Test set</th><td>-0.9972964</td><td>1.416469  </td><td>1.189762  </td><td>77.258    </td><td>384.0849  </td></tr>\n",
       "</tbody>\n",
       "</table>\n"
      ],
      "text/latex": [
       "\\begin{tabular}{r|lllll}\n",
       "  & ME & RMSE & MAE & MPE & MAPE\\\\\n",
       "\\hline\n",
       "\tTest set & -0.9972964 & 1.416469   & 1.189762   & 77.258     & 384.0849  \\\\\n",
       "\\end{tabular}\n"
      ],
      "text/markdown": [
       "\n",
       "| <!--/--> | ME | RMSE | MAE | MPE | MAPE |\n",
       "|---|---|---|---|---|---|\n",
       "| Test set | -0.9972964 | 1.416469   | 1.189762   | 77.258     | 384.0849   |\n",
       "\n"
      ],
      "text/plain": [
       "         ME         RMSE     MAE      MPE    MAPE    \n",
       "Test set -0.9972964 1.416469 1.189762 77.258 384.0849"
      ]
     },
     "metadata": {},
     "output_type": "display_data"
    }
   ],
   "source": [
    "# Com dados de teste\n",
    "modelo_v2_pred_2 = compute(modelo_v2, dados_teste2)\n",
    "accuracy(unlist(modelo_v2_pred_2), dados_teste2$PTIME)"
   ]
  },
  {
   "cell_type": "markdown",
   "id": "2ed148ce",
   "metadata": {},
   "source": [
    "<h2> Conclusão: A partir da análise e do modelo criado, é possível prever o tempo de sobrevivência dos pacientes 1 ano após receberem o transplante. <br/> <br/>\n",
    "\n",
    "O modelo de regressão linear apresentou uma taxa de erro menor e, portanto,  deve ser usado como versão final. </h2>"
   ]
  },
  {
   "cell_type": "code",
   "execution_count": null,
   "id": "cd800087",
   "metadata": {},
   "outputs": [],
   "source": []
  }
 ],
 "metadata": {
  "kernelspec": {
   "display_name": "R",
   "language": "R",
   "name": "ir"
  },
  "language_info": {
   "codemirror_mode": "r",
   "file_extension": ".r",
   "mimetype": "text/x-r-source",
   "name": "R",
   "pygments_lexer": "r",
   "version": "3.6.1"
  }
 },
 "nbformat": 4,
 "nbformat_minor": 5
}
